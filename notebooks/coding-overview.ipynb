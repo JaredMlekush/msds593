{
 "cells": [
  {
   "cell_type": "markdown",
   "metadata": {},
   "source": [
    "# Overview of topics in MSDS593\n",
    "\n",
    "<img src=\"https://mlbook.explained.ai/images/tools/lab1.png\" align=\"right\" width=\"150\">These notes are implemented as a live text / code entity called a notebook. In particular, I am running a [Jupyter Notebook](http://jupyterlab.readthedocs.io/en/latest/getting_started/overview.html) that I started by  typing `jupyter lab` from the command prompt in `Terminal`. That command should bring up a browser window that looks something like the image to the right. Clicking on the “Python 3” icon under the “Notebook” category, will create and open a new notebook window.\n",
    "\n",
    "During this course, some all of these notebooks will refer to data files on the web that you have to download or small data files in this course repository at `github.com`, which is where you are looking at this file from your browser. The data sits in the `data` subdirectory of the `notebooks` in the main directory of this repository."
   ]
  },
  {
   "cell_type": "markdown",
   "metadata": {},
   "source": [
    "## numpy\n",
    "\n",
    "Pandas uses NumPy in its implementation so it makes sense to take a look at numpy first. Numpy is how we will do most of our numerical computing. It provides flexible implementations of vectors and matrices (`ndarray`) and fast operations and functions for linear algebra, random number generation, etc..\n",
    "\n",
    "I always start with the following preamble in my notebooks or Python files:"
   ]
  },
  {
   "cell_type": "code",
   "execution_count": 1,
   "metadata": {},
   "outputs": [],
   "source": [
    "import numpy as np\n",
    "import pandas as pd"
   ]
  },
  {
   "cell_type": "markdown",
   "metadata": {},
   "source": [
    "That allows us to refer to numpy package elements with the shorthand `np` and the shorthand for pandas as `pd`.\n",
    "\n",
    "To give you a taste,  here's how we would create two vectors, add them together, and display the result:"
   ]
  },
  {
   "cell_type": "code",
   "execution_count": 24,
   "metadata": {},
   "outputs": [
    {
     "name": "stdout",
     "output_type": "stream",
     "text": [
      "<class 'numpy.ndarray'>\n",
      "(3,)\n"
     ]
    },
    {
     "data": {
      "text/plain": [
       "array([5, 7, 9])"
      ]
     },
     "execution_count": 24,
     "metadata": {},
     "output_type": "execute_result"
    }
   ],
   "source": [
    "a = np.array([1,2,3])\n",
    "b = np.array([4,5,6])\n",
    "print(type(a))\n",
    "print(a.shape)\n",
    "a + b   # or print(a + b)"
   ]
  },
  {
   "cell_type": "markdown",
   "metadata": {},
   "source": [
    "Here's a 2 x 3 matrix with random elements:"
   ]
  },
  {
   "cell_type": "code",
   "execution_count": 23,
   "metadata": {},
   "outputs": [
    {
     "name": "stdout",
     "output_type": "stream",
     "text": [
      "<class 'numpy.ndarray'>\n",
      "(2, 3)\n",
      "[[0.47412309 0.5095976  0.19151133]\n",
      " [0.5659787  0.00395192 0.82814404]]\n"
     ]
    }
   ],
   "source": [
    "C = np.random.rand(2,3)\n",
    "print(type(C))\n",
    "print(C.shape)\n",
    "print(C)"
   ]
  },
  {
   "cell_type": "markdown",
   "metadata": {},
   "source": [
    "And the following `@` operator does a matrix multiply $Ca$:"
   ]
  },
  {
   "cell_type": "code",
   "execution_count": 22,
   "metadata": {},
   "outputs": [
    {
     "data": {
      "text/plain": [
       "array([2.65771993, 3.47739585])"
      ]
     },
     "execution_count": 22,
     "metadata": {},
     "output_type": "execute_result"
    }
   ],
   "source": [
    "C @ a"
   ]
  },
  {
   "cell_type": "markdown",
   "metadata": {},
   "source": [
    "## pandas"
   ]
  },
  {
   "cell_type": "code",
   "execution_count": 30,
   "metadata": {},
   "outputs": [
    {
     "name": "stdout",
     "output_type": "stream",
     "text": [
      "<class 'pandas.core.frame.DataFrame'>\n"
     ]
    },
    {
     "data": {
      "text/html": [
       "<div>\n",
       "<style scoped>\n",
       "    .dataframe tbody tr th:only-of-type {\n",
       "        vertical-align: middle;\n",
       "    }\n",
       "\n",
       "    .dataframe tbody tr th {\n",
       "        vertical-align: top;\n",
       "    }\n",
       "\n",
       "    .dataframe thead th {\n",
       "        text-align: right;\n",
       "    }\n",
       "</style>\n",
       "<table border=\"1\" class=\"dataframe\">\n",
       "  <thead>\n",
       "    <tr style=\"text-align: right;\">\n",
       "      <th></th>\n",
       "      <th>MPG</th>\n",
       "      <th>CYL</th>\n",
       "      <th>ENG</th>\n",
       "      <th>WGT</th>\n",
       "    </tr>\n",
       "  </thead>\n",
       "  <tbody>\n",
       "    <tr>\n",
       "      <th>0</th>\n",
       "      <td>18.0</td>\n",
       "      <td>8</td>\n",
       "      <td>307.0</td>\n",
       "      <td>3504</td>\n",
       "    </tr>\n",
       "    <tr>\n",
       "      <th>1</th>\n",
       "      <td>15.0</td>\n",
       "      <td>8</td>\n",
       "      <td>350.0</td>\n",
       "      <td>3693</td>\n",
       "    </tr>\n",
       "    <tr>\n",
       "      <th>2</th>\n",
       "      <td>18.0</td>\n",
       "      <td>8</td>\n",
       "      <td>318.0</td>\n",
       "      <td>3436</td>\n",
       "    </tr>\n",
       "    <tr>\n",
       "      <th>3</th>\n",
       "      <td>16.0</td>\n",
       "      <td>8</td>\n",
       "      <td>304.0</td>\n",
       "      <td>3433</td>\n",
       "    </tr>\n",
       "    <tr>\n",
       "      <th>4</th>\n",
       "      <td>17.0</td>\n",
       "      <td>8</td>\n",
       "      <td>302.0</td>\n",
       "      <td>3449</td>\n",
       "    </tr>\n",
       "    <tr>\n",
       "      <th>...</th>\n",
       "      <td>...</td>\n",
       "      <td>...</td>\n",
       "      <td>...</td>\n",
       "      <td>...</td>\n",
       "    </tr>\n",
       "    <tr>\n",
       "      <th>387</th>\n",
       "      <td>27.0</td>\n",
       "      <td>4</td>\n",
       "      <td>140.0</td>\n",
       "      <td>2790</td>\n",
       "    </tr>\n",
       "    <tr>\n",
       "      <th>388</th>\n",
       "      <td>44.0</td>\n",
       "      <td>4</td>\n",
       "      <td>97.0</td>\n",
       "      <td>2130</td>\n",
       "    </tr>\n",
       "    <tr>\n",
       "      <th>389</th>\n",
       "      <td>32.0</td>\n",
       "      <td>4</td>\n",
       "      <td>135.0</td>\n",
       "      <td>2295</td>\n",
       "    </tr>\n",
       "    <tr>\n",
       "      <th>390</th>\n",
       "      <td>28.0</td>\n",
       "      <td>4</td>\n",
       "      <td>120.0</td>\n",
       "      <td>2625</td>\n",
       "    </tr>\n",
       "    <tr>\n",
       "      <th>391</th>\n",
       "      <td>31.0</td>\n",
       "      <td>4</td>\n",
       "      <td>119.0</td>\n",
       "      <td>2720</td>\n",
       "    </tr>\n",
       "  </tbody>\n",
       "</table>\n",
       "<p>392 rows × 4 columns</p>\n",
       "</div>"
      ],
      "text/plain": [
       "      MPG  CYL    ENG   WGT\n",
       "0    18.0    8  307.0  3504\n",
       "1    15.0    8  350.0  3693\n",
       "2    18.0    8  318.0  3436\n",
       "3    16.0    8  304.0  3433\n",
       "4    17.0    8  302.0  3449\n",
       "..    ...  ...    ...   ...\n",
       "387  27.0    4  140.0  2790\n",
       "388  44.0    4   97.0  2130\n",
       "389  32.0    4  135.0  2295\n",
       "390  28.0    4  120.0  2625\n",
       "391  31.0    4  119.0  2720\n",
       "\n",
       "[392 rows x 4 columns]"
      ]
     },
     "execution_count": 30,
     "metadata": {},
     "output_type": "execute_result"
    }
   ],
   "source": [
    "df_cars = pd.read_csv(\"data/cars.csv\")\n",
    "print(type(df_cars))\n",
    "df_cars"
   ]
  },
  {
   "cell_type": "code",
   "execution_count": 31,
   "metadata": {},
   "outputs": [
    {
     "name": "stdout",
     "output_type": "stream",
     "text": [
      "<class 'pandas.core.series.Series'>\n",
      "0      18.0\n",
      "1      15.0\n",
      "2      18.0\n",
      "3      16.0\n",
      "4      17.0\n",
      "       ... \n",
      "387    27.0\n",
      "388    44.0\n",
      "389    32.0\n",
      "390    28.0\n",
      "391    31.0\n",
      "Name: MPG, Length: 392, dtype: float64\n"
     ]
    }
   ],
   "source": [
    "mpg = df_cars['MPG']   # Get a column\n",
    "print(type(mpg))\n",
    "print(mpg)"
   ]
  },
  {
   "cell_type": "markdown",
   "metadata": {},
   "source": [
    "## matplotlib "
   ]
  },
  {
   "cell_type": "markdown",
   "metadata": {},
   "source": [
    "<img src=\"https://mlbook.explained.ai/images/first-taste/first-taste_go_5.svg\" width=\"200\"> <img src=\"https://mlbook.explained.ai/images/bulldozer-feateng/bulldozer-feateng_eng_36.svg\" width=\"200\"> <img src=\"https://mlbook.explained.ai/images/bulldozer-testing/bulldozer-testing_trend_1.svg\" width=\"350\">\n",
    "\n",
    "<img src=\"https://mlbook.explained.ai/images/first-taste/first-taste_class_6.svg\" width=\"200\"> <img src=\"https://mlbook.explained.ai/images/first-taste/first-taste_mnist_10.svg\" width=\"200\"> <img src=\"https://mlbook.explained.ai/images/prep/prep_logs_2.svg\" width=\"200\"> <img src=\"https://github.com/parrt/dtreeviz/raw/master/testing/samples/iris-TD-2.svg\" width=\"200\">\n",
    "\n",
    "<img src=\"https://mlbook.explained.ai/images/bulldozer-intro/bulldozer-intro_sniff_42.svg\" width=\"200\"> <img src=\"https://user-images.githubusercontent.com/178777/49105085-9792c680-f234-11e8-8af5-bc2fde950ab1.png\" width=\"200\"> <img src=\"https://mlbook.explained.ai/images/intro/mindist-decision-lines.svg\" width=\"200\">\n",
    "\n",
    "<img src=\"https://github.com/parrt/dtreeviz/raw/master/testing/samples/regr-leaf.png\" width=\"150\"> <img src=\"https://explained.ai/decision-tree-viz/images/bubble.png\" width=\"520\">\n",
    "\n",
    "<img src=\"https://mlbook.explained.ai/images/first-taste/first-taste_mnist_3.svg\" width=\"150\"> <img src=\"https://mlbook.explained.ai/images/first-taste/first-taste_mnist_6.svg\" width=\"200\">"
   ]
  },
  {
   "cell_type": "code",
   "execution_count": null,
   "metadata": {},
   "outputs": [],
   "source": [
    "import matplotlib.pyplot as plt"
   ]
  },
  {
   "cell_type": "code",
   "execution_count": null,
   "metadata": {},
   "outputs": [],
   "source": [
    "fig, ax = plt.subplots()  # make one subplot (ax) on the figure\n",
    "\n",
    "\n",
    "plt.show()"
   ]
  }
 ],
 "metadata": {
  "kernelspec": {
   "display_name": "Python 3",
   "language": "python",
   "name": "python3"
  },
  "language_info": {
   "codemirror_mode": {
    "name": "ipython",
    "version": 3
   },
   "file_extension": ".py",
   "mimetype": "text/x-python",
   "name": "python",
   "nbconvert_exporter": "python",
   "pygments_lexer": "ipython3",
   "version": "3.8.3"
  }
 },
 "nbformat": 4,
 "nbformat_minor": 4
}
