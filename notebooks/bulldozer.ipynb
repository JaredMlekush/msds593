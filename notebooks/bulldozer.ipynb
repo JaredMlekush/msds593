{
 "cells": [
  {
   "cell_type": "markdown",
   "metadata": {},
   "source": [
    "#   Exploring the bulldozer data set\n",
    "\n",
    "Let's explore another Kaggle data set [Blue Book for Bulldozers](https://www.kaggle.com/c/bluebook-for-bulldozers/data). This one is more challenging because it has lots of missing values and there are more opportunities to extract information  and cleanup various columns. There are 53 columns!"
   ]
  },
  {
   "cell_type": "markdown",
   "metadata": {},
   "source": [
    "## Loading this big data set\n",
    "\n",
    "Download `Train.zip` and unzip it into your `data` directory. For example, mine looks like:"
   ]
  },
  {
   "cell_type": "code",
   "execution_count": 1,
   "metadata": {},
   "outputs": [
    {
     "name": "stdout",
     "output_type": "stream",
     "text": [
      "total 365312\n",
      "-rw-r--r--@ 1 parrt  staff  116403970 Jan 24  2013 Train.csv\n",
      "-rw-r--r--@ 1 parrt  staff       5996 Aug 15 11:49 cars.csv\n",
      "-rw-r--r--+ 1 parrt  staff      21963 Aug 15 15:35 kaggle-uber-other-federal.csv\n",
      "-rw-r--r--@ 1 parrt  staff      35959 Aug 15 10:32 organdonation.csv\n",
      "-rw-r--r--@ 1 parrt  staff   70562621 Nov  1  2016 train.json\n"
     ]
    }
   ],
   "source": [
    "!ls -l data"
   ]
  },
  {
   "cell_type": "markdown",
   "metadata": {},
   "source": [
    "Notice that the `Train.csv` is significant bigger than the rent data set. In fact, we can ask how many lines there are in the CSV:"
   ]
  },
  {
   "cell_type": "code",
   "execution_count": 2,
   "metadata": {},
   "outputs": [
    {
     "name": "stdout",
     "output_type": "stream",
     "text": [
      "  401126 data/Train.csv\n",
      "     392 data/cars.csv\n",
      "     100 data/kaggle-uber-other-federal.csv\n",
      "     239 data/organdonation.csv\n",
      "  401857 total\n"
     ]
    }
   ],
   "source": [
    "! wc -l data/*.csv"
   ]
  },
  {
   "cell_type": "markdown",
   "metadata": {},
   "source": [
    "There are 401,125 records not including the header row. How do I know there is a header row? We can simply ask for the first row the file:"
   ]
  },
  {
   "cell_type": "code",
   "execution_count": 3,
   "metadata": {},
   "outputs": [
    {
     "name": "stdout",
     "output_type": "stream",
     "text": [
      "SalesID,SalePrice,MachineID,ModelID,datasource,auctioneerID,YearMade,MachineHoursCurrentMeter,UsageBand,saledate,fiModelDesc,fiBaseModel,fiSecondaryDesc,fiModelSeries,fiModelDescriptor,ProductSize,fiProductClassDesc,state,ProductGroup,ProductGroupDesc,Drive_System,Enclosure,Forks,Pad_Type,Ride_Control,Stick,Transmission,Turbocharged,Blade_Extension,Blade_Width,Enclosure_Type,Engine_Horsepower,Hydraulics,Pushblock,Ripper,Scarifier,Tip_Control,Tire_Size,Coupler,Coupler_System,Grouser_Tracks,Hydraulics_Flow,Track_Type,Undercarriage_Pad_Width,Stick_Length,Thumb,Pattern_Changer,Grouser_Type,Backhoe_Mounting,Blade_Type,Travel_Controls,Differential_Type,Steering_Controls\n"
     ]
    }
   ],
   "source": [
    "! head -1 data/Train.csv"
   ]
  },
  {
   "cell_type": "markdown",
   "metadata": {},
   "source": [
    "There is a data directory file also at Kaggle that explains those columns briefly. For now, let's just jump in and load the file:"
   ]
  },
  {
   "cell_type": "code",
   "execution_count": 4,
   "metadata": {},
   "outputs": [],
   "source": [
    "import numpy as np\n",
    "import pandas as pd\n",
    "import matplotlib.pyplot as plt\n",
    "\n",
    "#%config InlineBackend.figure_format = 'svg'   # svg vs png format make sharper images!\n",
    "%config InlineBackend.figure_format = 'retina' # much faster than svg when generating lots of points"
   ]
  },
  {
   "cell_type": "code",
   "execution_count": 5,
   "metadata": {},
   "outputs": [
    {
     "name": "stderr",
     "output_type": "stream",
     "text": [
      "/Users/parrt/opt/anaconda3/lib/python3.8/site-packages/IPython/core/interactiveshell.py:3071: DtypeWarning: Columns (13,39,40,41) have mixed types.Specify dtype option on import or set low_memory=False.\n",
      "  has_raised = await self.run_ast_nodes(code_ast.body, cell_name,\n"
     ]
    }
   ],
   "source": [
    "df_bull = pd.read_csv('data/Train.csv', parse_dates=['saledate'])"
   ]
  },
  {
   "cell_type": "markdown",
   "metadata": {},
   "source": [
    "Uh oh. It looks like some of the columns have elements with different types: 13,39,40,41. Let's look at those column names:"
   ]
  },
  {
   "cell_type": "code",
   "execution_count": 6,
   "metadata": {},
   "outputs": [
    {
     "data": {
      "text/plain": [
       "Index(['fiModelSeries', 'Coupler_System', 'Grouser_Tracks', 'Hydraulics_Flow'], dtype='object')"
      ]
     },
     "execution_count": 6,
     "metadata": {},
     "output_type": "execute_result"
    }
   ],
   "source": [
    "df_bull.columns[[13,39,40,41]]"
   ]
  },
  {
   "cell_type": "code",
   "execution_count": 7,
   "metadata": {},
   "outputs": [
    {
     "name": "stdout",
     "output_type": "stream",
     "text": [
      "[nan 'II' '-6E' 'LC' '-5' 'III' '-1' '5' '-2' '1']\n",
      "[nan 'None or Unspecified' 'Yes']\n",
      "[nan 'None or Unspecified' 'Yes']\n",
      "[nan 'Standard' 'High Flow' 'None or Unspecified']\n"
     ]
    }
   ],
   "source": [
    "for col in df_bull.columns[[13,39,40,41]]:\n",
    "    print(df_bull[col].unique()[0:10])"
   ]
  },
  {
   "cell_type": "markdown",
   "metadata": {},
   "source": [
    "Let's tell pandas that those columns are strings by creating a dictionary that maps those column names to the `str` type name:"
   ]
  },
  {
   "cell_type": "code",
   "execution_count": 8,
   "metadata": {},
   "outputs": [
    {
     "data": {
      "text/plain": [
       "{'fiModelSeries': str,\n",
       " 'Coupler_System': str,\n",
       " 'Grouser_Tracks': str,\n",
       " 'Hydraulics_Flow': str}"
      ]
     },
     "execution_count": 8,
     "metadata": {},
     "output_type": "execute_result"
    }
   ],
   "source": [
    "dtypes = {col:str for col in ['fiModelSeries', 'Coupler_System', 'Grouser_Tracks', 'Hydraulics_Flow']}\n",
    "dtypes"
   ]
  },
  {
   "cell_type": "markdown",
   "metadata": {},
   "source": [
    "And now we can reload using `dtype` argument:"
   ]
  },
  {
   "cell_type": "code",
   "execution_count": 9,
   "metadata": {},
   "outputs": [
    {
     "data": {
      "text/html": [
       "<div>\n",
       "<style scoped>\n",
       "    .dataframe tbody tr th:only-of-type {\n",
       "        vertical-align: middle;\n",
       "    }\n",
       "\n",
       "    .dataframe tbody tr th {\n",
       "        vertical-align: top;\n",
       "    }\n",
       "\n",
       "    .dataframe thead th {\n",
       "        text-align: right;\n",
       "    }\n",
       "</style>\n",
       "<table border=\"1\" class=\"dataframe\">\n",
       "  <thead>\n",
       "    <tr style=\"text-align: right;\">\n",
       "      <th></th>\n",
       "      <th>SalesID</th>\n",
       "      <th>SalePrice</th>\n",
       "      <th>MachineID</th>\n",
       "      <th>ModelID</th>\n",
       "      <th>datasource</th>\n",
       "      <th>auctioneerID</th>\n",
       "      <th>YearMade</th>\n",
       "      <th>MachineHoursCurrentMeter</th>\n",
       "      <th>UsageBand</th>\n",
       "      <th>saledate</th>\n",
       "      <th>...</th>\n",
       "      <th>Undercarriage_Pad_Width</th>\n",
       "      <th>Stick_Length</th>\n",
       "      <th>Thumb</th>\n",
       "      <th>Pattern_Changer</th>\n",
       "      <th>Grouser_Type</th>\n",
       "      <th>Backhoe_Mounting</th>\n",
       "      <th>Blade_Type</th>\n",
       "      <th>Travel_Controls</th>\n",
       "      <th>Differential_Type</th>\n",
       "      <th>Steering_Controls</th>\n",
       "    </tr>\n",
       "  </thead>\n",
       "  <tbody>\n",
       "    <tr>\n",
       "      <th>205615</th>\n",
       "      <td>1646770</td>\n",
       "      <td>9500</td>\n",
       "      <td>1126363</td>\n",
       "      <td>8434</td>\n",
       "      <td>132</td>\n",
       "      <td>18.0</td>\n",
       "      <td>1974</td>\n",
       "      <td>NaN</td>\n",
       "      <td>NaN</td>\n",
       "      <td>1989-01-17</td>\n",
       "      <td>...</td>\n",
       "      <td>NaN</td>\n",
       "      <td>NaN</td>\n",
       "      <td>NaN</td>\n",
       "      <td>NaN</td>\n",
       "      <td>NaN</td>\n",
       "      <td>None or Unspecified</td>\n",
       "      <td>Straight</td>\n",
       "      <td>None or Unspecified</td>\n",
       "      <td>NaN</td>\n",
       "      <td>NaN</td>\n",
       "    </tr>\n",
       "    <tr>\n",
       "      <th>92803</th>\n",
       "      <td>1404019</td>\n",
       "      <td>24000</td>\n",
       "      <td>1169900</td>\n",
       "      <td>7110</td>\n",
       "      <td>132</td>\n",
       "      <td>99.0</td>\n",
       "      <td>1986</td>\n",
       "      <td>NaN</td>\n",
       "      <td>NaN</td>\n",
       "      <td>1989-01-31</td>\n",
       "      <td>...</td>\n",
       "      <td>NaN</td>\n",
       "      <td>NaN</td>\n",
       "      <td>NaN</td>\n",
       "      <td>NaN</td>\n",
       "      <td>NaN</td>\n",
       "      <td>NaN</td>\n",
       "      <td>NaN</td>\n",
       "      <td>NaN</td>\n",
       "      <td>NaN</td>\n",
       "      <td>NaN</td>\n",
       "    </tr>\n",
       "  </tbody>\n",
       "</table>\n",
       "<p>2 rows × 53 columns</p>\n",
       "</div>"
      ],
      "text/plain": [
       "        SalesID  SalePrice  MachineID  ModelID  datasource  auctioneerID  \\\n",
       "205615  1646770       9500    1126363     8434         132          18.0   \n",
       "92803   1404019      24000    1169900     7110         132          99.0   \n",
       "\n",
       "        YearMade  MachineHoursCurrentMeter UsageBand   saledate  ...  \\\n",
       "205615      1974                       NaN       NaN 1989-01-17  ...   \n",
       "92803       1986                       NaN       NaN 1989-01-31  ...   \n",
       "\n",
       "       Undercarriage_Pad_Width Stick_Length Thumb Pattern_Changer  \\\n",
       "205615                     NaN          NaN   NaN             NaN   \n",
       "92803                      NaN          NaN   NaN             NaN   \n",
       "\n",
       "       Grouser_Type     Backhoe_Mounting Blade_Type      Travel_Controls  \\\n",
       "205615          NaN  None or Unspecified   Straight  None or Unspecified   \n",
       "92803           NaN                  NaN        NaN                  NaN   \n",
       "\n",
       "       Differential_Type Steering_Controls  \n",
       "205615               NaN               NaN  \n",
       "92803                NaN               NaN  \n",
       "\n",
       "[2 rows x 53 columns]"
      ]
     },
     "execution_count": 9,
     "metadata": {},
     "output_type": "execute_result"
    }
   ],
   "source": [
    "df_bull = pd.read_csv('data/Train.csv', dtype=dtypes, parse_dates=['saledate'])\n",
    "df_bull = df_bull.sort_values('saledate') # let's order them by sale date\n",
    "df_bull.head(2)"
   ]
  },
  {
   "cell_type": "code",
   "execution_count": 10,
   "metadata": {},
   "outputs": [
    {
     "data": {
      "text/html": [
       "<div>\n",
       "<style scoped>\n",
       "    .dataframe tbody tr th:only-of-type {\n",
       "        vertical-align: middle;\n",
       "    }\n",
       "\n",
       "    .dataframe tbody tr th {\n",
       "        vertical-align: top;\n",
       "    }\n",
       "\n",
       "    .dataframe thead th {\n",
       "        text-align: right;\n",
       "    }\n",
       "</style>\n",
       "<table border=\"1\" class=\"dataframe\">\n",
       "  <thead>\n",
       "    <tr style=\"text-align: right;\">\n",
       "      <th></th>\n",
       "      <th>SalePrice</th>\n",
       "      <th>MachineID</th>\n",
       "      <th>ModelID</th>\n",
       "      <th>datasource</th>\n",
       "      <th>auctioneerID</th>\n",
       "      <th>YearMade</th>\n",
       "      <th>MachineHoursCurrentMeter</th>\n",
       "      <th>UsageBand</th>\n",
       "      <th>saledate</th>\n",
       "      <th>fiModelDesc</th>\n",
       "      <th>...</th>\n",
       "      <th>Undercarriage_Pad_Width</th>\n",
       "      <th>Stick_Length</th>\n",
       "      <th>Thumb</th>\n",
       "      <th>Pattern_Changer</th>\n",
       "      <th>Grouser_Type</th>\n",
       "      <th>Backhoe_Mounting</th>\n",
       "      <th>Blade_Type</th>\n",
       "      <th>Travel_Controls</th>\n",
       "      <th>Differential_Type</th>\n",
       "      <th>Steering_Controls</th>\n",
       "    </tr>\n",
       "    <tr>\n",
       "      <th>SalesID</th>\n",
       "      <th></th>\n",
       "      <th></th>\n",
       "      <th></th>\n",
       "      <th></th>\n",
       "      <th></th>\n",
       "      <th></th>\n",
       "      <th></th>\n",
       "      <th></th>\n",
       "      <th></th>\n",
       "      <th></th>\n",
       "      <th></th>\n",
       "      <th></th>\n",
       "      <th></th>\n",
       "      <th></th>\n",
       "      <th></th>\n",
       "      <th></th>\n",
       "      <th></th>\n",
       "      <th></th>\n",
       "      <th></th>\n",
       "      <th></th>\n",
       "      <th></th>\n",
       "    </tr>\n",
       "  </thead>\n",
       "  <tbody>\n",
       "    <tr>\n",
       "      <th>1646770</th>\n",
       "      <td>9500</td>\n",
       "      <td>1126363</td>\n",
       "      <td>8434</td>\n",
       "      <td>132</td>\n",
       "      <td>18.0</td>\n",
       "      <td>1974</td>\n",
       "      <td>NaN</td>\n",
       "      <td>NaN</td>\n",
       "      <td>1989-01-17</td>\n",
       "      <td>TD20</td>\n",
       "      <td>...</td>\n",
       "      <td>NaN</td>\n",
       "      <td>NaN</td>\n",
       "      <td>NaN</td>\n",
       "      <td>NaN</td>\n",
       "      <td>NaN</td>\n",
       "      <td>None or Unspecified</td>\n",
       "      <td>Straight</td>\n",
       "      <td>None or Unspecified</td>\n",
       "      <td>NaN</td>\n",
       "      <td>NaN</td>\n",
       "    </tr>\n",
       "    <tr>\n",
       "      <th>1404019</th>\n",
       "      <td>24000</td>\n",
       "      <td>1169900</td>\n",
       "      <td>7110</td>\n",
       "      <td>132</td>\n",
       "      <td>99.0</td>\n",
       "      <td>1986</td>\n",
       "      <td>NaN</td>\n",
       "      <td>NaN</td>\n",
       "      <td>1989-01-31</td>\n",
       "      <td>416</td>\n",
       "      <td>...</td>\n",
       "      <td>NaN</td>\n",
       "      <td>NaN</td>\n",
       "      <td>NaN</td>\n",
       "      <td>NaN</td>\n",
       "      <td>NaN</td>\n",
       "      <td>NaN</td>\n",
       "      <td>NaN</td>\n",
       "      <td>NaN</td>\n",
       "      <td>NaN</td>\n",
       "      <td>NaN</td>\n",
       "    </tr>\n",
       "  </tbody>\n",
       "</table>\n",
       "<p>2 rows × 52 columns</p>\n",
       "</div>"
      ],
      "text/plain": [
       "         SalePrice  MachineID  ModelID  datasource  auctioneerID  YearMade  \\\n",
       "SalesID                                                                      \n",
       "1646770       9500    1126363     8434         132          18.0      1974   \n",
       "1404019      24000    1169900     7110         132          99.0      1986   \n",
       "\n",
       "         MachineHoursCurrentMeter UsageBand   saledate fiModelDesc  ...  \\\n",
       "SalesID                                                             ...   \n",
       "1646770                       NaN       NaN 1989-01-17        TD20  ...   \n",
       "1404019                       NaN       NaN 1989-01-31         416  ...   \n",
       "\n",
       "        Undercarriage_Pad_Width Stick_Length Thumb Pattern_Changer  \\\n",
       "SalesID                                                              \n",
       "1646770                     NaN          NaN   NaN             NaN   \n",
       "1404019                     NaN          NaN   NaN             NaN   \n",
       "\n",
       "        Grouser_Type     Backhoe_Mounting Blade_Type      Travel_Controls  \\\n",
       "SalesID                                                                     \n",
       "1646770          NaN  None or Unspecified   Straight  None or Unspecified   \n",
       "1404019          NaN                  NaN        NaN                  NaN   \n",
       "\n",
       "        Differential_Type Steering_Controls  \n",
       "SalesID                                      \n",
       "1646770               NaN               NaN  \n",
       "1404019               NaN               NaN  \n",
       "\n",
       "[2 rows x 52 columns]"
      ]
     },
     "execution_count": 10,
     "metadata": {},
     "output_type": "execute_result"
    }
   ],
   "source": [
    "df_bull = df_bull.set_index('SalesID')    # drop the default index and set to SalesID\n",
    "df_bull.head(2)                           # Note, not reordered, just reindexed"
   ]
  },
  {
   "cell_type": "markdown",
   "metadata": {},
   "source": [
    "## Initial sniff"
   ]
  },
  {
   "cell_type": "markdown",
   "metadata": {},
   "source": [
    "As usual, we need to identify the datatypes for the columns, at least as guest by pandas:"
   ]
  },
  {
   "cell_type": "code",
   "execution_count": 11,
   "metadata": {},
   "outputs": [
    {
     "name": "stdout",
     "output_type": "stream",
     "text": [
      "<class 'pandas.core.frame.DataFrame'>\n",
      "Int64Index: 401125 entries, 1646770 to 6312170\n",
      "Data columns (total 52 columns):\n",
      " #   Column                    Non-Null Count   Dtype         \n",
      "---  ------                    --------------   -----         \n",
      " 0   SalePrice                 401125 non-null  int64         \n",
      " 1   MachineID                 401125 non-null  int64         \n",
      " 2   ModelID                   401125 non-null  int64         \n",
      " 3   datasource                401125 non-null  int64         \n",
      " 4   auctioneerID              380989 non-null  float64       \n",
      " 5   YearMade                  401125 non-null  int64         \n",
      " 6   MachineHoursCurrentMeter  142765 non-null  float64       \n",
      " 7   UsageBand                 69639 non-null   object        \n",
      " 8   saledate                  401125 non-null  datetime64[ns]\n",
      " 9   fiModelDesc               401125 non-null  object        \n",
      " 10  fiBaseModel               401125 non-null  object        \n",
      " 11  fiSecondaryDesc           263934 non-null  object        \n",
      " 12  fiModelSeries             56908 non-null   object        \n",
      " 13  fiModelDescriptor         71919 non-null   object        \n",
      " 14  ProductSize               190350 non-null  object        \n",
      " 15  fiProductClassDesc        401125 non-null  object        \n",
      " 16  state                     401125 non-null  object        \n",
      " 17  ProductGroup              401125 non-null  object        \n",
      " 18  ProductGroupDesc          401125 non-null  object        \n",
      " 19  Drive_System              104361 non-null  object        \n",
      " 20  Enclosure                 400800 non-null  object        \n",
      " 21  Forks                     192077 non-null  object        \n",
      " 22  Pad_Type                  79134 non-null   object        \n",
      " 23  Ride_Control              148606 non-null  object        \n",
      " 24  Stick                     79134 non-null   object        \n",
      " 25  Transmission              183230 non-null  object        \n",
      " 26  Turbocharged              79134 non-null   object        \n",
      " 27  Blade_Extension           25219 non-null   object        \n",
      " 28  Blade_Width               25219 non-null   object        \n",
      " 29  Enclosure_Type            25219 non-null   object        \n",
      " 30  Engine_Horsepower         25219 non-null   object        \n",
      " 31  Hydraulics                320570 non-null  object        \n",
      " 32  Pushblock                 25219 non-null   object        \n",
      " 33  Ripper                    104137 non-null  object        \n",
      " 34  Scarifier                 25230 non-null   object        \n",
      " 35  Tip_Control               25219 non-null   object        \n",
      " 36  Tire_Size                 94718 non-null   object        \n",
      " 37  Coupler                   213952 non-null  object        \n",
      " 38  Coupler_System            43458 non-null   object        \n",
      " 39  Grouser_Tracks            43362 non-null   object        \n",
      " 40  Hydraulics_Flow           43362 non-null   object        \n",
      " 41  Track_Type                99153 non-null   object        \n",
      " 42  Undercarriage_Pad_Width   99872 non-null   object        \n",
      " 43  Stick_Length              99218 non-null   object        \n",
      " 44  Thumb                     99288 non-null   object        \n",
      " 45  Pattern_Changer           99218 non-null   object        \n",
      " 46  Grouser_Type              99153 non-null   object        \n",
      " 47  Backhoe_Mounting          78672 non-null   object        \n",
      " 48  Blade_Type                79833 non-null   object        \n",
      " 49  Travel_Controls           79834 non-null   object        \n",
      " 50  Differential_Type         69411 non-null   object        \n",
      " 51  Steering_Controls         69369 non-null   object        \n",
      "dtypes: datetime64[ns](1), float64(2), int64(5), object(44)\n",
      "memory usage: 162.2+ MB\n"
     ]
    }
   ],
   "source": [
    "df_bull.info()"
   ]
  },
  {
   "cell_type": "markdown",
   "metadata": {},
   "source": [
    "Next, how much data is missing from the data set (keeping in mind that there might be some sentinel values in there that mean *missing*  but are physically there)?"
   ]
  },
  {
   "cell_type": "code",
   "execution_count": 12,
   "metadata": {},
   "outputs": [
    {
     "data": {
      "text/plain": [
       "SalePrice                    0.000000\n",
       "MachineID                    0.000000\n",
       "ModelID                      0.000000\n",
       "datasource                   0.000000\n",
       "auctioneerID                 5.019882\n",
       "YearMade                     0.000000\n",
       "MachineHoursCurrentMeter    64.408850\n",
       "UsageBand                   82.639078\n",
       "saledate                     0.000000\n",
       "fiModelDesc                  0.000000\n",
       "fiBaseModel                  0.000000\n",
       "fiSecondaryDesc             34.201558\n",
       "fiModelSeries               85.812901\n",
       "fiModelDescriptor           82.070676\n",
       "ProductSize                 52.545964\n",
       "fiProductClassDesc           0.000000\n",
       "state                        0.000000\n",
       "ProductGroup                 0.000000\n",
       "ProductGroupDesc             0.000000\n",
       "Drive_System                73.982923\n",
       "Enclosure                    0.081022\n",
       "Forks                       52.115425\n",
       "Pad_Type                    80.271985\n",
       "Ride_Control                62.952696\n",
       "Stick                       80.271985\n",
       "Transmission                54.320972\n",
       "Turbocharged                80.271985\n",
       "Blade_Extension             93.712932\n",
       "Blade_Width                 93.712932\n",
       "Enclosure_Type              93.712932\n",
       "Engine_Horsepower           93.712932\n",
       "Hydraulics                  20.082269\n",
       "Pushblock                   93.712932\n",
       "Ripper                      74.038766\n",
       "Scarifier                   93.710190\n",
       "Tip_Control                 93.712932\n",
       "Tire_Size                   76.386912\n",
       "Coupler                     46.662013\n",
       "Coupler_System              89.165971\n",
       "Grouser_Tracks              89.189903\n",
       "Hydraulics_Flow             89.189903\n",
       "Track_Type                  75.281271\n",
       "Undercarriage_Pad_Width     75.102026\n",
       "Stick_Length                75.265067\n",
       "Thumb                       75.247616\n",
       "Pattern_Changer             75.265067\n",
       "Grouser_Type                75.281271\n",
       "Backhoe_Mounting            80.387161\n",
       "Blade_Type                  80.097725\n",
       "Travel_Controls             80.097476\n",
       "Differential_Type           82.695918\n",
       "Steering_Controls           82.706388\n",
       "dtype: float64"
      ]
     },
     "execution_count": 12,
     "metadata": {},
     "output_type": "execute_result"
    }
   ],
   "source": [
    "df_bull.isnull().sum() / len(df_bull) * 100 # show percent missing"
   ]
  },
  {
   "cell_type": "markdown",
   "metadata": {},
   "source": [
    "Wow.  Some of those columns are almost completely missing values! For example, `Enclosure_Type` is about 94% missing.  Some of the obvious, physically present but still missing, sentinel values are strings like `None or Unspecified`.  For example:"
   ]
  },
  {
   "cell_type": "code",
   "execution_count": 13,
   "metadata": {},
   "outputs": [
    {
     "data": {
      "text/plain": [
       "Ripper              None or Unspecified\n",
       "Backhoe_Mounting    None or Unspecified\n",
       "Travel_Controls     None or Unspecified\n",
       "Name: 1646770, dtype: object"
      ]
     },
     "execution_count": 13,
     "metadata": {},
     "output_type": "execute_result"
    }
   ],
   "source": [
    "df_bull.iloc[0][['Ripper','Backhoe_Mounting','Travel_Controls']]"
   ]
  },
  {
   "cell_type": "markdown",
   "metadata": {},
   "source": [
    "Columns such as `SalesID` and `ModelID` are represented as integers (int64), but they are really nominal categorical variables. Model 8434 is not somehow greater than model 8433.\n",
    "\n",
    "There are also columns represented as strings that contain numeric values, such as `Hydraulics` (“2 Valve”). Other columns are represented as strings but are actually purely numeric but with units such as feet or inches. For example, the values in column `Tire_Size` should be converted to just the number of inches:"
   ]
  },
  {
   "cell_type": "code",
   "execution_count": 14,
   "metadata": {},
   "outputs": [
    {
     "data": {
      "text/plain": [
       "array([nan, '14\"', 'None or Unspecified', '20.5', '23.5', '26.5', '17.5',\n",
       "       '29.5', '13\"', '20.5\"', '23.5\"', '17.5\"', '15.5', '15.5\"', '7.0\"',\n",
       "       '23.1\"', '10\"', '10 inch'], dtype=object)"
      ]
     },
     "execution_count": 14,
     "metadata": {},
     "output_type": "execute_result"
    }
   ],
   "source": [
    "df_bull['Tire_Size'].unique()"
   ]
  },
  {
   "cell_type": "markdown",
   "metadata": {},
   "source": [
    "In practice, I would look through all of the unique values for each column to get an understanding of the data."
   ]
  },
  {
   "cell_type": "markdown",
   "metadata": {},
   "source": [
    "## Cleaning up"
   ]
  },
  {
   "cell_type": "markdown",
   "metadata": {},
   "source": [
    "### Cleaning string variables"
   ]
  },
  {
   "cell_type": "markdown",
   "metadata": {},
   "source": [
    "We are going to convert strings that represent categorical variables to actual categorical columns, but we need to normalize them first so that there is exactly one way to say missing and things are not confused by upper and lower case etc. After digging through the data set, I found a number of things we should fix. E.g., columns `fiSecondaryDesc` and `fiModelSeries` even have a value of `#NAME?`. Let's look at three columns we will convert to categoricals:"
   ]
  },
  {
   "cell_type": "code",
   "execution_count": 15,
   "metadata": {},
   "outputs": [],
   "source": [
    "df = df_bull.copy()\n",
    "df['auctioneerID'] = df_bull['auctioneerID'].astype('category')"
   ]
  },
  {
   "cell_type": "code",
   "execution_count": 16,
   "metadata": {},
   "outputs": [
    {
     "data": {
      "text/plain": [
       "array(['TTT', 'BL', 'MG', 'WL', 'TEX', 'SSL'], dtype=object)"
      ]
     },
     "execution_count": 16,
     "metadata": {},
     "output_type": "execute_result"
    }
   ],
   "source": [
    "df['ProductGroup'].unique()"
   ]
  },
  {
   "cell_type": "code",
   "execution_count": 17,
   "metadata": {},
   "outputs": [
    {
     "data": {
      "text/plain": [
       "array([nan, 'Two Wheel Drive', 'No', 'Four Wheel Drive',\n",
       "       'All Wheel Drive'], dtype=object)"
      ]
     },
     "execution_count": 17,
     "metadata": {},
     "output_type": "execute_result"
    }
   ],
   "source": [
    "df['Drive_System'].unique()"
   ]
  },
  {
   "cell_type": "code",
   "execution_count": 18,
   "metadata": {},
   "outputs": [
    {
     "data": {
      "text/plain": [
       "array(['None or Unspecified', nan, 'Yes'], dtype=object)"
      ]
     },
     "execution_count": 18,
     "metadata": {},
     "output_type": "execute_result"
    }
   ],
   "source": [
    "df['Backhoe_Mounting'].unique()"
   ]
  },
  {
   "cell_type": "markdown",
   "metadata": {},
   "source": [
    "I have encapsulated my string normalization in a nice function:"
   ]
  },
  {
   "cell_type": "code",
   "execution_count": 19,
   "metadata": {},
   "outputs": [],
   "source": [
    "def df_normalize_strings(df, col):\n",
    "    df[col] = df[col].str.lower()\n",
    "    df[col] = df[col].fillna(np.nan) # make None -> np.nan\n",
    "    df[col] = df[col].replace('none or unspecified', np.nan)\n",
    "    df[col] = df[col].replace('none', np.nan)\n",
    "    df[col] = df[col].replace('#name?', np.nan)\n",
    "    df[col] = df[col].replace('', np.nan)"
   ]
  },
  {
   "cell_type": "code",
   "execution_count": 20,
   "metadata": {},
   "outputs": [],
   "source": [
    "df_normalize_strings(df, 'ProductGroup')\n",
    "df_normalize_strings(df, 'Drive_System')\n",
    "df_normalize_strings(df, 'Backhoe_Mounting')\n",
    "df_normalize_strings(df, 'fiSecondaryDesc')\n",
    "df_normalize_strings(df, 'fiModelSeries')"
   ]
  },
  {
   "cell_type": "markdown",
   "metadata": {},
   "source": [
    "Ok, getting back to the categorical variables, we can see that they are nicely normalized now:"
   ]
  },
  {
   "cell_type": "code",
   "execution_count": 21,
   "metadata": {},
   "outputs": [
    {
     "data": {
      "text/plain": [
       "array(['ttt', 'bl', 'mg', 'wl', 'tex', 'ssl'], dtype=object)"
      ]
     },
     "execution_count": 21,
     "metadata": {},
     "output_type": "execute_result"
    }
   ],
   "source": [
    "df['ProductGroup'].unique()"
   ]
  },
  {
   "cell_type": "code",
   "execution_count": 22,
   "metadata": {},
   "outputs": [
    {
     "data": {
      "text/plain": [
       "array([nan, 'two wheel drive', 'no', 'four wheel drive',\n",
       "       'all wheel drive'], dtype=object)"
      ]
     },
     "execution_count": 22,
     "metadata": {},
     "output_type": "execute_result"
    }
   ],
   "source": [
    "df['Drive_System'].unique()"
   ]
  },
  {
   "cell_type": "code",
   "execution_count": 23,
   "metadata": {},
   "outputs": [
    {
     "data": {
      "text/plain": [
       "array([nan, 'yes'], dtype=object)"
      ]
     },
     "execution_count": 23,
     "metadata": {},
     "output_type": "execute_result"
    }
   ],
   "source": [
    "df['Backhoe_Mounting'].unique()"
   ]
  },
  {
   "cell_type": "markdown",
   "metadata": {},
   "source": [
    "### Setting the type of categorical variables\n",
    "\n",
    "Now that we have normalized strings, we can convert them to categorical variables:"
   ]
  },
  {
   "cell_type": "code",
   "execution_count": 24,
   "metadata": {},
   "outputs": [],
   "source": [
    "df['ProductGroup'] = df['ProductGroup'].astype('category')\n",
    "df['Drive_System'] = df['Drive_System'].astype('category')\n",
    "df['Backhoe_Mounting'] = df['Backhoe_Mounting'].astype('category')"
   ]
  },
  {
   "cell_type": "markdown",
   "metadata": {},
   "source": [
    "### Extracting numerical information from strings\n",
    "\n",
    "Some strings are actually numeric values, but include unit names or symbols that force the dataframe to treat them as strings:"
   ]
  },
  {
   "cell_type": "code",
   "execution_count": 25,
   "metadata": {},
   "outputs": [
    {
     "name": "stdout",
     "output_type": "stream",
     "text": [
      "[nan '14\"' 'None or Unspecified' '20.5' '23.5' '26.5' '17.5' '29.5' '13\"'\n",
      " '20.5\"' '23.5\"' '17.5\"' '15.5' '15.5\"' '7.0\"' '23.1\"' '10\"' '10 inch']\n",
      "[nan 'None or Unspecified' '24 inch' '30 inch' '28 inch' '36 inch'\n",
      " '20 inch' '31 inch' '32 inch' '22 inch' '34 inch' '27 inch' '26 inch'\n",
      " '15 inch' '16 inch' '25 inch' '18 inch' '33 inch' '14 inch' '31.5 inch']\n"
     ]
    }
   ],
   "source": [
    "print(df['Tire_Size'].unique())\n",
    "print(df['Undercarriage_Pad_Width'].unique())"
   ]
  },
  {
   "cell_type": "markdown",
   "metadata": {},
   "source": [
    "The easiest and most concise way to extract the numerical components out of any of those strings, is with regular expression pattern matching. The regular expression were going to use is `'([0-9.]*)'` and let me pull that apart for you. The square brackets `[0-9.]` represent the set of digits and the period. The `*` suffix operator indicates \"zero or more\" of those characters. The `(...)` means capture what was matched by that expression. The Python code:\n",
    "\n",
    "```\n",
    "df[colname].str.extract('([0-9.]*)', expand=True)\n",
    "```\n",
    "\n",
    "Returns a column (because of `expand`) of the values extracted from `df[colname]`. Here's a handy function:"
   ]
  },
  {
   "cell_type": "code",
   "execution_count": 26,
   "metadata": {},
   "outputs": [],
   "source": [
    "def extract_sizes(df, colname):\n",
    "    df[colname] = df[colname].str.extract('([0-9.]*)', expand=True)\n",
    "    df[colname] = df[colname].replace('', np.nan) # empty -> NaN\n",
    "    df[colname] = pd.to_numeric(df[colname]) # convert to number"
   ]
  },
  {
   "cell_type": "code",
   "execution_count": 27,
   "metadata": {},
   "outputs": [
    {
     "name": "stdout",
     "output_type": "stream",
     "text": [
      "Tire_Size [ nan 14.  20.5 23.5 26.5 17.5 29.5 13.  15.5  7.  23.1 10. ]\n",
      "Undercarriage_Pad_Width [ nan 24.  30.  28.  36.  20.  31.  32.  22.  34.  27.  26.  15.  16.\n",
      " 25.  18.  33.  14.  31.5]\n"
     ]
    }
   ],
   "source": [
    "extract_sizes(df, 'Tire_Size')\n",
    "extract_sizes(df, 'Undercarriage_Pad_Width')\n",
    "print(\"Tire_Size\", df['Tire_Size'].unique())\n",
    "print(\"Undercarriage_Pad_Width\", df['Undercarriage_Pad_Width'].unique())"
   ]
  },
  {
   "cell_type": "markdown",
   "metadata": {},
   "source": [
    "### Cleaning up missing numerical data\n",
    "\n",
    "There is lots of missing numerical data in this data set. How we deal with such missing data depends on our goal. If we are doing predictive modeling, we have very specific needs depending on the model.  For our purposes, we can simply replace missing values with the median of that column, just to learn some useful techniques.\n",
    "\n",
    "The logic behind using the median is that we have to choose a number and so we might as well choose a number that's not going to skew the distribution of the data in that column. We also don't want to choose an extreme value that a model might latch onto as predictive.\n",
    "\n",
    "Let's replace missing values in `Tire_Size` with its median. First, look at the unique values:"
   ]
  },
  {
   "cell_type": "code",
   "execution_count": 28,
   "metadata": {},
   "outputs": [
    {
     "data": {
      "text/plain": [
       "array([ nan, 14. , 20.5, 23.5, 26.5, 17.5, 29.5, 13. , 15.5,  7. , 23.1,\n",
       "       10. ])"
      ]
     },
     "execution_count": 28,
     "metadata": {},
     "output_type": "execute_result"
    }
   ],
   "source": [
    "df['Tire_Size'].unique()"
   ]
  },
  {
   "cell_type": "code",
   "execution_count": 29,
   "metadata": {},
   "outputs": [
    {
     "data": {
      "text/plain": [
       "array([20.5, 14. , 23.5, 26.5, 17.5, 29.5, 13. , 15.5,  7. , 23.1, 10. ])"
      ]
     },
     "execution_count": 29,
     "metadata": {},
     "output_type": "execute_result"
    }
   ],
   "source": [
    "m = df['Tire_Size'].median()  # 20.5\n",
    "df['Tire_Size'] = df['Tire_Size'].fillna(m)\n",
    "df['Tire_Size'].unique()"
   ]
  },
  {
   "cell_type": "markdown",
   "metadata": {},
   "source": [
    "`YearMade` also has no obvious missing values, but something more subtle is going on here."
   ]
  },
  {
   "cell_type": "code",
   "execution_count": 30,
   "metadata": {},
   "outputs": [
    {
     "data": {
      "text/plain": [
       "False"
      ]
     },
     "execution_count": 30,
     "metadata": {},
     "output_type": "execute_result"
    }
   ],
   "source": [
    "df['YearMade'].isnull().any()"
   ]
  },
  {
   "cell_type": "markdown",
   "metadata": {},
   "source": [
    "Let's look at a histogram to get an idea of the distribution:"
   ]
  },
  {
   "cell_type": "code",
   "execution_count": 31,
   "metadata": {},
   "outputs": [
    {
     "data": {
      "image/png": "[encoded data removed]",
      "text/plain": [
       "<Figure size 216x144 with 1 Axes>"
      ]
     },
     "metadata": {
      "image/png": {
       "height": 153,
       "width": 230
      },
      "needs_background": "light"
     },
     "output_type": "display_data"
    }
   ],
   "source": [
    "fig, ax = plt.subplots(nrows=1, ncols=1, figsize=(3,2))\n",
    "ax.hist(df['YearMade'], bins=50)\n",
    "ax.set_xlabel(\"YearMade\")\n",
    "plt.show()"
   ]
  },
  {
   "cell_type": "markdown",
   "metadata": {},
   "source": [
    "It's unlikely that humans were manufacturing bulldozers in the year 1000. Either the seller does not want to admit the age or does not know the age of the bulldozer.  \n",
    "\n",
    "<img src=\"images/redbang.png\" width=\"30\" align=\"left\"> Sometimes a missing value is actually valuable information. For example, we can see that the median price for bulldozers without the year specified, are worth significantly less than those with year specified:"
   ]
  },
  {
   "cell_type": "code",
   "execution_count": 32,
   "metadata": {},
   "outputs": [
    {
     "data": {
      "text/plain": [
       "(15500.0, 25000.0)"
      ]
     },
     "execution_count": 32,
     "metadata": {},
     "output_type": "execute_result"
    }
   ],
   "source": [
    "df_yr_missing = df.loc[df['YearMade']==1000]\n",
    "df_yr_ok = df.loc[df['YearMade']>1000]\n",
    "\n",
    "df_yr_missing['SalePrice'].median(), df_yr_ok['SalePrice'].median()"
   ]
  },
  {
   "cell_type": "markdown",
   "metadata": {},
   "source": [
    "It's unclear why someone chose an indicator value of 1000 instead of 0 or -1, but we can fix this problem by replacing 1000 with the median and even going so far as to create a special column that indicates we have replaced a missing value (the technique we'll use for predictive modeling with random forests):"
   ]
  },
  {
   "cell_type": "code",
   "execution_count": 33,
   "metadata": {},
   "outputs": [],
   "source": [
    "df.loc[df['YearMade']==1000, 'YearMade_na'] = pd.isnull(df['YearMade'])\n",
    "df.loc[df['YearMade']==1000, 'YearMade'] = df['YearMade'].median()"
   ]
  },
  {
   "cell_type": "code",
   "execution_count": 51,
   "metadata": {},
   "outputs": [
    {
     "data": {
      "image/png": "[encoded data removed]",
      "text/plain": [
       "<Figure size 216x144 with 1 Axes>"
      ]
     },
     "metadata": {
      "image/png": {
       "height": 153,
       "width": 221
      },
      "needs_background": "light"
     },
     "output_type": "display_data"
    }
   ],
   "source": [
    "fig, ax = plt.subplots(nrows=1, ncols=1, figsize=(3,2))\n",
    "ax.hist(df['YearMade'], bins=50)\n",
    "ax.set_xlabel(\"YearMade\")\n",
    "ax.axvline(1995, c='red', lw=.8)\n",
    "ax.text(1995, 40000, \"median\")\n",
    "plt.show()"
   ]
  },
  {
   "cell_type": "markdown",
   "metadata": {},
   "source": [
    "There's one last problem with this column. Some records indicate that the bulldozer was sold before it was made:"
   ]
  },
  {
   "cell_type": "code",
   "execution_count": 36,
   "metadata": {},
   "outputs": [
    {
     "data": {
      "text/html": [
       "<div>\n",
       "<style scoped>\n",
       "    .dataframe tbody tr th:only-of-type {\n",
       "        vertical-align: middle;\n",
       "    }\n",
       "\n",
       "    .dataframe tbody tr th {\n",
       "        vertical-align: top;\n",
       "    }\n",
       "\n",
       "    .dataframe thead th {\n",
       "        text-align: right;\n",
       "    }\n",
       "</style>\n",
       "<table border=\"1\" class=\"dataframe\">\n",
       "  <thead>\n",
       "    <tr style=\"text-align: right;\">\n",
       "      <th></th>\n",
       "      <th>SalePrice</th>\n",
       "      <th>YearMade</th>\n",
       "      <th>saledate</th>\n",
       "    </tr>\n",
       "    <tr>\n",
       "      <th>SalesID</th>\n",
       "      <th></th>\n",
       "      <th></th>\n",
       "      <th></th>\n",
       "    </tr>\n",
       "  </thead>\n",
       "  <tbody>\n",
       "    <tr>\n",
       "      <th>1766755</th>\n",
       "      <td>100000</td>\n",
       "      <td>2002</td>\n",
       "      <td>1995-08-11</td>\n",
       "    </tr>\n",
       "    <tr>\n",
       "      <th>1672382</th>\n",
       "      <td>12000</td>\n",
       "      <td>2008</td>\n",
       "      <td>1996-02-08</td>\n",
       "    </tr>\n",
       "    <tr>\n",
       "      <th>1656135</th>\n",
       "      <td>26500</td>\n",
       "      <td>1998</td>\n",
       "      <td>1996-02-21</td>\n",
       "    </tr>\n",
       "    <tr>\n",
       "      <th>1725834</th>\n",
       "      <td>22500</td>\n",
       "      <td>2006</td>\n",
       "      <td>1996-07-16</td>\n",
       "    </tr>\n",
       "    <tr>\n",
       "      <th>1256766</th>\n",
       "      <td>27000</td>\n",
       "      <td>1997</td>\n",
       "      <td>1996-12-13</td>\n",
       "    </tr>\n",
       "    <tr>\n",
       "      <th>1607397</th>\n",
       "      <td>72000</td>\n",
       "      <td>1998</td>\n",
       "      <td>1997-05-29</td>\n",
       "    </tr>\n",
       "    <tr>\n",
       "      <th>1748962</th>\n",
       "      <td>27000</td>\n",
       "      <td>2008</td>\n",
       "      <td>1997-12-15</td>\n",
       "    </tr>\n",
       "    <tr>\n",
       "      <th>1380049</th>\n",
       "      <td>29000</td>\n",
       "      <td>2000</td>\n",
       "      <td>1999-10-14</td>\n",
       "    </tr>\n",
       "    <tr>\n",
       "      <th>1662009</th>\n",
       "      <td>8500</td>\n",
       "      <td>2008</td>\n",
       "      <td>2001-10-06</td>\n",
       "    </tr>\n",
       "    <tr>\n",
       "      <th>1582210</th>\n",
       "      <td>60000</td>\n",
       "      <td>2006</td>\n",
       "      <td>2005-02-15</td>\n",
       "    </tr>\n",
       "    <tr>\n",
       "      <th>2234757</th>\n",
       "      <td>43750</td>\n",
       "      <td>2009</td>\n",
       "      <td>2008-08-05</td>\n",
       "    </tr>\n",
       "    <tr>\n",
       "      <th>2226857</th>\n",
       "      <td>35000</td>\n",
       "      <td>2012</td>\n",
       "      <td>2010-05-06</td>\n",
       "    </tr>\n",
       "    <tr>\n",
       "      <th>6275685</th>\n",
       "      <td>55000</td>\n",
       "      <td>2013</td>\n",
       "      <td>2011-12-07</td>\n",
       "    </tr>\n",
       "  </tbody>\n",
       "</table>\n",
       "</div>"
      ],
      "text/plain": [
       "         SalePrice  YearMade   saledate\n",
       "SalesID                                \n",
       "1766755     100000      2002 1995-08-11\n",
       "1672382      12000      2008 1996-02-08\n",
       "1656135      26500      1998 1996-02-21\n",
       "1725834      22500      2006 1996-07-16\n",
       "1256766      27000      1997 1996-12-13\n",
       "1607397      72000      1998 1997-05-29\n",
       "1748962      27000      2008 1997-12-15\n",
       "1380049      29000      2000 1999-10-14\n",
       "1662009       8500      2008 2001-10-06\n",
       "1582210      60000      2006 2005-02-15\n",
       "2234757      43750      2009 2008-08-05\n",
       "2226857      35000      2012 2010-05-06\n",
       "6275685      55000      2013 2011-12-07"
      ]
     },
     "execution_count": 36,
     "metadata": {},
     "output_type": "execute_result"
    }
   ],
   "source": [
    "# ignore the ones we flipped to be 1995, the median\n",
    "df_yr_ok.query(\"saledate.dt.year < YearMade\")[['SalePrice','YearMade','saledate']]"
   ]
  },
  {
   "cell_type": "markdown",
   "metadata": {},
   "source": [
    "## NaN can be tricky"
   ]
  },
  {
   "cell_type": "markdown",
   "metadata": {},
   "source": [
    "sum of all NaN => NaN\n",
    "11:28\n",
    "if there is a single non-NaN value => the actual sum and NaN treated as zero. (edited) \n",
    "11:29\n",
    "for count, count = count NOT NaN. \n",
    "\n",
    "max/min/avg\n",
    "\n",
    "min/max of the string is alphabetical"
   ]
  }
 ],
 "metadata": {
  "kernelspec": {
   "display_name": "Python 3",
   "language": "python",
   "name": "python3"
  },
  "language_info": {
   "codemirror_mode": {
    "name": "ipython",
    "version": 3
   },
   "file_extension": ".py",
   "mimetype": "text/x-python",
   "name": "python",
   "nbconvert_exporter": "python",
   "pygments_lexer": "ipython3",
   "version": "3.8.3"
  }
 },
 "nbformat": 4,
 "nbformat_minor": 4
}
