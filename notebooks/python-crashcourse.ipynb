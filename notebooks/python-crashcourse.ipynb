{
 "cells": [
  {
   "cell_type": "markdown",
   "metadata": {},
   "source": [
    "# Crash course in Python used in EDA\n",
    "\n",
    "We are going to be moving quickly through exploratory data analysis, which will necessarily assume some competence in key areas a Python. I've tried to include a number of the key Python elements in this notebook for you. We will go over this in class, but I suggest in your infinite spare time you review it and."
   ]
  },
  {
   "cell_type": "markdown",
   "metadata": {},
   "source": [
    "## Assignment versus expression\n",
    "\n",
    "The simplest assignments look like *variable* = *expression* where *expression* can be arbitrarily complex:"
   ]
  },
  {
   "cell_type": "code",
   "execution_count": 17,
   "metadata": {},
   "outputs": [],
   "source": [
    "x = 10                   # an assignment with simple right-hand side"
   ]
  },
  {
   "cell_type": "code",
   "execution_count": 22,
   "metadata": {},
   "outputs": [],
   "source": [
    "y = sum([1,10,100,1000]) # an assignment with more complex right-hand side"
   ]
  },
  {
   "cell_type": "code",
   "execution_count": 19,
   "metadata": {},
   "outputs": [
    {
     "data": {
      "text/plain": [
       "10"
      ]
     },
     "execution_count": 19,
     "metadata": {},
     "output_type": "execute_result"
    }
   ],
   "source": [
    "x      # an expression"
   ]
  },
  {
   "cell_type": "code",
   "execution_count": 20,
   "metadata": {},
   "outputs": [
    {
     "data": {
      "text/plain": [
       "15.0"
      ]
     },
     "execution_count": 20,
     "metadata": {},
     "output_type": "execute_result"
    }
   ],
   "source": [
    "x*1.5 # an expression"
   ]
  },
  {
   "cell_type": "code",
   "execution_count": 23,
   "metadata": {},
   "outputs": [
    {
     "data": {
      "text/plain": [
       "1111"
      ]
     },
     "execution_count": 23,
     "metadata": {},
     "output_type": "execute_result"
    }
   ],
   "source": [
    "sum([1,10,100,1000]) # an expression"
   ]
  },
  {
   "cell_type": "markdown",
   "metadata": {},
   "source": [
    "Because we are executing this Python code within a Jupyter notebook, the code snippets are executed immediately."
   ]
  },
  {
   "cell_type": "markdown",
   "metadata": {},
   "source": [
    "<img src=\"images/redbang.png\" width=\"30\" align=\"left\">The value of the last expression in any notebook cell is printed by Jupyter.\n",
    "\n",
    "We can also print the result of multiple expressions in a single cell:"
   ]
  },
  {
   "cell_type": "code",
   "execution_count": 21,
   "metadata": {},
   "outputs": [
    {
     "data": {
      "text/plain": [
       "(31.400000000000002, 1111)"
      ]
     },
     "execution_count": 21,
     "metadata": {},
     "output_type": "execute_result"
    }
   ],
   "source": [
    "x*3.14, y"
   ]
  },
  {
   "cell_type": "markdown",
   "metadata": {},
   "source": [
    "## Indexing lists or similar collections\n",
    "\n",
    "One of the most important operators we will use in expressions is the `[...]` indexing operator. You are likely familiar with this already for accessing the elements of lists.  The index is typically an integer and the first element is that position 0:"
   ]
  },
  {
   "cell_type": "code",
   "execution_count": 28,
   "metadata": {},
   "outputs": [
    {
     "data": {
      "text/plain": [
       "10"
      ]
     },
     "execution_count": 28,
     "metadata": {},
     "output_type": "execute_result"
    }
   ],
   "source": [
    "a = [10,20,30,40]  # define a list with four numbers\n",
    "a[0]               # print the first element"
   ]
  },
  {
   "cell_type": "code",
   "execution_count": 29,
   "metadata": {},
   "outputs": [
    {
     "data": {
      "text/plain": [
       "40"
      ]
     },
     "execution_count": 29,
     "metadata": {},
     "output_type": "execute_result"
    }
   ],
   "source": [
    "a[-1]              # print the last value"
   ]
  },
  {
   "cell_type": "code",
   "execution_count": 30,
   "metadata": {},
   "outputs": [
    {
     "data": {
      "text/plain": [
       "[20, 30]"
      ]
     },
     "execution_count": 30,
     "metadata": {},
     "output_type": "execute_result"
    }
   ],
   "source": [
    "a[1:3]             # print the 2nd and 3rd values"
   ]
  },
  {
   "cell_type": "markdown",
   "metadata": {},
   "source": [
    "If we have a list of lists, it looks like a matrix and we access with two index operations to get an element:"
   ]
  },
  {
   "cell_type": "code",
   "execution_count": 38,
   "metadata": {},
   "outputs": [
    {
     "data": {
      "text/plain": [
       "[[1, 2, 3], [4, 5, 6]]"
      ]
     },
     "execution_count": 38,
     "metadata": {},
     "output_type": "execute_result"
    }
   ],
   "source": [
    "a = [[1,2,3],      # a list of lists\n",
    "     [4,5,6]]\n",
    "a"
   ]
  },
  {
   "cell_type": "code",
   "execution_count": 34,
   "metadata": {},
   "outputs": [
    {
     "data": {
      "image/svg+xml": [
       "<?xml version=\"1.0\" encoding=\"UTF-8\" standalone=\"no\"?>\n",
       "<!DOCTYPE svg PUBLIC \"-//W3C//DTD SVG 1.1//EN\"\n",
       " \"http://www.w3.org/Graphics/SVG/1.1/DTD/svg11.dtd\">\n",
       "<!-- Generated by graphviz version 2.40.1 (20161225.0304)\n",
       " -->\n",
       "<!-- Title: G Pages: 1 -->\n",
       "<svg width=\"79pt\" height=\"75pt\"\n",
       " viewBox=\"0.00 0.00 79.00 75.00\" xmlns=\"http://www.w3.org/2000/svg\" xmlns:xlink=\"http://www.w3.org/1999/xlink\">\n",
       "<g id=\"graph0\" class=\"graph\" transform=\"scale(1 1) rotate(0) translate(4 71)\">\n",
       "<title>G</title>\n",
       "<polygon fill=\"#ffffff\" stroke=\"transparent\" points=\"-4,4 -4,-71 75,-71 75,4 -4,4\"/>\n",
       "<!-- node140350418523072 -->\n",
       "<g id=\"node1\" class=\"node\">\n",
       "<title>node140350418523072</title>\n",
       "<polygon fill=\"#cfe2d4\" stroke=\"#444443\" stroke-width=\".5\" points=\"13,-49 0,-49 0,-17 13,-17 13,-49\"/>\n",
       "<polygon fill=\"#cfe2d4\" stroke=\"transparent\" points=\"1.5,-33 1.5,-48 12.5,-48 12.5,-33 1.5,-33\"/>\n",
       "<polyline fill=\"none\" stroke=\"#444443\" points=\"1.5,-33 12.5,-33 \"/>\n",
       "<text text-anchor=\"start\" x=\"4.4973\" y=\"-37.8\" font-family=\"Helvetica,sans-Serif\" font-size=\"9.00\" fill=\"#444443\">0</text>\n",
       "<polygon fill=\"#cfe2d4\" stroke=\"transparent\" points=\"1.5,-18 1.5,-33 12.5,-33 12.5,-18 1.5,-18\"/>\n",
       "<text text-anchor=\"start\" x=\"4.4973\" y=\"-22.8\" font-family=\"Helvetica,sans-Serif\" font-size=\"9.00\" fill=\"#444443\">1</text>\n",
       "</g>\n",
       "<!-- node140350139827072 -->\n",
       "<g id=\"node2\" class=\"node\">\n",
       "<title>node140350139827072</title>\n",
       "<polygon fill=\"none\" stroke=\"#000000\" stroke-width=\".5\" points=\"71,-67 35,-67 35,-37 71,-37 71,-67\"/>\n",
       "<polygon fill=\"#fefecd\" stroke=\"transparent\" points=\"36,-55 36,-66 48,-66 48,-55 36,-55\"/>\n",
       "<polyline fill=\"none\" stroke=\"#000000\" points=\"36,-55 48,-55 48,-66 \"/>\n",
       "<text text-anchor=\"start\" x=\"39.4973\" y=\"-57.8\" font-family=\"Helvetica,sans-Serif\" font-size=\"9.00\" fill=\"#444443\">0</text>\n",
       "<polygon fill=\"#fefecd\" stroke=\"transparent\" points=\"48,-55 48,-66 60,-66 60,-55 48,-55\"/>\n",
       "<polyline fill=\"none\" stroke=\"#000000\" points=\"48,-55 60,-55 60,-66 \"/>\n",
       "<text text-anchor=\"start\" x=\"51.4973\" y=\"-57.8\" font-family=\"Helvetica,sans-Serif\" font-size=\"9.00\" fill=\"#444443\">1</text>\n",
       "<polygon fill=\"#fefecd\" stroke=\"transparent\" points=\"60,-55 60,-66 70,-66 70,-55 60,-55\"/>\n",
       "<polyline fill=\"none\" stroke=\"#000000\" points=\"60,-55 70,-55 \"/>\n",
       "<text text-anchor=\"start\" x=\"62.4973\" y=\"-57.8\" font-family=\"Helvetica,sans-Serif\" font-size=\"9.00\" fill=\"#444443\">2</text>\n",
       "<polygon fill=\"#fefecd\" stroke=\"transparent\" points=\"36,-38 36,-55 48,-55 48,-38 36,-38\"/>\n",
       "<polyline fill=\"none\" stroke=\"#000000\" points=\"48,-38 48,-55 \"/>\n",
       "<text text-anchor=\"start\" x=\"38.9412\" y=\"-43.2\" font-family=\"Helvetica,sans-Serif\" font-size=\"11.00\" fill=\"#444443\">1</text>\n",
       "<polygon fill=\"#fefecd\" stroke=\"transparent\" points=\"48,-38 48,-55 60,-55 60,-38 48,-38\"/>\n",
       "<polyline fill=\"none\" stroke=\"#000000\" points=\"60,-38 60,-55 \"/>\n",
       "<text text-anchor=\"start\" x=\"50.9412\" y=\"-43.2\" font-family=\"Helvetica,sans-Serif\" font-size=\"11.00\" fill=\"#444443\">2</text>\n",
       "<polygon fill=\"#fefecd\" stroke=\"transparent\" points=\"60,-38 60,-55 70,-55 70,-38 60,-38\"/>\n",
       "<text text-anchor=\"start\" x=\"61.9412\" y=\"-43.2\" font-family=\"Helvetica,sans-Serif\" font-size=\"11.00\" fill=\"#444443\">3</text>\n",
       "</g>\n",
       "<!-- node140350418523072&#45;&gt;node140350139827072 -->\n",
       "<g id=\"edge1\" class=\"edge\">\n",
       "<title>node140350418523072:0&#45;&gt;node140350139827072:w</title>\n",
       "<path fill=\"none\" stroke=\"#444443\" stroke-width=\".5\" d=\"M12.5,-41C22.0658,-41 23.5866,-49.1238 30.8897,-51.4086\"/>\n",
       "<polygon fill=\"#444443\" stroke=\"#444443\" stroke-width=\".5\" points=\"30.8414,-52.816 35,-52 31.2402,-50.0445 30.8414,-52.816\"/>\n",
       "</g>\n",
       "<!-- node140349607347648 -->\n",
       "<g id=\"node3\" class=\"node\">\n",
       "<title>node140349607347648</title>\n",
       "<polygon fill=\"none\" stroke=\"#000000\" stroke-width=\".5\" points=\"71,-30 35,-30 35,0 71,0 71,-30\"/>\n",
       "<polygon fill=\"#fefecd\" stroke=\"transparent\" points=\"36,-18 36,-29 48,-29 48,-18 36,-18\"/>\n",
       "<polyline fill=\"none\" stroke=\"#000000\" points=\"36,-18 48,-18 48,-29 \"/>\n",
       "<text text-anchor=\"start\" x=\"39.4973\" y=\"-20.8\" font-family=\"Helvetica,sans-Serif\" font-size=\"9.00\" fill=\"#444443\">0</text>\n",
       "<polygon fill=\"#fefecd\" stroke=\"transparent\" points=\"48,-18 48,-29 60,-29 60,-18 48,-18\"/>\n",
       "<polyline fill=\"none\" stroke=\"#000000\" points=\"48,-18 60,-18 60,-29 \"/>\n",
       "<text text-anchor=\"start\" x=\"51.4973\" y=\"-20.8\" font-family=\"Helvetica,sans-Serif\" font-size=\"9.00\" fill=\"#444443\">1</text>\n",
       "<polygon fill=\"#fefecd\" stroke=\"transparent\" points=\"60,-18 60,-29 70,-29 70,-18 60,-18\"/>\n",
       "<polyline fill=\"none\" stroke=\"#000000\" points=\"60,-18 70,-18 \"/>\n",
       "<text text-anchor=\"start\" x=\"62.4973\" y=\"-20.8\" font-family=\"Helvetica,sans-Serif\" font-size=\"9.00\" fill=\"#444443\">2</text>\n",
       "<polygon fill=\"#fefecd\" stroke=\"transparent\" points=\"36,-1 36,-18 48,-18 48,-1 36,-1\"/>\n",
       "<polyline fill=\"none\" stroke=\"#000000\" points=\"48,-1 48,-18 \"/>\n",
       "<text text-anchor=\"start\" x=\"38.9412\" y=\"-6.2\" font-family=\"Helvetica,sans-Serif\" font-size=\"11.00\" fill=\"#444443\">4</text>\n",
       "<polygon fill=\"#fefecd\" stroke=\"transparent\" points=\"48,-1 48,-18 60,-18 60,-1 48,-1\"/>\n",
       "<polyline fill=\"none\" stroke=\"#000000\" points=\"60,-1 60,-18 \"/>\n",
       "<text text-anchor=\"start\" x=\"50.9412\" y=\"-6.2\" font-family=\"Helvetica,sans-Serif\" font-size=\"11.00\" fill=\"#444443\">5</text>\n",
       "<polygon fill=\"#fefecd\" stroke=\"transparent\" points=\"60,-1 60,-18 70,-18 70,-1 60,-1\"/>\n",
       "<text text-anchor=\"start\" x=\"61.9412\" y=\"-6.2\" font-family=\"Helvetica,sans-Serif\" font-size=\"11.00\" fill=\"#444443\">6</text>\n",
       "</g>\n",
       "<!-- node140350418523072&#45;&gt;node140349607347648 -->\n",
       "<g id=\"edge2\" class=\"edge\">\n",
       "<title>node140350418523072:1&#45;&gt;node140349607347648:w</title>\n",
       "<path fill=\"none\" stroke=\"#444443\" stroke-width=\".5\" d=\"M12.5,-25C21.9043,-25 23.68,-17.6147 30.9387,-15.5376\"/>\n",
       "<polygon fill=\"#444443\" stroke=\"#444443\" stroke-width=\".5\" points=\"31.2184,-16.9129 35,-15 30.8508,-14.1371 31.2184,-16.9129\"/>\n",
       "</g>\n",
       "</g>\n",
       "</svg>\n"
      ],
      "text/plain": [
       "<graphviz.files.Source at 0x7fa5d0422790>"
      ]
     },
     "execution_count": 34,
     "metadata": {},
     "output_type": "execute_result"
    }
   ],
   "source": [
    "from lolviz import *   # Terence built this cool visualization package for objects\n",
    "objviz(a)              # show me the structure of the object pointed to by a"
   ]
  },
  {
   "cell_type": "code",
   "execution_count": 35,
   "metadata": {},
   "outputs": [
    {
     "data": {
      "text/plain": [
       "[1, 2, 3]"
      ]
     },
     "execution_count": 35,
     "metadata": {},
     "output_type": "execute_result"
    }
   ],
   "source": [
    "a[0]    # first row"
   ]
  },
  {
   "cell_type": "code",
   "execution_count": 37,
   "metadata": {},
   "outputs": [
    {
     "data": {
      "text/plain": [
       "3"
      ]
     },
     "execution_count": 37,
     "metadata": {},
     "output_type": "execute_result"
    }
   ],
   "source": [
    "a[0][2]  # first row, third element (element at position two)"
   ]
  },
  {
   "cell_type": "markdown",
   "metadata": {},
   "source": [
    "Just to be clear what's going on `a` is a list of lists. So, `a[0]` accesses the first element which is a list. If it is a list, we can access the elements like `a[0][2]`, which is equivalent to `(a[0])[2]`, if that helps you to see the order of operations."
   ]
  },
  {
   "cell_type": "markdown",
   "metadata": {},
   "source": [
    "We will very commonly convert this nested list into a numpy array and then the indexing operator changes:"
   ]
  },
  {
   "cell_type": "code",
   "execution_count": 41,
   "metadata": {},
   "outputs": [
    {
     "data": {
      "text/plain": [
       "array([[1, 2, 3],\n",
       "       [4, 5, 6]])"
      ]
     },
     "execution_count": 41,
     "metadata": {},
     "output_type": "execute_result"
    }
   ],
   "source": [
    "import numpy as np  # import and give it a shorthand name \"np\"\n",
    "a = np.array(a)\n",
    "a"
   ]
  },
  {
   "cell_type": "code",
   "execution_count": 106,
   "metadata": {},
   "outputs": [
    {
     "data": {
      "image/svg+xml": [
       "<?xml version=\"1.0\" encoding=\"UTF-8\" standalone=\"no\"?>\n",
       "<!DOCTYPE svg PUBLIC \"-//W3C//DTD SVG 1.1//EN\"\n",
       " \"http://www.w3.org/Graphics/SVG/1.1/DTD/svg11.dtd\">\n",
       "<!-- Generated by graphviz version 2.40.1 (20161225.0304)\n",
       " -->\n",
       "<!-- Title: G Pages: 1 -->\n",
       "<svg width=\"43pt\" height=\"42pt\"\n",
       " viewBox=\"0.00 0.00 43.00 42.00\" xmlns=\"http://www.w3.org/2000/svg\" xmlns:xlink=\"http://www.w3.org/1999/xlink\">\n",
       "<g id=\"graph0\" class=\"graph\" transform=\"scale(1 1) rotate(0) translate(4 38)\">\n",
       "<title>G</title>\n",
       "<polygon fill=\"#ffffff\" stroke=\"transparent\" points=\"-4,4 -4,-38 39,-38 39,4 -4,4\"/>\n",
       "<!-- node140350140364400 -->\n",
       "<g id=\"node1\" class=\"node\">\n",
       "<title>node140350140364400</title>\n",
       "<polygon fill=\"none\" stroke=\"#000000\" stroke-width=\".5\" points=\"35,-34 0,-34 0,0 35,0 35,-34\"/>\n",
       "<polygon fill=\"#fefecd\" stroke=\"transparent\" points=\"1.5,-17 1.5,-33 12.5,-33 12.5,-17 1.5,-17\"/>\n",
       "<text text-anchor=\"start\" x=\"4.2192\" y=\"-22\" font-family=\"Helvetica,sans-Serif\" font-size=\"10.00\" fill=\"#444443\">1</text>\n",
       "<polygon fill=\"#fefecd\" stroke=\"transparent\" points=\"12.5,-17 12.5,-33 23.5,-33 23.5,-17 12.5,-17\"/>\n",
       "<text text-anchor=\"start\" x=\"15.2192\" y=\"-22\" font-family=\"Helvetica,sans-Serif\" font-size=\"10.00\" fill=\"#444443\">2</text>\n",
       "<polygon fill=\"#fefecd\" stroke=\"transparent\" points=\"23.5,-17 23.5,-33 34.5,-33 34.5,-17 23.5,-17\"/>\n",
       "<text text-anchor=\"start\" x=\"26.2192\" y=\"-22\" font-family=\"Helvetica,sans-Serif\" font-size=\"10.00\" fill=\"#444443\">3</text>\n",
       "<polygon fill=\"#fefecd\" stroke=\"transparent\" points=\"1.5,-1 1.5,-17 12.5,-17 12.5,-1 1.5,-1\"/>\n",
       "<text text-anchor=\"start\" x=\"4.2192\" y=\"-6\" font-family=\"Helvetica,sans-Serif\" font-size=\"10.00\" fill=\"#444443\">4</text>\n",
       "<polygon fill=\"#fefecd\" stroke=\"transparent\" points=\"12.5,-1 12.5,-17 23.5,-17 23.5,-1 12.5,-1\"/>\n",
       "<text text-anchor=\"start\" x=\"15.2192\" y=\"-6\" font-family=\"Helvetica,sans-Serif\" font-size=\"10.00\" fill=\"#444443\">5</text>\n",
       "<polygon fill=\"#fefecd\" stroke=\"transparent\" points=\"23.5,-1 23.5,-17 34.5,-17 34.5,-1 23.5,-1\"/>\n",
       "<text text-anchor=\"start\" x=\"26.2192\" y=\"-6\" font-family=\"Helvetica,sans-Serif\" font-size=\"10.00\" fill=\"#444443\">6</text>\n",
       "</g>\n",
       "</g>\n",
       "</svg>\n"
      ],
      "text/plain": [
       "<graphviz.files.Source at 0x7fa5b12b9a00>"
      ]
     },
     "execution_count": 106,
     "metadata": {},
     "output_type": "execute_result"
    }
   ],
   "source": [
    "objviz(a) # using lolviz again"
   ]
  },
  {
   "cell_type": "code",
   "execution_count": 43,
   "metadata": {},
   "outputs": [
    {
     "data": {
      "text/plain": [
       "3"
      ]
     },
     "execution_count": 43,
     "metadata": {},
     "output_type": "execute_result"
    }
   ],
   "source": [
    "a[0,2]              # instead of a[0][2], use this"
   ]
  },
  {
   "cell_type": "markdown",
   "metadata": {},
   "source": [
    "The syntax for indexing is overloaded to also mean: \"get an element from a dictionary\":"
   ]
  },
  {
   "cell_type": "code",
   "execution_count": 107,
   "metadata": {},
   "outputs": [
    {
     "data": {
      "image/svg+xml": [
       "<?xml version=\"1.0\" encoding=\"UTF-8\" standalone=\"no\"?>\n",
       "<!DOCTYPE svg PUBLIC \"-//W3C//DTD SVG 1.1//EN\"\n",
       " \"http://www.w3.org/Graphics/SVG/1.1/DTD/svg11.dtd\">\n",
       "<!-- Generated by graphviz version 2.40.1 (20161225.0304)\n",
       " -->\n",
       "<!-- Title: G Pages: 1 -->\n",
       "<svg width=\"142pt\" height=\"63pt\"\n",
       " viewBox=\"0.00 0.00 142.00 62.50\" xmlns=\"http://www.w3.org/2000/svg\" xmlns:xlink=\"http://www.w3.org/1999/xlink\">\n",
       "<g id=\"graph0\" class=\"graph\" transform=\"scale(1 1) rotate(0) translate(4 58.5)\">\n",
       "<title>G</title>\n",
       "<polygon fill=\"#ffffff\" stroke=\"transparent\" points=\"-4,4 -4,-58.5 138,-58.5 138,4 -4,4\"/>\n",
       "<!-- node140350436992832 -->\n",
       "<g id=\"node1\" class=\"node\">\n",
       "<title>node140350436992832</title>\n",
       "<polygon fill=\"#fefecd\" stroke=\"#444443\" stroke-width=\".5\" points=\"58,-54.5 0,-54.5 0,-7.5 58,-7.5 58,-54.5\"/>\n",
       "<polygon fill=\"#fefecd\" stroke=\"transparent\" points=\"2,-39 2,-52 33,-52 33,-39 2,-39\"/>\n",
       "<text text-anchor=\"start\" x=\"7.4067\" y=\"-42.2\" font-family=\"Helvetica,sans-Serif\" font-size=\"11.00\" fill=\"#444443\">&#39;tom&#39; </text>\n",
       "<text text-anchor=\"start\" x=\"33\" y=\"-42.3996\" font-family=\"Helvetica,sans-Serif\" font-size=\"9.00\" fill=\"#444443\">→</text>\n",
       "<polygon fill=\"#fefecd\" stroke=\"transparent\" points=\"42,-39 42,-52 56,-52 56,-39 42,-39\"/>\n",
       "<text text-anchor=\"start\" x=\"43\" y=\"-42.2\" font-family=\"Helvetica,sans-Serif\" font-size=\"11.00\" fill=\"#444443\"> 3</text>\n",
       "<polygon fill=\"#fefecd\" stroke=\"transparent\" points=\"2,-37 2,-39 56,-39 56,-37 2,-37\"/>\n",
       "<polygon fill=\"#fefecd\" stroke=\"transparent\" points=\"2,-24 2,-37 33,-37 33,-24 2,-24\"/>\n",
       "<text text-anchor=\"start\" x=\"1.6499\" y=\"-27.2\" font-family=\"Helvetica,sans-Serif\" font-size=\"11.00\" fill=\"#444443\">&#39;mary&#39; </text>\n",
       "<text text-anchor=\"start\" x=\"33\" y=\"-27.3996\" font-family=\"Helvetica,sans-Serif\" font-size=\"9.00\" fill=\"#444443\">→</text>\n",
       "<polygon fill=\"#fefecd\" stroke=\"transparent\" points=\"42,-24 42,-37 56,-37 56,-24 42,-24\"/>\n",
       "<text text-anchor=\"start\" x=\"43\" y=\"-27.2\" font-family=\"Helvetica,sans-Serif\" font-size=\"11.00\" fill=\"#444443\"> 9</text>\n",
       "<polygon fill=\"#fefecd\" stroke=\"transparent\" points=\"2,-22 2,-24 56,-24 56,-22 2,-22\"/>\n",
       "<polygon fill=\"#fefecd\" stroke=\"transparent\" points=\"2,-9 2,-22 33,-22 33,-9 2,-9\"/>\n",
       "<text text-anchor=\"start\" x=\"3.126\" y=\"-12.2\" font-family=\"Helvetica,sans-Serif\" font-size=\"11.00\" fill=\"#444443\">&#39;parrt&#39; </text>\n",
       "<text text-anchor=\"start\" x=\"33\" y=\"-12.3996\" font-family=\"Helvetica,sans-Serif\" font-size=\"9.00\" fill=\"#444443\">→</text>\n",
       "<polygon fill=\"#fefecd\" stroke=\"transparent\" points=\"42,-9 42,-22 56,-22 56,-9 42,-9\"/>\n",
       "<text text-anchor=\"start\" x=\"42.8877\" y=\"-12.2\" font-family=\"Helvetica,sans-Serif\" font-size=\"11.00\" fill=\"#444443\"> &#160;&#160;&#160;</text>\n",
       "</g>\n",
       "<!-- node140350436964288 -->\n",
       "<g id=\"node2\" class=\"node\">\n",
       "<title>node140350436964288</title>\n",
       "<polygon fill=\"none\" stroke=\"#000000\" stroke-width=\".5\" points=\"134,-30 80,-30 80,0 134,0 134,-30\"/>\n",
       "<polygon fill=\"#fefecd\" stroke=\"transparent\" points=\"81,-18 81,-29 93,-29 93,-18 81,-18\"/>\n",
       "<polyline fill=\"none\" stroke=\"#000000\" points=\"81,-18 93,-18 93,-29 \"/>\n",
       "<text text-anchor=\"start\" x=\"84.4973\" y=\"-20.8\" font-family=\"Helvetica,sans-Serif\" font-size=\"9.00\" fill=\"#444443\">0</text>\n",
       "<polygon fill=\"#fefecd\" stroke=\"transparent\" points=\"93,-18 93,-29 105,-29 105,-18 93,-18\"/>\n",
       "<polyline fill=\"none\" stroke=\"#000000\" points=\"93,-18 105,-18 105,-29 \"/>\n",
       "<text text-anchor=\"start\" x=\"96.4973\" y=\"-20.8\" font-family=\"Helvetica,sans-Serif\" font-size=\"9.00\" fill=\"#444443\">1</text>\n",
       "<polygon fill=\"#fefecd\" stroke=\"transparent\" points=\"105,-18 105,-29 117,-29 117,-18 105,-18\"/>\n",
       "<polyline fill=\"none\" stroke=\"#000000\" points=\"105,-18 117,-18 117,-29 \"/>\n",
       "<text text-anchor=\"start\" x=\"108.4973\" y=\"-20.8\" font-family=\"Helvetica,sans-Serif\" font-size=\"9.00\" fill=\"#444443\">2</text>\n",
       "<polygon fill=\"#fefecd\" stroke=\"transparent\" points=\"117,-18 117,-29 133,-29 133,-18 117,-18\"/>\n",
       "<polyline fill=\"none\" stroke=\"#000000\" points=\"117,-18 133,-18 \"/>\n",
       "<text text-anchor=\"start\" x=\"122.4973\" y=\"-20.8\" font-family=\"Helvetica,sans-Serif\" font-size=\"9.00\" fill=\"#444443\">3</text>\n",
       "<polygon fill=\"#fefecd\" stroke=\"transparent\" points=\"81,-1 81,-18 93,-18 93,-1 81,-1\"/>\n",
       "<polyline fill=\"none\" stroke=\"#000000\" points=\"93,-1 93,-18 \"/>\n",
       "<text text-anchor=\"start\" x=\"83.9412\" y=\"-6.2\" font-family=\"Helvetica,sans-Serif\" font-size=\"11.00\" fill=\"#444443\">4</text>\n",
       "<polygon fill=\"#fefecd\" stroke=\"transparent\" points=\"93,-1 93,-18 105,-18 105,-1 93,-1\"/>\n",
       "<polyline fill=\"none\" stroke=\"#000000\" points=\"105,-1 105,-18 \"/>\n",
       "<text text-anchor=\"start\" x=\"95.9412\" y=\"-6.2\" font-family=\"Helvetica,sans-Serif\" font-size=\"11.00\" fill=\"#444443\">8</text>\n",
       "<polygon fill=\"#fefecd\" stroke=\"transparent\" points=\"105,-1 105,-18 117,-18 117,-1 105,-1\"/>\n",
       "<polyline fill=\"none\" stroke=\"#000000\" points=\"117,-1 117,-18 \"/>\n",
       "<text text-anchor=\"start\" x=\"107.9412\" y=\"-6.2\" font-family=\"Helvetica,sans-Serif\" font-size=\"11.00\" fill=\"#444443\">2</text>\n",
       "<polygon fill=\"#fefecd\" stroke=\"transparent\" points=\"117,-1 117,-18 133,-18 133,-1 117,-1\"/>\n",
       "<text text-anchor=\"start\" x=\"118.8823\" y=\"-6.2\" font-family=\"Helvetica,sans-Serif\" font-size=\"11.00\" fill=\"#444443\">19</text>\n",
       "</g>\n",
       "<!-- node140350436992832&#45;&gt;node140350436964288 -->\n",
       "<g id=\"edge1\" class=\"edge\">\n",
       "<title>node140350436992832:c&#45;&gt;node140350436964288</title>\n",
       "<path fill=\"none\" stroke=\"#444443\" stroke-width=\".5\" d=\"M52.3531,-15C57.082,-15 66.1932,-15 75.6407,-15\"/>\n",
       "<ellipse fill=\"#444443\" stroke=\"#444443\" stroke-width=\".5\" cx=\"50.6\" cy=\"-15\" rx=\"1.6\" ry=\"1.6\"/>\n",
       "<polygon fill=\"#444443\" stroke=\"#444443\" stroke-width=\".5\" points=\"75.6984,-16.4001 79.6984,-15 75.6983,-13.6001 75.6984,-16.4001\"/>\n",
       "</g>\n",
       "</g>\n",
       "</svg>\n"
      ],
      "text/plain": [
       "<graphviz.files.Source at 0x7fa5b12b9c10>"
      ]
     },
     "execution_count": 107,
     "metadata": {},
     "output_type": "execute_result"
    }
   ],
   "source": [
    "d = {\"tom\":3, \"mary\":9, \"parrt\":[4,8,2,19]}  # define a dictionary\n",
    "objviz(d)"
   ]
  },
  {
   "cell_type": "code",
   "execution_count": 54,
   "metadata": {},
   "outputs": [
    {
     "data": {
      "text/plain": [
       "3"
      ]
     },
     "execution_count": 54,
     "metadata": {},
     "output_type": "execute_result"
    }
   ],
   "source": [
    "d[\"tom\"]"
   ]
  },
  {
   "cell_type": "code",
   "execution_count": 50,
   "metadata": {},
   "outputs": [
    {
     "data": {
      "text/plain": [
       "[4, 8, 2, 19]"
      ]
     },
     "execution_count": 50,
     "metadata": {},
     "output_type": "execute_result"
    }
   ],
   "source": [
    "d['parrt']"
   ]
  },
  {
   "cell_type": "code",
   "execution_count": 52,
   "metadata": {},
   "outputs": [
    {
     "data": {
      "text/plain": [
       "19"
      ]
     },
     "execution_count": 52,
     "metadata": {},
     "output_type": "execute_result"
    }
   ],
   "source": [
    "d['parrt'][3]     # get list for key 'parrt' then access element at position 3"
   ]
  },
  {
   "cell_type": "markdown",
   "metadata": {},
   "source": [
    "## Packages / modules"
   ]
  },
  {
   "cell_type": "markdown",
   "metadata": {},
   "source": [
    "There are a vast number of libraries available in Python to help you do your job. You can think of each library as a book of recipes and each recipe is a function. Because there are so many, we have to explicitly tell Python to import the library or libraries we'd like to use (there could be conflicting function names between them so we have to be explicit).\n",
    "\n",
    "<img src=\"images/redbang.png\" width=\"30\" align=\"left\">In common practice, we mix up the terms package and module, but [to be precise](https://stackoverflow.com/questions/7948494/whats-the-difference-between-a-python-module-and-a-python-package#:~:text=A%20package%20is%20a%20collection%20of%20Python%20modules%3A%20while%20a,a%20bunch%20of%20Python%20scripts.) a Python *module* is a single Python file like my `lolviz` above. A *package* is a directory with a collection of modules (python files).\n",
    "\n",
    "Let's say we wanted to compute the area of a circle with radius $r$ ($\\pi r ^2$).  We could just remember a bit of $pi$, such as 3.14159, but it's better to use a built-in variable defined in the math package:"
   ]
  },
  {
   "cell_type": "code",
   "execution_count": 26,
   "metadata": {},
   "outputs": [
    {
     "data": {
      "text/plain": [
       "12.566370614359172"
      ]
     },
     "execution_count": 26,
     "metadata": {},
     "output_type": "execute_result"
    }
   ],
   "source": [
    "import math     # tell Python we want to use stuff inside math package\n",
    "r = 2\n",
    "math.pi * r**2  # pi is a var inside math and \"**\"\" is the power operator"
   ]
  },
  {
   "cell_type": "markdown",
   "metadata": {},
   "source": [
    "The basic syntax is *packagename*.*variable* or, for functions in a package, *packagename*.*function(...)*. \n",
    "\n",
    "It's also possible to have packages within packages. Numpy is a numerical library we will use frequently and it has a function to get a matrix of random numbers. Within package `numpy` we access the `random` package and then the `rand()` function:"
   ]
  },
  {
   "cell_type": "code",
   "execution_count": 27,
   "metadata": {},
   "outputs": [
    {
     "data": {
      "text/plain": [
       "array([[0.35166607, 0.41375476, 0.58495631],\n",
       "       [0.04575451, 0.18897379, 0.69708789]])"
      ]
     },
     "execution_count": 27,
     "metadata": {},
     "output_type": "execute_result"
    }
   ],
   "source": [
    "import numpy as np  # import and give it a shorthand name \"np\"\n",
    "np.random.rand(2,3)"
   ]
  },
  {
   "cell_type": "markdown",
   "metadata": {},
   "source": [
    "<img src=\"images/redbang.png\" width=\"30\" align=\"left\">The `.` (dot operator) is severely overloaded to mean multiple things; in fact a program is able to redefine what it means. Just keep in mind that `.` means:\n",
    "\n",
    "1. Access a member of a package, which can be a variable, function, or another package\n",
    "1. Access a member of an object, which can be a field or function"
   ]
  },
  {
   "cell_type": "markdown",
   "metadata": {},
   "source": [
    "## Functions\n",
    "\n",
    "Python programs consist of zero or more functions and the so-called \"main\" program, consisting of a sequence of operations that gets the ball rolling.\n",
    "\n",
    "We begin planning a function by identifying:\n",
    "\n",
    "1. a descriptive function name\n",
    "1. the kind of value(s) it operates on (parameter types)\n",
    "1. the kind of value it returns (return type)\n",
    "1. what the function does and the value it returns\n",
    "\n",
    "If we can't specifying exactly what goes in and out of the function, there's no hope of determining the processing steps, let alone Python code, to implement that function."
   ]
  },
  {
   "cell_type": "markdown",
   "metadata": {},
   "source": [
    "<img src=\"images/redbang.png\" width=\"30\" align=\"left\">The Python interpreter does not execute the code inside the function unless we directly invoke that function. Python sees the function definition as just that: a \"recipe\" definition that we can call if we want."
   ]
  },
  {
   "cell_type": "code",
   "execution_count": 5,
   "metadata": {},
   "outputs": [
    {
     "name": "stdout",
     "output_type": "stream",
     "text": [
      "this is part of main not part of function\n"
     ]
    }
   ],
   "source": [
    "def hi():\n",
    "    print(\"hi\")\n",
    "print(\"this is part of main not part of function\")"
   ]
  },
  {
   "cell_type": "markdown",
   "metadata": {},
   "source": [
    "The definition of a function is different than invoking or calling a function. Calling a function requires the function name and any argument values. In this case, we don't have any arguments so we call the function as just hi():"
   ]
  },
  {
   "cell_type": "code",
   "execution_count": 55,
   "metadata": {},
   "outputs": [
    {
     "name": "stdout",
     "output_type": "stream",
     "text": [
      "hi\n"
     ]
    }
   ],
   "source": [
    "hi()"
   ]
  },
  {
   "cell_type": "markdown",
   "metadata": {},
   "source": [
    "Let's define a function that returns a value, rather then printing a value:"
   ]
  },
  {
   "cell_type": "code",
   "execution_count": 56,
   "metadata": {},
   "outputs": [],
   "source": [
    "def pi():            # no arguments\n",
    "    return 3.14159   # return type is float"
   ]
  },
  {
   "cell_type": "code",
   "execution_count": 7,
   "metadata": {},
   "outputs": [
    {
     "data": {
      "text/plain": [
       "3.14159"
      ]
     },
     "execution_count": 7,
     "metadata": {},
     "output_type": "execute_result"
    }
   ],
   "source": [
    "pi()"
   ]
  },
  {
   "cell_type": "code",
   "execution_count": 57,
   "metadata": {},
   "outputs": [
    {
     "data": {
      "text/plain": [
       "<function __main__.pi()>"
      ]
     },
     "execution_count": 57,
     "metadata": {},
     "output_type": "execute_result"
    }
   ],
   "source": [
    "pi                   # this is the name of a function but does not execute the function"
   ]
  },
  {
   "cell_type": "markdown",
   "metadata": {},
   "source": [
    "Functions `hi` and `pi` are not attached in some sense to a package (technically they are part of the main module) and we can just call them without the \"dot\" operator. If we put them in module `foo`, then we could refer to them elsewhere as `foo.hi()` and `foo.pi()`."
   ]
  },
  {
   "cell_type": "markdown",
   "metadata": {},
   "source": [
    "## Objects\n",
    "\n",
    "Everything in Python is an object and there are way too many details to going to here; you can check out my [OO notes](https://github.com/parrt/msds501/blob/master/notes/OO.ipynb) though for more details.\n",
    "\n",
    "As it pertains to what we do in EDA, we are very frequently going to call functions that are embedded within objects.  If you've played with Python strings before, you do this quite frequently. For example:"
   ]
  },
  {
   "cell_type": "code",
   "execution_count": 60,
   "metadata": {},
   "outputs": [
    {
     "data": {
      "text/plain": [
       "('PARRT', 4)"
      ]
     },
     "execution_count": 60,
     "metadata": {},
     "output_type": "execute_result"
    }
   ],
   "source": [
    "\"parrt\".upper(), \"parrt\".index('t')"
   ]
  },
  {
   "cell_type": "markdown",
   "metadata": {},
   "source": [
    "Note that `len()` is a function not associated specifically with strings and so we call that generic function with the object as an argument:"
   ]
  },
  {
   "cell_type": "code",
   "execution_count": 61,
   "metadata": {},
   "outputs": [
    {
     "data": {
      "text/plain": [
       "5"
      ]
     },
     "execution_count": 61,
     "metadata": {},
     "output_type": "execute_result"
    }
   ],
   "source": [
    "len(\"parrt\")"
   ]
  },
  {
   "cell_type": "markdown",
   "metadata": {},
   "source": [
    "Again we are overloading the dot operator to mean object member access. The syntax is typically *object*.*function(...)*. Things get complicated when we combine indexing with member access. Here's a preview of some data frame accessing:"
   ]
  },
  {
   "cell_type": "code",
   "execution_count": 63,
   "metadata": {},
   "outputs": [
    {
     "data": {
      "text/html": [
       "<div>\n",
       "<style scoped>\n",
       "    .dataframe tbody tr th:only-of-type {\n",
       "        vertical-align: middle;\n",
       "    }\n",
       "\n",
       "    .dataframe tbody tr th {\n",
       "        vertical-align: top;\n",
       "    }\n",
       "\n",
       "    .dataframe thead th {\n",
       "        text-align: right;\n",
       "    }\n",
       "</style>\n",
       "<table border=\"1\" class=\"dataframe\">\n",
       "  <thead>\n",
       "    <tr style=\"text-align: right;\">\n",
       "      <th></th>\n",
       "      <th>MPG</th>\n",
       "      <th>CYL</th>\n",
       "      <th>ENG</th>\n",
       "      <th>WGT</th>\n",
       "    </tr>\n",
       "  </thead>\n",
       "  <tbody>\n",
       "    <tr>\n",
       "      <th>0</th>\n",
       "      <td>18.0</td>\n",
       "      <td>8</td>\n",
       "      <td>307.0</td>\n",
       "      <td>3504</td>\n",
       "    </tr>\n",
       "    <tr>\n",
       "      <th>1</th>\n",
       "      <td>15.0</td>\n",
       "      <td>8</td>\n",
       "      <td>350.0</td>\n",
       "      <td>3693</td>\n",
       "    </tr>\n",
       "    <tr>\n",
       "      <th>2</th>\n",
       "      <td>18.0</td>\n",
       "      <td>8</td>\n",
       "      <td>318.0</td>\n",
       "      <td>3436</td>\n",
       "    </tr>\n",
       "  </tbody>\n",
       "</table>\n",
       "</div>"
      ],
      "text/plain": [
       "    MPG  CYL    ENG   WGT\n",
       "0  18.0    8  307.0  3504\n",
       "1  15.0    8  350.0  3693\n",
       "2  18.0    8  318.0  3436"
      ]
     },
     "execution_count": 63,
     "metadata": {},
     "output_type": "execute_result"
    }
   ],
   "source": [
    "import pandas as pd\n",
    "df_cars = pd.read_csv(\"data/cars.csv\") # get data into df_cars object\n",
    "df_cars.head(3)                        # show first 3 rows"
   ]
  },
  {
   "cell_type": "code",
   "execution_count": 64,
   "metadata": {},
   "outputs": [
    {
     "data": {
      "text/plain": [
       "array([8, 4, 6, 3, 5])"
      ]
     },
     "execution_count": 64,
     "metadata": {},
     "output_type": "execute_result"
    }
   ],
   "source": [
    "df_cars['CYL'].unique() # get unique elements in column CYL"
   ]
  },
  {
   "cell_type": "markdown",
   "metadata": {},
   "source": [
    "Things can get even more complex if we change the function calls together:"
   ]
  },
  {
   "cell_type": "code",
   "execution_count": 71,
   "metadata": {},
   "outputs": [
    {
     "data": {
      "text/plain": [
       "13.0    20\n",
       "14.0    19\n",
       "18.0    17\n",
       "15.0    16\n",
       "26.0    14\n",
       "Name: MPG, dtype: int64"
      ]
     },
     "execution_count": 71,
     "metadata": {},
     "output_type": "execute_result"
    }
   ],
   "source": [
    "df_cars['MPG'].value_counts().head(5)"
   ]
  },
  {
   "cell_type": "markdown",
   "metadata": {},
   "source": [
    "Or when we do operations and then call function on the resulting object:"
   ]
  },
  {
   "cell_type": "code",
   "execution_count": 68,
   "metadata": {},
   "outputs": [
    {
     "data": {
      "text/plain": [
       "0    0.005137\n",
       "1    0.004062\n",
       "2    0.005239\n",
       "3    0.004661\n",
       "4    0.004929\n",
       "dtype: float64"
      ]
     },
     "execution_count": 68,
     "metadata": {},
     "output_type": "execute_result"
    }
   ],
   "source": [
    "(df_cars['MPG'] / df_cars['WGT']).head(5)"
   ]
  },
  {
   "cell_type": "markdown",
   "metadata": {},
   "source": [
    "Let me break that apart for you:"
   ]
  },
  {
   "cell_type": "code",
   "execution_count": 69,
   "metadata": {},
   "outputs": [
    {
     "data": {
      "text/plain": [
       "0    0.005137\n",
       "1    0.004062\n",
       "2    0.005239\n",
       "3    0.004661\n",
       "4    0.004929\n",
       "dtype: float64"
      ]
     },
     "execution_count": 69,
     "metadata": {},
     "output_type": "execute_result"
    }
   ],
   "source": [
    "mpg = df_cars['MPG']\n",
    "wgt = df_cars['WGT']\n",
    "mpg_per_pound = mpg / wgt\n",
    "mpg_per_pound.head(5)"
   ]
  },
  {
   "cell_type": "markdown",
   "metadata": {},
   "source": [
    "chain function results\n",
    "Altering arguments"
   ]
  },
  {
   "cell_type": "markdown",
   "metadata": {},
   "source": [
    "### Function argument and return value types\n",
    "\n",
    "It's critical that you know the types of the values going into functions and coming out via return statements.\n"
   ]
  },
  {
   "cell_type": "code",
   "execution_count": 77,
   "metadata": {},
   "outputs": [],
   "source": [
    "def triple(a):\n",
    "    print(\"type is\", type(a))\n",
    "    return 3*a"
   ]
  },
  {
   "cell_type": "code",
   "execution_count": 78,
   "metadata": {},
   "outputs": [
    {
     "name": "stdout",
     "output_type": "stream",
     "text": [
      "type is <class 'int'>\n"
     ]
    },
    {
     "data": {
      "text/plain": [
       "9"
      ]
     },
     "execution_count": 78,
     "metadata": {},
     "output_type": "execute_result"
    }
   ],
   "source": [
    "triple(3)"
   ]
  },
  {
   "cell_type": "code",
   "execution_count": 83,
   "metadata": {},
   "outputs": [
    {
     "name": "stdout",
     "output_type": "stream",
     "text": [
      "type is <class 'float'>\n"
     ]
    },
    {
     "data": {
      "text/plain": [
       "13.5"
      ]
     },
     "execution_count": 83,
     "metadata": {},
     "output_type": "execute_result"
    }
   ],
   "source": [
    "triple(4.5)"
   ]
  },
  {
   "cell_type": "code",
   "execution_count": 84,
   "metadata": {},
   "outputs": [
    {
     "name": "stdout",
     "output_type": "stream",
     "text": [
      "type is <class 'list'>\n"
     ]
    },
    {
     "data": {
      "text/plain": [
       "[1, 2, 3, 1, 2, 3, 1, 2, 3]"
      ]
     },
     "execution_count": 84,
     "metadata": {},
     "output_type": "execute_result"
    }
   ],
   "source": [
    "triple([1,2,3])"
   ]
  },
  {
   "cell_type": "code",
   "execution_count": 85,
   "metadata": {},
   "outputs": [
    {
     "name": "stdout",
     "output_type": "stream",
     "text": [
      "type is <class 'numpy.ndarray'>\n"
     ]
    },
    {
     "data": {
      "text/plain": [
       "array([3, 6, 9])"
      ]
     },
     "execution_count": 85,
     "metadata": {},
     "output_type": "execute_result"
    }
   ],
   "source": [
    "triple(np.array([1,2,3]))"
   ]
  },
  {
   "cell_type": "markdown",
   "metadata": {},
   "source": [
    "Now, see what happens when the return value is of different types. It affects how we can use the result."
   ]
  },
  {
   "cell_type": "code",
   "execution_count": 92,
   "metadata": {},
   "outputs": [],
   "source": [
    "def stuff(): return [[9,7,5], [10,15,20]]"
   ]
  },
  {
   "cell_type": "code",
   "execution_count": 93,
   "metadata": {},
   "outputs": [
    {
     "data": {
      "text/plain": [
       "15"
      ]
     },
     "execution_count": 93,
     "metadata": {},
     "output_type": "execute_result"
    }
   ],
   "source": [
    "x = stuff()\n",
    "x[1][1]"
   ]
  },
  {
   "cell_type": "code",
   "execution_count": 94,
   "metadata": {},
   "outputs": [
    {
     "ename": "TypeError",
     "evalue": "list indices must be integers or slices, not tuple",
     "output_type": "error",
     "traceback": [
      "\u001b[0;31m---------------------------------------------------------------------------\u001b[0m",
      "\u001b[0;31mTypeError\u001b[0m                                 Traceback (most recent call last)",
      "\u001b[0;32m<ipython-input-94-02eb37e19992>\u001b[0m in \u001b[0;36m<module>\u001b[0;34m\u001b[0m\n\u001b[0;32m----> 1\u001b[0;31m \u001b[0mx\u001b[0m\u001b[0;34m[\u001b[0m\u001b[0;36m1\u001b[0m\u001b[0;34m,\u001b[0m\u001b[0;36m1\u001b[0m\u001b[0;34m]\u001b[0m\u001b[0;34m\u001b[0m\u001b[0;34m\u001b[0m\u001b[0m\n\u001b[0m",
      "\u001b[0;31mTypeError\u001b[0m: list indices must be integers or slices, not tuple"
     ]
    }
   ],
   "source": [
    "x[1,1] # ERROR!"
   ]
  },
  {
   "cell_type": "code",
   "execution_count": 95,
   "metadata": {},
   "outputs": [],
   "source": [
    "def npstuff(): return np.array( [[9,7,5], [10,15,20]] )"
   ]
  },
  {
   "cell_type": "code",
   "execution_count": 98,
   "metadata": {},
   "outputs": [
    {
     "data": {
      "text/plain": [
       "(15, 15)"
      ]
     },
     "execution_count": 98,
     "metadata": {},
     "output_type": "execute_result"
    }
   ],
   "source": [
    "y = npstuff()\n",
    "y[1][1], y[1,1]"
   ]
  },
  {
   "cell_type": "markdown",
   "metadata": {},
   "source": [
    "## Return values versus printing\n",
    "\n",
    "Just to pound this concept into your heads...\n",
    "\n",
    "One of the big confusion points for students is the difference between return values and printing results.\n",
    "\n",
    "Programs in the analytics world typically read data from a file and emit output or write data to another file. In other words, programs interact with the world outside of the program. The world outside of the program is usually the network, the disk, or the screen. In contrast, most functions that we write won't interact with the outside world.\n",
    "\n",
    "<img src=\"images/redbang.png\" width=\"30\" align=\"left\">Functions compute and return (give values back) to their caller. They don't print anything to the user unless explicitly asked to do so with a `print` statement."
   ]
  },
  {
   "cell_type": "code",
   "execution_count": 102,
   "metadata": {},
   "outputs": [],
   "source": [
    "def pi():\n",
    "    print(3.14159) # This is not a return statement!\n",
    "    # return value is None"
   ]
  },
  {
   "cell_type": "code",
   "execution_count": 103,
   "metadata": {},
   "outputs": [
    {
     "name": "stdout",
     "output_type": "stream",
     "text": [
      "3.14159\n",
      "None\n"
     ]
    }
   ],
   "source": [
    "print(pi())"
   ]
  },
  {
   "cell_type": "code",
   "execution_count": 104,
   "metadata": {},
   "outputs": [
    {
     "name": "stdout",
     "output_type": "stream",
     "text": [
      "3.14159\n"
     ]
    }
   ],
   "source": [
    "pi()"
   ]
  }
 ],
 "metadata": {
  "kernelspec": {
   "display_name": "Python 3",
   "language": "python",
   "name": "python3"
  },
  "language_info": {
   "codemirror_mode": {
    "name": "ipython",
    "version": 3
   },
   "file_extension": ".py",
   "mimetype": "text/x-python",
   "name": "python",
   "nbconvert_exporter": "python",
   "pygments_lexer": "ipython3",
   "version": "3.8.3"
  }
 },
 "nbformat": 4,
 "nbformat_minor": 4
}
