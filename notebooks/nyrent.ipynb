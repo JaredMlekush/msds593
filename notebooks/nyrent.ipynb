{
 "cells": [
  {
   "cell_type": "markdown",
   "metadata": {},
   "source": [
    "# EDA for Kaggle NYC Rent data set\n",
    "\n",
    "EDA is a very broad term, but I take it to mean \"extracting useful information or formulating new questions about a population of entities based upon the data set.\" This could be everything from interesting tidbits about how many people live in a particular area. Or, we could discover important marketing information, such as what product characteristics people are willing to pay for.\n",
    "\n",
    "One of the best ways to learn EDA, is to walk through an actual data set together, picking apart the data to ask questions and answer them. Sometimes we don't know what the questions are until we see the data. As you'll see, we will often ask the question: \"Whoa! What's going on with the data here?\"\n",
    "\n",
    "## Getting and loading data\n",
    "\n",
    "If you have not done so already, please register at [kaggle.com](kaggle.com); I just signed in through my Google account so it was pretty easy.\n",
    "\n",
    "Once you have registered, you can download the `train.json.zip` file on the [Two Sigma Connect: Rental Listing Inquiries](https://www.kaggle.com/c/two-sigma-connect-rental-listing-inquiries/data) data page.  I'm not allowed to re-host that data so you have to register and download yourself. Be organized and store that data file, and unzip it, in a standard data directory you will use for this course. In my case, I store it in a `data` directory underneath my notebooks directory.\n",
    "\n"
   ]
  },
  {
   "cell_type": "code",
   "execution_count": 1,
   "metadata": {},
   "outputs": [],
   "source": [
    "import numpy as np\n",
    "import pandas as pd"
   ]
  },
  {
   "cell_type": "code",
   "execution_count": 2,
   "metadata": {},
   "outputs": [],
   "source": [
    "import matplotlib.pyplot as plt\n",
    "#%config InlineBackend.figure_format = 'svg'   # svg vs png format make sharper images!\n",
    "%config InlineBackend.figure_format = 'retina' # much faster than svg when generating lots of points"
   ]
  },
  {
   "cell_type": "markdown",
   "metadata": {},
   "source": [
    "The file is stored in what we call the JSON (JavaScript object notation), rather than CSV, but pandas knows how to load it also:"
   ]
  },
  {
   "cell_type": "code",
   "execution_count": 3,
   "metadata": {},
   "outputs": [],
   "source": [
    "df_rent = pd.read_json('data/train.json')"
   ]
  },
  {
   "cell_type": "markdown",
   "metadata": {},
   "source": [
    "### Exercise 1\n",
    "\n",
    "1.  Register at Kaggle; using the same user id as your USF google account is a good idea.\n",
    "1.  Download and unzip train.json.zip into a data directory that you can specify easily from the directory containing this notebook; if you make `data` a subdirectory, like I do, then you can access the file  with past specifier `'data/train.json'`.\n",
    "1.  Read the json file into variable `df_rent`."
   ]
  },
  {
   "cell_type": "markdown",
   "metadata": {},
   "source": [
    "## Getting an initial sniff\n",
    "\n",
    "Step one: how big is this thing and what are the column names and their datatypes?"
   ]
  },
  {
   "cell_type": "code",
   "execution_count": 4,
   "metadata": {},
   "outputs": [
    {
     "name": "stdout",
     "output_type": "stream",
     "text": [
      "<class 'pandas.core.frame.DataFrame'>\n",
      "Int64Index: 49352 entries, 4 to 124009\n",
      "Data columns (total 15 columns):\n",
      " #   Column           Non-Null Count  Dtype  \n",
      "---  ------           --------------  -----  \n",
      " 0   bathrooms        49352 non-null  float64\n",
      " 1   bedrooms         49352 non-null  int64  \n",
      " 2   building_id      49352 non-null  object \n",
      " 3   created          49352 non-null  object \n",
      " 4   description      49352 non-null  object \n",
      " 5   display_address  49352 non-null  object \n",
      " 6   features         49352 non-null  object \n",
      " 7   latitude         49352 non-null  float64\n",
      " 8   listing_id       49352 non-null  int64  \n",
      " 9   longitude        49352 non-null  float64\n",
      " 10  manager_id       49352 non-null  object \n",
      " 11  photos           49352 non-null  object \n",
      " 12  price            49352 non-null  int64  \n",
      " 13  street_address   49352 non-null  object \n",
      " 14  interest_level   49352 non-null  object \n",
      "dtypes: float64(3), int64(3), object(9)\n",
      "memory usage: 6.0+ MB\n"
     ]
    }
   ],
   "source": [
    "df_rent.info()"
   ]
  },
  {
   "cell_type": "code",
   "execution_count": 5,
   "metadata": {},
   "outputs": [
    {
     "data": {
      "text/plain": [
       "49352"
      ]
     },
     "execution_count": 5,
     "metadata": {},
     "output_type": "execute_result"
    }
   ],
   "source": [
    "len(df_rent)"
   ]
  },
  {
   "cell_type": "code",
   "execution_count": 6,
   "metadata": {},
   "outputs": [
    {
     "data": {
      "text/html": [
       "<div>\n",
       "<style scoped>\n",
       "    .dataframe tbody tr th:only-of-type {\n",
       "        vertical-align: middle;\n",
       "    }\n",
       "\n",
       "    .dataframe tbody tr th {\n",
       "        vertical-align: top;\n",
       "    }\n",
       "\n",
       "    .dataframe thead th {\n",
       "        text-align: right;\n",
       "    }\n",
       "</style>\n",
       "<table border=\"1\" class=\"dataframe\">\n",
       "  <thead>\n",
       "    <tr style=\"text-align: right;\">\n",
       "      <th></th>\n",
       "      <th>bathrooms</th>\n",
       "      <th>bedrooms</th>\n",
       "      <th>building_id</th>\n",
       "      <th>created</th>\n",
       "      <th>description</th>\n",
       "      <th>display_address</th>\n",
       "      <th>features</th>\n",
       "      <th>latitude</th>\n",
       "      <th>listing_id</th>\n",
       "      <th>longitude</th>\n",
       "      <th>manager_id</th>\n",
       "      <th>photos</th>\n",
       "      <th>price</th>\n",
       "      <th>street_address</th>\n",
       "      <th>interest_level</th>\n",
       "    </tr>\n",
       "  </thead>\n",
       "  <tbody>\n",
       "    <tr>\n",
       "      <th>4</th>\n",
       "      <td>1.0</td>\n",
       "      <td>1</td>\n",
       "      <td>8579a0b0d54db803821a35a4a615e97a</td>\n",
       "      <td>2016-06-16 05:55:27</td>\n",
       "      <td>Spacious 1 Bedroom 1 Bathroom in Williamsburg!...</td>\n",
       "      <td>145 Borinquen Place</td>\n",
       "      <td>[Dining Room, Pre-War, Laundry in Building, Di...</td>\n",
       "      <td>40.7108</td>\n",
       "      <td>7170325</td>\n",
       "      <td>-73.9539</td>\n",
       "      <td>a10db4590843d78c784171a107bdacb4</td>\n",
       "      <td>[https://photos.renthop.com/2/7170325_3bb5ac84...</td>\n",
       "      <td>2400</td>\n",
       "      <td>145 Borinquen Place</td>\n",
       "      <td>medium</td>\n",
       "    </tr>\n",
       "    <tr>\n",
       "      <th>6</th>\n",
       "      <td>1.0</td>\n",
       "      <td>2</td>\n",
       "      <td>b8e75fc949a6cd8225b455648a951712</td>\n",
       "      <td>2016-06-01 05:44:33</td>\n",
       "      <td>BRAND NEW GUT RENOVATED TRUE 2 BEDROOMFind you...</td>\n",
       "      <td>East 44th</td>\n",
       "      <td>[Doorman, Elevator, Laundry in Building, Dishw...</td>\n",
       "      <td>40.7513</td>\n",
       "      <td>7092344</td>\n",
       "      <td>-73.9722</td>\n",
       "      <td>955db33477af4f40004820b4aed804a0</td>\n",
       "      <td>[https://photos.renthop.com/2/7092344_7663c19a...</td>\n",
       "      <td>3800</td>\n",
       "      <td>230 East 44th</td>\n",
       "      <td>low</td>\n",
       "    </tr>\n",
       "  </tbody>\n",
       "</table>\n",
       "</div>"
      ],
      "text/plain": [
       "   bathrooms  bedrooms                       building_id              created  \\\n",
       "4        1.0         1  8579a0b0d54db803821a35a4a615e97a  2016-06-16 05:55:27   \n",
       "6        1.0         2  b8e75fc949a6cd8225b455648a951712  2016-06-01 05:44:33   \n",
       "\n",
       "                                         description      display_address  \\\n",
       "4  Spacious 1 Bedroom 1 Bathroom in Williamsburg!...  145 Borinquen Place   \n",
       "6  BRAND NEW GUT RENOVATED TRUE 2 BEDROOMFind you...            East 44th   \n",
       "\n",
       "                                            features  latitude  listing_id  \\\n",
       "4  [Dining Room, Pre-War, Laundry in Building, Di...   40.7108     7170325   \n",
       "6  [Doorman, Elevator, Laundry in Building, Dishw...   40.7513     7092344   \n",
       "\n",
       "   longitude                        manager_id  \\\n",
       "4   -73.9539  a10db4590843d78c784171a107bdacb4   \n",
       "6   -73.9722  955db33477af4f40004820b4aed804a0   \n",
       "\n",
       "                                              photos  price  \\\n",
       "4  [https://photos.renthop.com/2/7170325_3bb5ac84...   2400   \n",
       "6  [https://photos.renthop.com/2/7092344_7663c19a...   3800   \n",
       "\n",
       "        street_address interest_level  \n",
       "4  145 Borinquen Place         medium  \n",
       "6        230 East 44th            low  "
      ]
     },
     "execution_count": 6,
     "metadata": {},
     "output_type": "execute_result"
    }
   ],
   "source": [
    "df_rent.head(2)"
   ]
  },
  {
   "cell_type": "markdown",
   "metadata": {},
   "source": [
    "When the data is very wide like this, sometimes it makes sense to show the transpose:"
   ]
  },
  {
   "cell_type": "code",
   "execution_count": 7,
   "metadata": {},
   "outputs": [
    {
     "data": {
      "text/html": [
       "<div>\n",
       "<style scoped>\n",
       "    .dataframe tbody tr th:only-of-type {\n",
       "        vertical-align: middle;\n",
       "    }\n",
       "\n",
       "    .dataframe tbody tr th {\n",
       "        vertical-align: top;\n",
       "    }\n",
       "\n",
       "    .dataframe thead th {\n",
       "        text-align: right;\n",
       "    }\n",
       "</style>\n",
       "<table border=\"1\" class=\"dataframe\">\n",
       "  <thead>\n",
       "    <tr style=\"text-align: right;\">\n",
       "      <th></th>\n",
       "      <th>4</th>\n",
       "      <th>6</th>\n",
       "    </tr>\n",
       "  </thead>\n",
       "  <tbody>\n",
       "    <tr>\n",
       "      <th>bathrooms</th>\n",
       "      <td>1</td>\n",
       "      <td>1</td>\n",
       "    </tr>\n",
       "    <tr>\n",
       "      <th>bedrooms</th>\n",
       "      <td>1</td>\n",
       "      <td>2</td>\n",
       "    </tr>\n",
       "    <tr>\n",
       "      <th>building_id</th>\n",
       "      <td>8579a0b0d54db803821a35a4a615e97a</td>\n",
       "      <td>b8e75fc949a6cd8225b455648a951712</td>\n",
       "    </tr>\n",
       "    <tr>\n",
       "      <th>created</th>\n",
       "      <td>2016-06-16 05:55:27</td>\n",
       "      <td>2016-06-01 05:44:33</td>\n",
       "    </tr>\n",
       "    <tr>\n",
       "      <th>description</th>\n",
       "      <td>Spacious 1 Bedroom 1 Bathroom in Williamsburg!...</td>\n",
       "      <td>BRAND NEW GUT RENOVATED TRUE 2 BEDROOMFind you...</td>\n",
       "    </tr>\n",
       "    <tr>\n",
       "      <th>display_address</th>\n",
       "      <td>145 Borinquen Place</td>\n",
       "      <td>East 44th</td>\n",
       "    </tr>\n",
       "    <tr>\n",
       "      <th>features</th>\n",
       "      <td>[Dining Room, Pre-War, Laundry in Building, Di...</td>\n",
       "      <td>[Doorman, Elevator, Laundry in Building, Dishw...</td>\n",
       "    </tr>\n",
       "    <tr>\n",
       "      <th>latitude</th>\n",
       "      <td>40.7108</td>\n",
       "      <td>40.7513</td>\n",
       "    </tr>\n",
       "    <tr>\n",
       "      <th>listing_id</th>\n",
       "      <td>7170325</td>\n",
       "      <td>7092344</td>\n",
       "    </tr>\n",
       "    <tr>\n",
       "      <th>longitude</th>\n",
       "      <td>-73.9539</td>\n",
       "      <td>-73.9722</td>\n",
       "    </tr>\n",
       "    <tr>\n",
       "      <th>manager_id</th>\n",
       "      <td>a10db4590843d78c784171a107bdacb4</td>\n",
       "      <td>955db33477af4f40004820b4aed804a0</td>\n",
       "    </tr>\n",
       "    <tr>\n",
       "      <th>photos</th>\n",
       "      <td>[https://photos.renthop.com/2/7170325_3bb5ac84...</td>\n",
       "      <td>[https://photos.renthop.com/2/7092344_7663c19a...</td>\n",
       "    </tr>\n",
       "    <tr>\n",
       "      <th>price</th>\n",
       "      <td>2400</td>\n",
       "      <td>3800</td>\n",
       "    </tr>\n",
       "    <tr>\n",
       "      <th>street_address</th>\n",
       "      <td>145 Borinquen Place</td>\n",
       "      <td>230 East 44th</td>\n",
       "    </tr>\n",
       "    <tr>\n",
       "      <th>interest_level</th>\n",
       "      <td>medium</td>\n",
       "      <td>low</td>\n",
       "    </tr>\n",
       "  </tbody>\n",
       "</table>\n",
       "</div>"
      ],
      "text/plain": [
       "                                                                 4  \\\n",
       "bathrooms                                                        1   \n",
       "bedrooms                                                         1   \n",
       "building_id                       8579a0b0d54db803821a35a4a615e97a   \n",
       "created                                        2016-06-16 05:55:27   \n",
       "description      Spacious 1 Bedroom 1 Bathroom in Williamsburg!...   \n",
       "display_address                                145 Borinquen Place   \n",
       "features         [Dining Room, Pre-War, Laundry in Building, Di...   \n",
       "latitude                                                   40.7108   \n",
       "listing_id                                                 7170325   \n",
       "longitude                                                 -73.9539   \n",
       "manager_id                        a10db4590843d78c784171a107bdacb4   \n",
       "photos           [https://photos.renthop.com/2/7170325_3bb5ac84...   \n",
       "price                                                         2400   \n",
       "street_address                                 145 Borinquen Place   \n",
       "interest_level                                              medium   \n",
       "\n",
       "                                                                 6  \n",
       "bathrooms                                                        1  \n",
       "bedrooms                                                         2  \n",
       "building_id                       b8e75fc949a6cd8225b455648a951712  \n",
       "created                                        2016-06-01 05:44:33  \n",
       "description      BRAND NEW GUT RENOVATED TRUE 2 BEDROOMFind you...  \n",
       "display_address                                          East 44th  \n",
       "features         [Doorman, Elevator, Laundry in Building, Dishw...  \n",
       "latitude                                                   40.7513  \n",
       "listing_id                                                 7092344  \n",
       "longitude                                                 -73.9722  \n",
       "manager_id                        955db33477af4f40004820b4aed804a0  \n",
       "photos           [https://photos.renthop.com/2/7092344_7663c19a...  \n",
       "price                                                         3800  \n",
       "street_address                                       230 East 44th  \n",
       "interest_level                                                 low  "
      ]
     },
     "execution_count": 7,
     "metadata": {},
     "output_type": "execute_result"
    }
   ],
   "source": [
    "df_rent.head(2).T"
   ]
  },
  {
   "cell_type": "markdown",
   "metadata": {},
   "source": [
    "Okay, so this is a lot more complicated than the toys we've looked at so far. First, it has many more rows, almost 50,000. Second, there are a lot more columns and we have integers, floats, and strings.\n",
    "\n",
    "Are there any missing values, at least those signified with NaN.  Keep in mind, that there may be some values that were not physically missing but have sentinel values that indicate missing.  Luckily, there is no obviously missing data:"
   ]
  },
  {
   "cell_type": "code",
   "execution_count": 8,
   "metadata": {},
   "outputs": [
    {
     "data": {
      "text/plain": [
       "bathrooms          False\n",
       "bedrooms           False\n",
       "building_id        False\n",
       "created            False\n",
       "description        False\n",
       "display_address    False\n",
       "features           False\n",
       "latitude           False\n",
       "listing_id         False\n",
       "longitude          False\n",
       "manager_id         False\n",
       "photos             False\n",
       "price              False\n",
       "street_address     False\n",
       "interest_level     False\n",
       "dtype: bool"
      ]
     },
     "execution_count": 8,
     "metadata": {},
     "output_type": "execute_result"
    }
   ],
   "source": [
    "df_rent.isnull().any()"
   ]
  },
  {
   "cell_type": "markdown",
   "metadata": {},
   "source": [
    "Look at the sample data now and see what kind of stuff is in each column. There are three that are interesting from initial inspection: `features`, `photos`, and `interest_level`."
   ]
  },
  {
   "cell_type": "code",
   "execution_count": 9,
   "metadata": {},
   "outputs": [
    {
     "data": {
      "text/plain": [
       "4    [Dining Room, Pre-War, Laundry in Building, Di...\n",
       "6    [Doorman, Elevator, Laundry in Building, Dishw...\n",
       "9    [Doorman, Elevator, Laundry in Building, Laund...\n",
       "Name: features, dtype: object"
      ]
     },
     "execution_count": 9,
     "metadata": {},
     "output_type": "execute_result"
    }
   ],
   "source": [
    "df_rent['features'].head(3)"
   ]
  },
  {
   "cell_type": "code",
   "execution_count": 10,
   "metadata": {},
   "outputs": [
    {
     "data": {
      "text/plain": [
       "4    [https://photos.renthop.com/2/7170325_3bb5ac84...\n",
       "6    [https://photos.renthop.com/2/7092344_7663c19a...\n",
       "9    [https://photos.renthop.com/2/7158677_c897a134...\n",
       "Name: photos, dtype: object"
      ]
     },
     "execution_count": 10,
     "metadata": {},
     "output_type": "execute_result"
    }
   ],
   "source": [
    "df_rent['photos'].head(3)"
   ]
  },
  {
   "cell_type": "code",
   "execution_count": 11,
   "metadata": {},
   "outputs": [
    {
     "data": {
      "text/plain": [
       "4    medium\n",
       "6       low\n",
       "9    medium\n",
       "Name: interest_level, dtype: object"
      ]
     },
     "execution_count": 11,
     "metadata": {},
     "output_type": "execute_result"
    }
   ],
   "source": [
    "df_rent['interest_level'].head(3)"
   ]
  },
  {
   "cell_type": "markdown",
   "metadata": {},
   "source": [
    "The first two look like lists of stuff and the last one looks like a categorical variable (which we'll deal with shortly)."
   ]
  },
  {
   "cell_type": "code",
   "execution_count": 12,
   "metadata": {},
   "outputs": [
    {
     "data": {
      "text/plain": [
       "['Doorman',\n",
       " 'Elevator',\n",
       " 'Laundry in Building',\n",
       " 'Dishwasher',\n",
       " 'Hardwood Floors',\n",
       " 'No Fee']"
      ]
     },
     "execution_count": 12,
     "metadata": {},
     "output_type": "execute_result"
    }
   ],
   "source": [
    "df_rent.loc[6,'features'] # pick a row and show the list of features"
   ]
  },
  {
   "cell_type": "code",
   "execution_count": 13,
   "metadata": {},
   "outputs": [
    {
     "data": {
      "text/plain": [
       "['https://photos.renthop.com/2/7092344_7663c19af02c46104bc4c569f7162ae0.jpg',\n",
       " 'https://photos.renthop.com/2/7092344_8287349abe511d195a7b6129bf24af0e.jpg',\n",
       " 'https://photos.renthop.com/2/7092344_e9e6a2b7aa95aa7564fe3318cadcf4e7.jpg',\n",
       " 'https://photos.renthop.com/2/7092344_d51ee4b92fd9246633f93afe6e86d8f0.jpg',\n",
       " 'https://photos.renthop.com/2/7092344_f0573fa184ca130b1b6000f2fa90511c.jpg',\n",
       " 'https://photos.renthop.com/2/7092344_b2a62f769a59a317b0a243000db46fd0.jpg']"
      ]
     },
     "execution_count": 13,
     "metadata": {},
     "output_type": "execute_result"
    }
   ],
   "source": [
    "df_rent.loc[6,'photos'] # pick a row and show the list of phone urls"
   ]
  },
  {
   "cell_type": "markdown",
   "metadata": {},
   "source": [
    "Because we read in the data with JSON and not CSV,  pandas has created actual list objects for us, since that is how they were represented in JSON format. So these are not stored as strings but as lists. Anything nonnumeric, pandas stores as \"Object\":"
   ]
  },
  {
   "cell_type": "code",
   "execution_count": 14,
   "metadata": {},
   "outputs": [
    {
     "data": {
      "text/plain": [
       "dtype('O')"
      ]
     },
     "execution_count": 14,
     "metadata": {},
     "output_type": "execute_result"
    }
   ],
   "source": [
    "df_rent['features'].dtype  # \"O\" is for object"
   ]
  },
  {
   "cell_type": "code",
   "execution_count": 15,
   "metadata": {},
   "outputs": [
    {
     "data": {
      "text/plain": [
       "list"
      ]
     },
     "execution_count": 15,
     "metadata": {},
     "output_type": "execute_result"
    }
   ],
   "source": [
    "f = df_rent.loc[6,'features']  # features four row identified by 6 in the index\n",
    "type(f)"
   ]
  },
  {
   "cell_type": "markdown",
   "metadata": {},
   "source": [
    "## Identifying categorical variables\n",
    "\n",
    "One of the features (columns) is clearly a categorical variable. In particular, it is an ordinal categorical variable; \"ordinal\" stands for ordered."
   ]
  },
  {
   "cell_type": "code",
   "execution_count": 16,
   "metadata": {},
   "outputs": [
    {
     "data": {
      "text/plain": [
       "array(['medium', 'low', 'high'], dtype=object)"
      ]
     },
     "execution_count": 16,
     "metadata": {},
     "output_type": "execute_result"
    }
   ],
   "source": [
    "df_rent['interest_level'].unique()  # yep, looks like an ordinal categorical"
   ]
  },
  {
   "cell_type": "markdown",
   "metadata": {},
   "source": [
    "So, let's convert it so that it has the proper data type:"
   ]
  },
  {
   "cell_type": "code",
   "execution_count": 17,
   "metadata": {},
   "outputs": [
    {
     "data": {
      "text/plain": [
       "4         medium\n",
       "6            low\n",
       "9         medium\n",
       "10        medium\n",
       "15           low\n",
       "           ...  \n",
       "124000       low\n",
       "124002    medium\n",
       "124004    medium\n",
       "124008    medium\n",
       "124009      high\n",
       "Name: interest_level, Length: 49352, dtype: category\n",
       "Categories (3, object): [high < low < medium]"
      ]
     },
     "execution_count": 17,
     "metadata": {},
     "output_type": "execute_result"
    }
   ],
   "source": [
    "df_rent['interest_level'] = df_rent['interest_level'].astype('category')\n",
    "df_rent['interest_level'] = df_rent['interest_level'].cat.as_ordered()\n",
    "df_rent['interest_level']"
   ]
  },
  {
   "cell_type": "markdown",
   "metadata": {},
   "source": [
    " Once we have converted a column to be categorical, we can then access a group of functions via `cat`.  Above, `df_rent['interest_level'].cat.foo` accesses any category related functions or values associated with that particular column. For example, here is how to get the integer representation for each category level:"
   ]
  },
  {
   "cell_type": "code",
   "execution_count": 18,
   "metadata": {},
   "outputs": [
    {
     "data": {
      "text/plain": [
       "4         2\n",
       "6         1\n",
       "9         2\n",
       "10        2\n",
       "15        1\n",
       "         ..\n",
       "124000    1\n",
       "124002    2\n",
       "124004    2\n",
       "124008    2\n",
       "124009    0\n",
       "Length: 49352, dtype: int8"
      ]
     },
     "execution_count": 18,
     "metadata": {},
     "output_type": "execute_result"
    }
   ],
   "source": [
    "df_rent['interest_level'].cat.codes"
   ]
  },
  {
   "cell_type": "markdown",
   "metadata": {},
   "source": [
    "That category order doesn't look right so let's make sure that it goes from low to high. We want  low=0, medium=1, high=2. The reason to do so is mainly for modeling purposes, but it's a good idea to be rigorous."
   ]
  },
  {
   "cell_type": "code",
   "execution_count": 19,
   "metadata": {},
   "outputs": [
    {
     "data": {
      "text/plain": [
       "4         medium\n",
       "6            low\n",
       "9         medium\n",
       "10        medium\n",
       "15           low\n",
       "           ...  \n",
       "124000       low\n",
       "124002    medium\n",
       "124004    medium\n",
       "124008    medium\n",
       "124009      high\n",
       "Name: interest_level, Length: 49352, dtype: category\n",
       "Categories (3, object): [low < medium < high]"
      ]
     },
     "execution_count": 19,
     "metadata": {},
     "output_type": "execute_result"
    }
   ],
   "source": [
    "df_rent['interest_level'] = df_rent['interest_level'].cat.reorder_categories(['low','medium','high'])\n",
    "df_rent['interest_level']"
   ]
  },
  {
   "cell_type": "code",
   "execution_count": 20,
   "metadata": {},
   "outputs": [
    {
     "data": {
      "text/plain": [
       "4         1\n",
       "6         0\n",
       "9         1\n",
       "10        1\n",
       "15        0\n",
       "         ..\n",
       "124000    0\n",
       "124002    1\n",
       "124004    1\n",
       "124008    1\n",
       "124009    2\n",
       "Length: 49352, dtype: int8"
      ]
     },
     "execution_count": 20,
     "metadata": {},
     "output_type": "execute_result"
    }
   ],
   "source": [
    "df_rent['interest_level'].cat.codes"
   ]
  },
  {
   "cell_type": "markdown",
   "metadata": {},
   "source": [
    "Now the categories are correctly mapped to 0, 1, and 2."
   ]
  },
  {
   "cell_type": "markdown",
   "metadata": {},
   "source": [
    "## Basic exploration of numerical features"
   ]
  },
  {
   "cell_type": "markdown",
   "metadata": {},
   "source": [
    "### Uniqueness, counts, histograms"
   ]
  },
  {
   "cell_type": "code",
   "execution_count": 21,
   "metadata": {},
   "outputs": [
    {
     "data": {
      "text/plain": [
       "array([1, 2, 3, 0, 4, 5, 6, 8, 7])"
      ]
     },
     "execution_count": 21,
     "metadata": {},
     "output_type": "execute_result"
    }
   ],
   "source": [
    "df_rent['bedrooms'].unique()"
   ]
  },
  {
   "cell_type": "code",
   "execution_count": 22,
   "metadata": {},
   "outputs": [
    {
     "data": {
      "text/plain": [
       "1    15752\n",
       "2    14623\n",
       "0     9475\n",
       "3     7276\n",
       "4     1929\n",
       "5      247\n",
       "6       46\n",
       "8        2\n",
       "7        2\n",
       "Name: bedrooms, dtype: int64"
      ]
     },
     "execution_count": 22,
     "metadata": {},
     "output_type": "execute_result"
    }
   ],
   "source": [
    "df_rent['bedrooms'].value_counts()"
   ]
  },
  {
   "cell_type": "code",
   "execution_count": 23,
   "metadata": {},
   "outputs": [
    {
     "data": {
      "text/plain": [
       "array([ 1. ,  1.5,  2. ,  0. ,  3. ,  4. ,  2.5,  4.5,  3.5,  5. ,  6. ,\n",
       "        6.5,  5.5,  7. , 10. ])"
      ]
     },
     "execution_count": 23,
     "metadata": {},
     "output_type": "execute_result"
    }
   ],
   "source": [
    "df_rent['bathrooms'].unique()"
   ]
  },
  {
   "cell_type": "code",
   "execution_count": 24,
   "metadata": {},
   "outputs": [
    {
     "data": {
      "text/plain": [
       "1.0     39422\n",
       "2.0      7660\n",
       "3.0       745\n",
       "1.5       645\n",
       "0.0       313\n",
       "2.5       277\n",
       "4.0       159\n",
       "3.5        70\n",
       "4.5        29\n",
       "5.0        20\n",
       "5.5         5\n",
       "6.0         4\n",
       "10.0        1\n",
       "6.5         1\n",
       "7.0         1\n",
       "Name: bathrooms, dtype: int64"
      ]
     },
     "execution_count": 24,
     "metadata": {},
     "output_type": "execute_result"
    }
   ],
   "source": [
    "df_rent['bathrooms'].value_counts()"
   ]
  },
  {
   "cell_type": "code",
   "execution_count": 25,
   "metadata": {},
   "outputs": [
    {
     "data": {
      "text/plain": [
       "e6472c7237327dd3903b3d6f6a94515a    2533\n",
       "6e5c10246156ae5bdcd9b487ca99d96a     711\n",
       "8f5a9c893f6d602f4953fcc0b8e6e9b4     410\n",
       "62b685cc0d876c3a1a51d63a0d6a8082     402\n",
       "cb87dadbca78fad02b388dc9e8f25a5b     373\n",
       "Name: manager_id, dtype: int64"
      ]
     },
     "execution_count": 25,
     "metadata": {},
     "output_type": "execute_result"
    }
   ],
   "source": [
    "df_rent['manager_id'].value_counts().head(5)"
   ]
  },
  {
   "cell_type": "code",
   "execution_count": 26,
   "metadata": {},
   "outputs": [
    {
     "data": {
      "image/png": "[encoded data removed]",
      "text/plain": [
       "<Figure size 216x144 with 1 Axes>"
      ]
     },
     "metadata": {
      "image/png": {
       "height": 153,
       "width": 220
      },
      "needs_background": "light"
     },
     "output_type": "display_data"
    }
   ],
   "source": [
    "fig, ax = plt.subplots(figsize=(3,2))\n",
    "ax.hist(df_rent['bedrooms'])\n",
    "ax.set_xlabel(\"bedrooms\")\n",
    "plt.show()"
   ]
  },
  {
   "cell_type": "markdown",
   "metadata": {},
   "source": [
    "Here's how you put two graphs side-by-side:"
   ]
  },
  {
   "cell_type": "code",
   "execution_count": 27,
   "metadata": {},
   "outputs": [
    {
     "data": {
      "image/png": "[encoded data removed]",
      "text/plain": [
       "<Figure size 432x144 with 2 Axes>"
      ]
     },
     "metadata": {
      "image/png": {
       "height": 135,
       "width": 424
      },
      "needs_background": "light"
     },
     "output_type": "display_data"
    }
   ],
   "source": [
    "fig, axes = plt.subplots(nrows=1, ncols=2, figsize=(6,2))\n",
    "axes[0].hist(df_rent['bedrooms'])\n",
    "axes[0].set_xlabel(\"bedrooms\")\n",
    "axes[1].hist(df_rent['bathrooms'])\n",
    "axes[1].set_xlabel(\"bathrooms\")\n",
    "plt.tight_layout() #  Not sure why we need this but we do, to separate the plots!\n",
    "plt.show()"
   ]
  },
  {
   "cell_type": "markdown",
   "metadata": {},
   "source": [
    "## Anomalies!"
   ]
  },
  {
   "cell_type": "markdown",
   "metadata": {},
   "source": [
    "Another interesting histogram is the price:"
   ]
  },
  {
   "cell_type": "code",
   "execution_count": 28,
   "metadata": {},
   "outputs": [
    {
     "data": {
      "image/png": "[encoded data removed]",
      "text/plain": [
       "<Figure size 216x144 with 1 Axes>"
      ]
     },
     "metadata": {
      "image/png": {
       "height": 153,
       "width": 220
      },
      "needs_background": "light"
     },
     "output_type": "display_data"
    }
   ],
   "source": [
    "fig, ax = plt.subplots(figsize=(3,2))\n",
    "ax.hist(df_rent['price'])\n",
    "ax.set_xlabel(\"price\")\n",
    "plt.show()"
   ]
  },
  {
   "cell_type": "markdown",
   "metadata": {},
   "source": [
    "Uh oh.  That looks very strange.  Let's look at a reverse sort of the prices:"
   ]
  },
  {
   "cell_type": "code",
   "execution_count": 29,
   "metadata": {},
   "outputs": [
    {
     "data": {
      "text/plain": [
       "32611     4490000\n",
       "12168     1150000\n",
       "57803     1070000\n",
       "55437     1070000\n",
       "123877     135000\n",
       "4620       111111\n",
       "91709      100000\n",
       "54148       90000\n",
       "116586      85000\n",
       "96905       80000\n",
       "Name: price, dtype: int64"
      ]
     },
     "execution_count": 29,
     "metadata": {},
     "output_type": "execute_result"
    }
   ],
   "source": [
    "df_rent['price'].sort_values(ascending=False).head(10)"
   ]
  },
  {
   "cell_type": "markdown",
   "metadata": {},
   "source": [
    "Some of the apartments cost over 1 million a month! That doesn't make any sense.  How can this be?  After poking around a little bit, it will become clear that people are putting their apartments for sale not rent on this website as well. If we plot only those records with a maximum price of \\$10,000 we'll see something a little more interesting."
   ]
  },
  {
   "cell_type": "code",
   "execution_count": 30,
   "metadata": {},
   "outputs": [
    {
     "data": {
      "image/png": "[encoded data removed]",
      "text/plain": [
       "<Figure size 216x144 with 1 Axes>"
      ]
     },
     "metadata": {
      "image/png": {
       "height": 153,
       "width": 229
      },
      "needs_background": "light"
     },
     "output_type": "display_data"
    }
   ],
   "source": [
    "df_cheap = df_rent[df_rent['price']<=10_000]\n",
    "fig, ax = plt.subplots(figsize=(3,2))\n",
    "ax.hist(df_cheap['price'])\n",
    "ax.set_xlabel(\"price < 10k\")\n",
    "plt.show()"
   ]
  },
  {
   "cell_type": "markdown",
   "metadata": {},
   "source": [
    "We can even learn something interesting about how many photos people post about their apartments for rent.  Let's compute the length of each list of photos per record. The way we do that is to tell pandas to apply the Python `len` function to each element of the column:"
   ]
  },
  {
   "cell_type": "code",
   "execution_count": 31,
   "metadata": {},
   "outputs": [
    {
     "data": {
      "text/plain": [
       "4     12\n",
       "6      6\n",
       "9      6\n",
       "10     5\n",
       "15     4\n",
       "Name: photos, dtype: int64"
      ]
     },
     "execution_count": 31,
     "metadata": {},
     "output_type": "execute_result"
    }
   ],
   "source": [
    "numphotos = df_rent['photos'].apply(len)\n",
    "numphotos.head(5)"
   ]
  },
  {
   "cell_type": "code",
   "execution_count": 32,
   "metadata": {},
   "outputs": [
    {
     "data": {
      "image/png": "[encoded data removed]",
      "text/plain": [
       "<Figure size 216x144 with 1 Axes>"
      ]
     },
     "metadata": {
      "image/png": {
       "height": 153,
       "width": 220
      },
      "needs_background": "light"
     },
     "output_type": "display_data"
    }
   ],
   "source": [
    "fig, ax = plt.subplots(figsize=(3,2))\n",
    "ax.hist(numphotos, bins=50)\n",
    "ax.set_xlabel(\"# of photos\")\n",
    "plt.show()"
   ]
  },
  {
   "cell_type": "markdown",
   "metadata": {},
   "source": [
    "Why does the graph look weird? there must be something in the right tail."
   ]
  },
  {
   "cell_type": "code",
   "execution_count": 33,
   "metadata": {},
   "outputs": [
    {
     "data": {
      "text/plain": [
       "(0, 68)"
      ]
     },
     "execution_count": 33,
     "metadata": {},
     "output_type": "execute_result"
    }
   ],
   "source": [
    "numphotos.min(), numphotos.max()"
   ]
  },
  {
   "cell_type": "markdown",
   "metadata": {},
   "source": [
    "Someone posted 68 photos for the apartment. what?  The sounds like something we should investigate. We need to filter the data frame for those records with a lot of photos. The simplest approach is to inject the `numphotos` as a column and then use that as a filter."
   ]
  },
  {
   "cell_type": "code",
   "execution_count": 34,
   "metadata": {},
   "outputs": [
    {
     "data": {
      "text/html": [
       "<div>\n",
       "<style scoped>\n",
       "    .dataframe tbody tr th:only-of-type {\n",
       "        vertical-align: middle;\n",
       "    }\n",
       "\n",
       "    .dataframe tbody tr th {\n",
       "        vertical-align: top;\n",
       "    }\n",
       "\n",
       "    .dataframe thead th {\n",
       "        text-align: right;\n",
       "    }\n",
       "</style>\n",
       "<table border=\"1\" class=\"dataframe\">\n",
       "  <thead>\n",
       "    <tr style=\"text-align: right;\">\n",
       "      <th></th>\n",
       "      <th>bathrooms</th>\n",
       "      <th>bedrooms</th>\n",
       "      <th>building_id</th>\n",
       "      <th>created</th>\n",
       "      <th>description</th>\n",
       "      <th>display_address</th>\n",
       "      <th>features</th>\n",
       "      <th>latitude</th>\n",
       "      <th>listing_id</th>\n",
       "      <th>longitude</th>\n",
       "      <th>manager_id</th>\n",
       "      <th>photos</th>\n",
       "      <th>price</th>\n",
       "      <th>street_address</th>\n",
       "      <th>interest_level</th>\n",
       "      <th>numphotos</th>\n",
       "    </tr>\n",
       "  </thead>\n",
       "  <tbody>\n",
       "    <tr>\n",
       "      <th>32963</th>\n",
       "      <td>3.0</td>\n",
       "      <td>3</td>\n",
       "      <td>0</td>\n",
       "      <td>2016-06-25 02:54:01</td>\n",
       "      <td>BACK TO SCHOOL ! FAMILY HOME, three BIG bedroo...</td>\n",
       "      <td>The Somerset 1365 York Avenue</td>\n",
       "      <td>[Fitness Center, Childrens Playroom, Residents...</td>\n",
       "      <td>40.7674</td>\n",
       "      <td>7214466</td>\n",
       "      <td>-73.9538</td>\n",
       "      <td>9df32cb8dda19d3222d66e69e258616b</td>\n",
       "      <td>[https://photos.renthop.com/2/7214466_4000a418...</td>\n",
       "      <td>7995</td>\n",
       "      <td>The Somerset 1365 York Avenue</td>\n",
       "      <td>low</td>\n",
       "      <td>68</td>\n",
       "    </tr>\n",
       "  </tbody>\n",
       "</table>\n",
       "</div>"
      ],
      "text/plain": [
       "       bathrooms  bedrooms building_id              created  \\\n",
       "32963        3.0         3           0  2016-06-25 02:54:01   \n",
       "\n",
       "                                             description  \\\n",
       "32963  BACK TO SCHOOL ! FAMILY HOME, three BIG bedroo...   \n",
       "\n",
       "                     display_address  \\\n",
       "32963  The Somerset 1365 York Avenue   \n",
       "\n",
       "                                                features  latitude  \\\n",
       "32963  [Fitness Center, Childrens Playroom, Residents...   40.7674   \n",
       "\n",
       "       listing_id  longitude                        manager_id  \\\n",
       "32963     7214466   -73.9538  9df32cb8dda19d3222d66e69e258616b   \n",
       "\n",
       "                                                  photos  price  \\\n",
       "32963  [https://photos.renthop.com/2/7214466_4000a418...   7995   \n",
       "\n",
       "                      street_address interest_level  numphotos  \n",
       "32963  The Somerset 1365 York Avenue            low         68  "
      ]
     },
     "execution_count": 34,
     "metadata": {},
     "output_type": "execute_result"
    }
   ],
   "source": [
    "df_rent['numphotos'] = numphotos\n",
    "df_rent[df_rent['numphotos']>60]"
   ]
  },
  {
   "cell_type": "markdown",
   "metadata": {},
   "source": [
    "It looks like it's just one record with that many images. Use the index to grab it and show the list of pictures for fun."
   ]
  },
  {
   "cell_type": "code",
   "execution_count": 35,
   "metadata": {},
   "outputs": [
    {
     "data": {
      "text/plain": [
       "['https://photos.renthop.com/2/7214466_4000a418d3e449a7a0506c3166168393.jpg',\n",
       " 'https://photos.renthop.com/2/7214466_67b015ddb5a7b7cf7370f865e2e533f9.jpg',\n",
       " 'https://photos.renthop.com/2/7214466_0c86333bb7c566932a7709c395554db3.jpg',\n",
       " 'https://photos.renthop.com/2/7214466_0aa3cc4dadeb2322116e7617bf812c29.jpg',\n",
       " 'https://photos.renthop.com/2/7214466_33f3db4f14ba0f4fb3ae31846eda36d6.jpg']"
      ]
     },
     "execution_count": 35,
     "metadata": {},
     "output_type": "execute_result"
    }
   ],
   "source": [
    "photos = df_rent.loc[32963, 'photos']\n",
    "photos[0:5]"
   ]
  },
  {
   "cell_type": "markdown",
   "metadata": {},
   "source": [
    "Picking one at random, here's what it looks like:<br>\n",
    "<img src=\"https://photos.renthop.com/2/7214466_33f3db4f14ba0f4fb3ae31846eda36d6.jpg\" width=\"150\">"
   ]
  },
  {
   "cell_type": "code",
   "execution_count": 36,
   "metadata": {},
   "outputs": [
    {
     "data": {
      "text/plain": [
       "7995"
      ]
     },
     "execution_count": 36,
     "metadata": {},
     "output_type": "execute_result"
    }
   ],
   "source": [
    "df_rent.loc[32963, 'price'] # how much per month? ~8k$"
   ]
  },
  {
   "cell_type": "markdown",
   "metadata": {},
   "source": [
    "I see nothing crazy about the apartment other than the number of images they posted. My conclusion is that they really want to rent this place, but nothing is suspicious.  The point is here that you have to dig around in the data as part of the exploration and use your brain. It's not just calling functions."
   ]
  },
  {
   "cell_type": "markdown",
   "metadata": {},
   "source": [
    "### Exercise 2\n",
    "\n",
    "There's something strange with the histogram of bathrooms above.\n",
    "\n",
    "1. Read in the data and plot the histogram for bathrooms\n",
    "1. Look at the `value_counts()`\n",
    "1.  Filter the data frame for records whose bathrooms is above six\n",
    "1. There are 3 such records. Do you notice anything unusual about one of them? Look at the price and number of bedrooms. Something doesn't seem right here.\n",
    "1.  Extract the photos list of URLs and check them out for the apartment with 10 bathrooms. They do not seem to be a good representation of a place with 10 bathrooms.\n",
    "1.  Read the description associated with the apartment.  All in all, I think we can conclude that somebody typed in 10 bathrooms but they meant 1. It's a typo."
   ]
  },
  {
   "cell_type": "markdown",
   "metadata": {},
   "source": [
    "## Digging deeper into the data"
   ]
  },
  {
   "cell_type": "markdown",
   "metadata": {},
   "source": [
    "###  The relationship between features\n",
    "\n",
    "If I were trying to rent an apartment, I'd like to know what people are willing to pay for. That means we should look at the relationship between various features and rent price. Let's start out by blindly computing the correlation coefficient between bedrooms in price then bathrooms in price:"
   ]
  },
  {
   "cell_type": "code",
   "execution_count": 37,
   "metadata": {},
   "outputs": [
    {
     "data": {
      "text/plain": [
       "array([[1.        , 0.05178807],\n",
       "       [0.05178807, 1.        ]])"
      ]
     },
     "execution_count": 37,
     "metadata": {},
     "output_type": "execute_result"
    }
   ],
   "source": [
    "np.corrcoef(df_rent['bedrooms'], df_rent['price'])"
   ]
  },
  {
   "cell_type": "code",
   "execution_count": 38,
   "metadata": {},
   "outputs": [
    {
     "data": {
      "text/plain": [
       "array([[1.        , 0.06966123],\n",
       "       [0.06966123, 1.        ]])"
      ]
     },
     "execution_count": 38,
     "metadata": {},
     "output_type": "execute_result"
    }
   ],
   "source": [
    "np.corrcoef(df_rent['bathrooms'], df_rent['price'])"
   ]
  },
  {
   "cell_type": "markdown",
   "metadata": {},
   "source": [
    "That is very strange. There's not seem to be a correlation, which is counterintuitive. Either our intuition is wrong or the data is wrong, or at least misleading.   Recall that there are some apartments that are for sale rather than for rent so let's filter those out:"
   ]
  },
  {
   "cell_type": "code",
   "execution_count": 39,
   "metadata": {},
   "outputs": [
    {
     "data": {
      "text/plain": [
       "48474"
      ]
     },
     "execution_count": 39,
     "metadata": {},
     "output_type": "execute_result"
    }
   ],
   "source": [
    "df_rent = df_rent[df_rent['price']<=10_000].copy()\n",
    "len(df_rent)"
   ]
  },
  {
   "cell_type": "markdown",
   "metadata": {},
   "source": [
    "And now, by magic, all the sudden we are seeing strong correlations:"
   ]
  },
  {
   "cell_type": "code",
   "execution_count": 40,
   "metadata": {},
   "outputs": [
    {
     "data": {
      "text/plain": [
       "0.5596391219420096"
      ]
     },
     "execution_count": 40,
     "metadata": {},
     "output_type": "execute_result"
    }
   ],
   "source": [
    "np.corrcoef(df_rent['bedrooms'], df_rent['price'])[0,1]"
   ]
  },
  {
   "cell_type": "code",
   "execution_count": 41,
   "metadata": {},
   "outputs": [
    {
     "data": {
      "text/plain": [
       "0.6359309382693218"
      ]
     },
     "execution_count": 41,
     "metadata": {},
     "output_type": "execute_result"
    }
   ],
   "source": [
    "np.corrcoef(df_rent['bathrooms'], df_rent['price'])[0,1]"
   ]
  },
  {
   "cell_type": "code",
   "execution_count": 42,
   "metadata": {},
   "outputs": [
    {
     "data": {
      "image/png": "[encoded data removed]",
      "text/plain": [
       "<Figure size 144x144 with 1 Axes>"
      ]
     },
     "metadata": {
      "image/png": {
       "height": 139,
       "width": 166
      },
      "needs_background": "light"
     },
     "output_type": "display_data"
    }
   ],
   "source": [
    "fig, ax = plt.subplots(figsize=(2,2))  # make one subplot (ax) on the figure\n",
    "ax.scatter(df_rent['bathrooms'], df_rent['price'])\n",
    "plt.show()"
   ]
  },
  {
   "cell_type": "markdown",
   "metadata": {},
   "source": [
    "This graph is hard to read so let's add labels and  make the dots semi transparent using the alpha channel:"
   ]
  },
  {
   "cell_type": "code",
   "execution_count": 43,
   "metadata": {},
   "outputs": [
    {
     "data": {
      "image/png": "[encoded data removed]",
      "text/plain": [
       "<Figure size 144x144 with 1 Axes>"
      ]
     },
     "metadata": {
      "image/png": {
       "height": 153,
       "width": 179
      },
      "needs_background": "light"
     },
     "output_type": "display_data"
    }
   ],
   "source": [
    "fig, ax = plt.subplots(figsize=(2,2))  # make one subplot (ax) on the figure\n",
    "ax.scatter(df_rent['bathrooms'], df_rent['price'], alpha=.1)\n",
    "\n",
    "ax.set_xlabel(\"bathrooms\")\n",
    "ax.set_ylabel(\"price\")\n",
    "plt.show()"
   ]
  },
  {
   "cell_type": "markdown",
   "metadata": {},
   "source": [
    "Ok, we can see here that, for a given number of bathrooms, there is a wide range of rent prices: the vertical dots for any X location are widely spread out.\n",
    "\n",
    "A better visualization would probably be a box plot or violin plot.  In both cases, we need a list of values for each box or \"violin\", which we can do by selecting the price for all low, medium, and high interest levels:"
   ]
  },
  {
   "cell_type": "code",
   "execution_count": 44,
   "metadata": {},
   "outputs": [],
   "source": [
    "low = df_rent[df_rent['interest_level']=='low']['price'].values\n",
    "med = df_rent[df_rent['interest_level']=='medium']['price'].values\n",
    "hi  = df_rent[df_rent['interest_level']=='high']['price'].values"
   ]
  },
  {
   "cell_type": "markdown",
   "metadata": {},
   "source": [
    "#### Question\n",
    "\n",
    "Please explain the order of operations and the data type of each sub expression for the assignment to `low`."
   ]
  },
  {
   "cell_type": "markdown",
   "metadata": {},
   "source": [
    "Ok, and here's how to do the box and violin plot together:"
   ]
  },
  {
   "cell_type": "code",
   "execution_count": 45,
   "metadata": {},
   "outputs": [
    {
     "data": {
      "image/png": "[encoded data removed]",
      "text/plain": [
       "<Figure size 432x180 with 2 Axes>"
      ]
     },
     "metadata": {
      "image/png": {
       "height": 171,
       "width": 424
      },
      "needs_background": "light"
     },
     "output_type": "display_data"
    }
   ],
   "source": [
    "fig, axes = plt.subplots(nrows=1, ncols=2, figsize=(6,2.5))  # make side-by-side plot\n",
    "\n",
    "axes[0].boxplot([low, med, hi], showfliers=False) # don't show outliers\n",
    "axes[0].set_xticks(range(1,3+1))\n",
    "axes[0].set_xticklabels(['low','med','hi'])  # set labels on the X axis\n",
    "axes[0].set_xlabel(\"Interest level\")\n",
    "axes[0].set_ylabel(\"Price\")\n",
    "\n",
    "axes[1].violinplot([low, med, hi])\n",
    "axes[1].set_xticks(range(1,3+1))\n",
    "axes[1].set_xticklabels(['low','med','hi'])  # set labels on the X axis\n",
    "axes[1].set_xlabel(\"Interest level\")\n",
    "axes[1].set_ylabel(\"Price\")\n",
    "\n",
    "plt.tight_layout()\n",
    "plt.show()"
   ]
  },
  {
   "cell_type": "markdown",
   "metadata": {},
   "source": [
    "From this, we can conclude that the highest interest concentration is for lower-priced apartments.\n",
    "\n",
    "From matplotlib doc: \"*The box extends from the lower to upper quartile values of the data, with a line at the median. The whiskers extend from the box to show the range of the [quartile] data.*\""
   ]
  },
  {
   "cell_type": "markdown",
   "metadata": {},
   "source": [
    "### Exercise 3\n",
    "\n",
    "1.  Using the column we injected, `numphotos`, display the correlation between the number of photos and the price of an apartment\n",
    "1.  Plot a scatterplot of `numphotos` versus price\n",
    "1.  Give a violin plot for the price of one, two, and three bedroom apartments."
   ]
  },
  {
   "cell_type": "markdown",
   "metadata": {},
   "source": [
    "## Grouping records by feature\n",
    "\n",
    "The correlation coefficient and visual representations of the relationship between two features are very useful, but we sometimes want to know the average value of one column  grouping by another column. For example, here is how to group the records by the number of bedrooms and get the average number of all other numeric columns:"
   ]
  },
  {
   "cell_type": "code",
   "execution_count": 46,
   "metadata": {},
   "outputs": [
    {
     "data": {
      "text/html": [
       "<div>\n",
       "<style scoped>\n",
       "    .dataframe tbody tr th:only-of-type {\n",
       "        vertical-align: middle;\n",
       "    }\n",
       "\n",
       "    .dataframe tbody tr th {\n",
       "        vertical-align: top;\n",
       "    }\n",
       "\n",
       "    .dataframe thead th {\n",
       "        text-align: right;\n",
       "    }\n",
       "</style>\n",
       "<table border=\"1\" class=\"dataframe\">\n",
       "  <thead>\n",
       "    <tr style=\"text-align: right;\">\n",
       "      <th></th>\n",
       "      <th>bathrooms</th>\n",
       "      <th>latitude</th>\n",
       "      <th>listing_id</th>\n",
       "      <th>longitude</th>\n",
       "      <th>price</th>\n",
       "      <th>numphotos</th>\n",
       "    </tr>\n",
       "    <tr>\n",
       "      <th>bedrooms</th>\n",
       "      <th></th>\n",
       "      <th></th>\n",
       "      <th></th>\n",
       "      <th></th>\n",
       "      <th></th>\n",
       "      <th></th>\n",
       "    </tr>\n",
       "  </thead>\n",
       "  <tbody>\n",
       "    <tr>\n",
       "      <th>0</th>\n",
       "      <td>0.987579</td>\n",
       "      <td>40.746874</td>\n",
       "      <td>7.023057e+06</td>\n",
       "      <td>-73.970871</td>\n",
       "      <td>2458.417548</td>\n",
       "      <td>4.747886</td>\n",
       "    </tr>\n",
       "    <tr>\n",
       "      <th>1</th>\n",
       "      <td>1.015403</td>\n",
       "      <td>40.741300</td>\n",
       "      <td>7.022789e+06</td>\n",
       "      <td>-73.954727</td>\n",
       "      <td>3049.982025</td>\n",
       "      <td>5.338732</td>\n",
       "    </tr>\n",
       "    <tr>\n",
       "      <th>2</th>\n",
       "      <td>1.239506</td>\n",
       "      <td>40.736987</td>\n",
       "      <td>7.024414e+06</td>\n",
       "      <td>-73.945676</td>\n",
       "      <td>3711.253521</td>\n",
       "      <td>5.909210</td>\n",
       "    </tr>\n",
       "    <tr>\n",
       "      <th>3</th>\n",
       "      <td>1.499342</td>\n",
       "      <td>40.750144</td>\n",
       "      <td>7.026954e+06</td>\n",
       "      <td>-73.970372</td>\n",
       "      <td>4530.971650</td>\n",
       "      <td>6.367529</td>\n",
       "    </tr>\n",
       "    <tr>\n",
       "      <th>4</th>\n",
       "      <td>1.853283</td>\n",
       "      <td>40.751452</td>\n",
       "      <td>7.025677e+06</td>\n",
       "      <td>-73.971490</td>\n",
       "      <td>5567.099942</td>\n",
       "      <td>6.401511</td>\n",
       "    </tr>\n",
       "    <tr>\n",
       "      <th>5</th>\n",
       "      <td>2.301105</td>\n",
       "      <td>40.755673</td>\n",
       "      <td>7.020731e+06</td>\n",
       "      <td>-73.968161</td>\n",
       "      <td>7157.121547</td>\n",
       "      <td>7.585635</td>\n",
       "    </tr>\n",
       "    <tr>\n",
       "      <th>6</th>\n",
       "      <td>2.894737</td>\n",
       "      <td>39.701750</td>\n",
       "      <td>7.038876e+06</td>\n",
       "      <td>-72.021653</td>\n",
       "      <td>8042.078947</td>\n",
       "      <td>5.526316</td>\n",
       "    </tr>\n",
       "    <tr>\n",
       "      <th>7</th>\n",
       "      <td>3.000000</td>\n",
       "      <td>40.676100</td>\n",
       "      <td>6.828612e+06</td>\n",
       "      <td>-73.945900</td>\n",
       "      <td>6923.000000</td>\n",
       "      <td>12.000000</td>\n",
       "    </tr>\n",
       "    <tr>\n",
       "      <th>8</th>\n",
       "      <td>3.500000</td>\n",
       "      <td>40.682250</td>\n",
       "      <td>7.185848e+06</td>\n",
       "      <td>-73.966000</td>\n",
       "      <td>8247.500000</td>\n",
       "      <td>10.000000</td>\n",
       "    </tr>\n",
       "  </tbody>\n",
       "</table>\n",
       "</div>"
      ],
      "text/plain": [
       "          bathrooms   latitude    listing_id  longitude        price  \\\n",
       "bedrooms                                                               \n",
       "0          0.987579  40.746874  7.023057e+06 -73.970871  2458.417548   \n",
       "1          1.015403  40.741300  7.022789e+06 -73.954727  3049.982025   \n",
       "2          1.239506  40.736987  7.024414e+06 -73.945676  3711.253521   \n",
       "3          1.499342  40.750144  7.026954e+06 -73.970372  4530.971650   \n",
       "4          1.853283  40.751452  7.025677e+06 -73.971490  5567.099942   \n",
       "5          2.301105  40.755673  7.020731e+06 -73.968161  7157.121547   \n",
       "6          2.894737  39.701750  7.038876e+06 -72.021653  8042.078947   \n",
       "7          3.000000  40.676100  6.828612e+06 -73.945900  6923.000000   \n",
       "8          3.500000  40.682250  7.185848e+06 -73.966000  8247.500000   \n",
       "\n",
       "          numphotos  \n",
       "bedrooms             \n",
       "0          4.747886  \n",
       "1          5.338732  \n",
       "2          5.909210  \n",
       "3          6.367529  \n",
       "4          6.401511  \n",
       "5          7.585635  \n",
       "6          5.526316  \n",
       "7         12.000000  \n",
       "8         10.000000  "
      ]
     },
     "execution_count": 46,
     "metadata": {},
     "output_type": "execute_result"
    }
   ],
   "source": [
    "df_rent.groupby('bedrooms').mean()"
   ]
  },
  {
   "cell_type": "markdown",
   "metadata": {},
   "source": [
    "In this case, we can see that as the number of bedrooms increases, so do the number of bathrooms, the price, and also the number of photos. Interesting marketing information.\n",
    "\n",
    "To get just one of the columns,  use the index operator; note that the result of this operation is a data frame and so the index operator will give you a column or columns:"
   ]
  },
  {
   "cell_type": "code",
   "execution_count": 47,
   "metadata": {},
   "outputs": [
    {
     "data": {
      "text/plain": [
       "bedrooms\n",
       "0    2458.417548\n",
       "1    3049.982025\n",
       "2    3711.253521\n",
       "3    4530.971650\n",
       "4    5567.099942\n",
       "5    7157.121547\n",
       "6    8042.078947\n",
       "7    6923.000000\n",
       "8    8247.500000\n",
       "Name: price, dtype: float64"
      ]
     },
     "execution_count": 47,
     "metadata": {},
     "output_type": "execute_result"
    }
   ],
   "source": [
    "df_avg = df_rent.groupby('bedrooms').mean() # results in a data frame\n",
    "df_avg['price'] # What is the result type of this expression? Series"
   ]
  },
  {
   "cell_type": "code",
   "execution_count": 48,
   "metadata": {},
   "outputs": [
    {
     "data": {
      "text/html": [
       "<div>\n",
       "<style scoped>\n",
       "    .dataframe tbody tr th:only-of-type {\n",
       "        vertical-align: middle;\n",
       "    }\n",
       "\n",
       "    .dataframe tbody tr th {\n",
       "        vertical-align: top;\n",
       "    }\n",
       "\n",
       "    .dataframe thead th {\n",
       "        text-align: right;\n",
       "    }\n",
       "</style>\n",
       "<table border=\"1\" class=\"dataframe\">\n",
       "  <thead>\n",
       "    <tr style=\"text-align: right;\">\n",
       "      <th></th>\n",
       "      <th>bathrooms</th>\n",
       "      <th>price</th>\n",
       "    </tr>\n",
       "    <tr>\n",
       "      <th>bedrooms</th>\n",
       "      <th></th>\n",
       "      <th></th>\n",
       "    </tr>\n",
       "  </thead>\n",
       "  <tbody>\n",
       "    <tr>\n",
       "      <th>0</th>\n",
       "      <td>0.987579</td>\n",
       "      <td>2458.417548</td>\n",
       "    </tr>\n",
       "    <tr>\n",
       "      <th>1</th>\n",
       "      <td>1.015403</td>\n",
       "      <td>3049.982025</td>\n",
       "    </tr>\n",
       "    <tr>\n",
       "      <th>2</th>\n",
       "      <td>1.239506</td>\n",
       "      <td>3711.253521</td>\n",
       "    </tr>\n",
       "    <tr>\n",
       "      <th>3</th>\n",
       "      <td>1.499342</td>\n",
       "      <td>4530.971650</td>\n",
       "    </tr>\n",
       "    <tr>\n",
       "      <th>4</th>\n",
       "      <td>1.853283</td>\n",
       "      <td>5567.099942</td>\n",
       "    </tr>\n",
       "    <tr>\n",
       "      <th>5</th>\n",
       "      <td>2.301105</td>\n",
       "      <td>7157.121547</td>\n",
       "    </tr>\n",
       "    <tr>\n",
       "      <th>6</th>\n",
       "      <td>2.894737</td>\n",
       "      <td>8042.078947</td>\n",
       "    </tr>\n",
       "    <tr>\n",
       "      <th>7</th>\n",
       "      <td>3.000000</td>\n",
       "      <td>6923.000000</td>\n",
       "    </tr>\n",
       "    <tr>\n",
       "      <th>8</th>\n",
       "      <td>3.500000</td>\n",
       "      <td>8247.500000</td>\n",
       "    </tr>\n",
       "  </tbody>\n",
       "</table>\n",
       "</div>"
      ],
      "text/plain": [
       "          bathrooms        price\n",
       "bedrooms                        \n",
       "0          0.987579  2458.417548\n",
       "1          1.015403  3049.982025\n",
       "2          1.239506  3711.253521\n",
       "3          1.499342  4530.971650\n",
       "4          1.853283  5567.099942\n",
       "5          2.301105  7157.121547\n",
       "6          2.894737  8042.078947\n",
       "7          3.000000  6923.000000\n",
       "8          3.500000  8247.500000"
      ]
     },
     "execution_count": 48,
     "metadata": {},
     "output_type": "execute_result"
    }
   ],
   "source": [
    "df_avg[['bathrooms','price']]"
   ]
  },
  {
   "cell_type": "markdown",
   "metadata": {},
   "source": [
    "### Group by more than one column"
   ]
  },
  {
   "cell_type": "markdown",
   "metadata": {},
   "source": [
    "We can also group by more than one column. Let's say we'd like to know the count of apartments with various combinations of bedrooms and bathrooms. We can use the `count()` function on the grouped data frame then pull out an arbitrary column, since they will all have the same count values:"
   ]
  },
  {
   "cell_type": "code",
   "execution_count": 49,
   "metadata": {},
   "outputs": [
    {
     "data": {
      "text/plain": [
       "bedrooms  bathrooms\n",
       "0         0.0            154\n",
       "          1.0           9267\n",
       "          1.5              9\n",
       "          2.0             29\n",
       "          4.0              1\n",
       "1         0.0             73\n",
       "          1.0          15297\n",
       "          1.5            152\n",
       "          2.0            205\n",
       "          2.5              2\n",
       "Name: price, dtype: int64"
      ]
     },
     "execution_count": 49,
     "metadata": {},
     "output_type": "execute_result"
    }
   ],
   "source": [
    "df_counts = df_rent.groupby(['bedrooms','bathrooms']).count()\n",
    "df_counts['price'].head(10)"
   ]
  },
  {
   "cell_type": "markdown",
   "metadata": {},
   "source": [
    "Here's a trick for you that displays things in a nicer way. What we have is okay but it's displaying things like a series, not a data frame. If we pass in a list, albeit with a single column name, we can display results like a data frame:"
   ]
  },
  {
   "cell_type": "code",
   "execution_count": 50,
   "metadata": {},
   "outputs": [
    {
     "data": {
      "text/html": [
       "<div>\n",
       "<style scoped>\n",
       "    .dataframe tbody tr th:only-of-type {\n",
       "        vertical-align: middle;\n",
       "    }\n",
       "\n",
       "    .dataframe tbody tr th {\n",
       "        vertical-align: top;\n",
       "    }\n",
       "\n",
       "    .dataframe thead th {\n",
       "        text-align: right;\n",
       "    }\n",
       "</style>\n",
       "<table border=\"1\" class=\"dataframe\">\n",
       "  <thead>\n",
       "    <tr style=\"text-align: right;\">\n",
       "      <th></th>\n",
       "      <th></th>\n",
       "      <th>price</th>\n",
       "    </tr>\n",
       "    <tr>\n",
       "      <th>bedrooms</th>\n",
       "      <th>bathrooms</th>\n",
       "      <th></th>\n",
       "    </tr>\n",
       "  </thead>\n",
       "  <tbody>\n",
       "    <tr>\n",
       "      <th rowspan=\"5\" valign=\"top\">0</th>\n",
       "      <th>0.0</th>\n",
       "      <td>154</td>\n",
       "    </tr>\n",
       "    <tr>\n",
       "      <th>1.0</th>\n",
       "      <td>9267</td>\n",
       "    </tr>\n",
       "    <tr>\n",
       "      <th>1.5</th>\n",
       "      <td>9</td>\n",
       "    </tr>\n",
       "    <tr>\n",
       "      <th>2.0</th>\n",
       "      <td>29</td>\n",
       "    </tr>\n",
       "    <tr>\n",
       "      <th>4.0</th>\n",
       "      <td>1</td>\n",
       "    </tr>\n",
       "    <tr>\n",
       "      <th rowspan=\"5\" valign=\"top\">1</th>\n",
       "      <th>0.0</th>\n",
       "      <td>73</td>\n",
       "    </tr>\n",
       "    <tr>\n",
       "      <th>1.0</th>\n",
       "      <td>15297</td>\n",
       "    </tr>\n",
       "    <tr>\n",
       "      <th>1.5</th>\n",
       "      <td>152</td>\n",
       "    </tr>\n",
       "    <tr>\n",
       "      <th>2.0</th>\n",
       "      <td>205</td>\n",
       "    </tr>\n",
       "    <tr>\n",
       "      <th>2.5</th>\n",
       "      <td>2</td>\n",
       "    </tr>\n",
       "  </tbody>\n",
       "</table>\n",
       "</div>"
      ],
      "text/plain": [
       "                    price\n",
       "bedrooms bathrooms       \n",
       "0        0.0          154\n",
       "         1.0         9267\n",
       "         1.5            9\n",
       "         2.0           29\n",
       "         4.0            1\n",
       "1        0.0           73\n",
       "         1.0        15297\n",
       "         1.5          152\n",
       "         2.0          205\n",
       "         2.5            2"
      ]
     },
     "execution_count": 50,
     "metadata": {},
     "output_type": "execute_result"
    }
   ],
   "source": [
    "df_counts[['price']].head(10)"
   ]
  },
  {
   "cell_type": "markdown",
   "metadata": {},
   "source": [
    "What can we learn from this grouping? It seems to me that one bedroom one bath apartments are the most common followed by studios, one bathroom no bedrooms."
   ]
  },
  {
   "cell_type": "markdown",
   "metadata": {},
   "source": [
    "### Line plots for bedrooms and bathrooms versus price (more matplotlib options)"
   ]
  },
  {
   "cell_type": "markdown",
   "metadata": {},
   "source": [
    "Let's plot the relationship between bedrooms, bathrooms and price. We will use one curve for bedrooms and one for bathrooms, demonstrating how to do more than one curve on a single plot."
   ]
  },
  {
   "cell_type": "code",
   "execution_count": 51,
   "metadata": {},
   "outputs": [
    {
     "data": {
      "image/png": "[encoded data removed]",
      "text/plain": [
       "<Figure size 288x144 with 1 Axes>"
      ]
     },
     "metadata": {
      "image/png": {
       "height": 163,
       "width": 278
      },
      "needs_background": "light"
     },
     "output_type": "display_data"
    }
   ],
   "source": [
    "fig, ax = plt.subplots(figsize=(4,2))\n",
    "ax.plot(df_avg.index, df_avg['price'], '.-', lw=.5, markersize=3, label=\"beds\")\n",
    "ax.plot(df_avg['bathrooms'], df_avg['price'], '.-', lw=.5, markersize=3, label=\"baths\")\n",
    "ax.set_xlabel('Bedrooms and bathrooms count')\n",
    "ax.set_ylabel('Price \\$')\n",
    "ax.set_xticks(range(0,8+1)) # show all ticks\n",
    "\n",
    "ax.spines['left'].set_linewidth(.5)\n",
    "ax.spines['bottom'].set_linewidth(.5)\n",
    "ax.spines['right'].set_visible(False)\n",
    "ax.spines['top'].set_visible(False)\n",
    "ax.tick_params(axis='both', which='major', labelsize=8)\n",
    "\n",
    "ax.set_title(\"Bedrooms and bathrooms versus price\", fontsize=8)\n",
    "plt.legend(fontsize=8) # use \"label\" parameters from ax.plot()\n",
    "plt.show()"
   ]
  },
  {
   "cell_type": "markdown",
   "metadata": {},
   "source": [
    "This gives us an apparently clear picture of the relationship between bedrooms and price and also bathrooms and price."
   ]
  },
  {
   "cell_type": "markdown",
   "metadata": {},
   "source": [
    "### Question\n",
    "\n",
    "Or, does it? What's the problem with that assumption?"
   ]
  },
  {
   "cell_type": "markdown",
   "metadata": {},
   "source": [
    "### How to hold variables constant and consider price\n",
    "\n",
    "You often hear in medical journal papers about \"controlling for other factors\". Another version is to \"all other variables held constant, what is the effect of x on y?\" That actually gives us a hint about how to solve this problem. It's a technique called *stratification*. Let's look again at the data set grouped by the number of bedrooms. The average price is given for all apartments with the same number of bedrooms."
   ]
  },
  {
   "cell_type": "code",
   "execution_count": 52,
   "metadata": {},
   "outputs": [
    {
     "data": {
      "text/html": [
       "<div>\n",
       "<style scoped>\n",
       "    .dataframe tbody tr th:only-of-type {\n",
       "        vertical-align: middle;\n",
       "    }\n",
       "\n",
       "    .dataframe tbody tr th {\n",
       "        vertical-align: top;\n",
       "    }\n",
       "\n",
       "    .dataframe thead th {\n",
       "        text-align: right;\n",
       "    }\n",
       "</style>\n",
       "<table border=\"1\" class=\"dataframe\">\n",
       "  <thead>\n",
       "    <tr style=\"text-align: right;\">\n",
       "      <th></th>\n",
       "      <th>price</th>\n",
       "    </tr>\n",
       "    <tr>\n",
       "      <th>bedrooms</th>\n",
       "      <th></th>\n",
       "    </tr>\n",
       "  </thead>\n",
       "  <tbody>\n",
       "    <tr>\n",
       "      <th>0</th>\n",
       "      <td>2458.417548</td>\n",
       "    </tr>\n",
       "    <tr>\n",
       "      <th>1</th>\n",
       "      <td>3049.982025</td>\n",
       "    </tr>\n",
       "    <tr>\n",
       "      <th>2</th>\n",
       "      <td>3711.253521</td>\n",
       "    </tr>\n",
       "    <tr>\n",
       "      <th>3</th>\n",
       "      <td>4530.971650</td>\n",
       "    </tr>\n",
       "    <tr>\n",
       "      <th>4</th>\n",
       "      <td>5567.099942</td>\n",
       "    </tr>\n",
       "    <tr>\n",
       "      <th>5</th>\n",
       "      <td>7157.121547</td>\n",
       "    </tr>\n",
       "    <tr>\n",
       "      <th>6</th>\n",
       "      <td>8042.078947</td>\n",
       "    </tr>\n",
       "    <tr>\n",
       "      <th>7</th>\n",
       "      <td>6923.000000</td>\n",
       "    </tr>\n",
       "    <tr>\n",
       "      <th>8</th>\n",
       "      <td>8247.500000</td>\n",
       "    </tr>\n",
       "  </tbody>\n",
       "</table>\n",
       "</div>"
      ],
      "text/plain": [
       "                price\n",
       "bedrooms             \n",
       "0         2458.417548\n",
       "1         3049.982025\n",
       "2         3711.253521\n",
       "3         4530.971650\n",
       "4         5567.099942\n",
       "5         7157.121547\n",
       "6         8042.078947\n",
       "7         6923.000000\n",
       "8         8247.500000"
      ]
     },
     "execution_count": 52,
     "metadata": {},
     "output_type": "execute_result"
    }
   ],
   "source": [
    "df_avg = df_rent.groupby('bedrooms').mean()\n",
    "df_avg[['price']]"
   ]
  },
  {
   "cell_type": "markdown",
   "metadata": {},
   "source": [
    "It does appear that the average price of an apartment goes up as the number of bedrooms goes up, but the average can hide a lot of variation so let's look in more detail.\n",
    " \n",
    "Let's say we'd like to know what the isolated effect of the number of bedrooms is on price. The problem is it's confounded by the number of bathrooms. So, let's hold the number of bathrooms constant and, within each  group, such as three-bathroom apartments, let's look at the relationship between  bedrooms and price. Of course, we have to look at an apartment with multiple bathrooms, as it is unlikely that a one-bathroom apartment will have four bedrooms (but, it is New York City, so anything is possible.)"
   ]
  },
  {
   "cell_type": "code",
   "execution_count": 53,
   "metadata": {},
   "outputs": [
    {
     "data": {
      "text/html": [
       "<div>\n",
       "<style scoped>\n",
       "    .dataframe tbody tr th:only-of-type {\n",
       "        vertical-align: middle;\n",
       "    }\n",
       "\n",
       "    .dataframe tbody tr th {\n",
       "        vertical-align: top;\n",
       "    }\n",
       "\n",
       "    .dataframe thead th {\n",
       "        text-align: right;\n",
       "    }\n",
       "</style>\n",
       "<table border=\"1\" class=\"dataframe\">\n",
       "  <thead>\n",
       "    <tr style=\"text-align: right;\">\n",
       "      <th></th>\n",
       "      <th>bedrooms</th>\n",
       "      <th>price</th>\n",
       "    </tr>\n",
       "  </thead>\n",
       "  <tbody>\n",
       "    <tr>\n",
       "      <th>33326</th>\n",
       "      <td>1</td>\n",
       "      <td>4600</td>\n",
       "    </tr>\n",
       "    <tr>\n",
       "      <th>66087</th>\n",
       "      <td>1</td>\n",
       "      <td>4600</td>\n",
       "    </tr>\n",
       "    <tr>\n",
       "      <th>59994</th>\n",
       "      <td>1</td>\n",
       "      <td>4140</td>\n",
       "    </tr>\n",
       "    <tr>\n",
       "      <th>59661</th>\n",
       "      <td>1</td>\n",
       "      <td>1650</td>\n",
       "    </tr>\n",
       "    <tr>\n",
       "      <th>17300</th>\n",
       "      <td>1</td>\n",
       "      <td>4600</td>\n",
       "    </tr>\n",
       "    <tr>\n",
       "      <th>...</th>\n",
       "      <td>...</td>\n",
       "      <td>...</td>\n",
       "    </tr>\n",
       "    <tr>\n",
       "      <th>29897</th>\n",
       "      <td>6</td>\n",
       "      <td>7500</td>\n",
       "    </tr>\n",
       "    <tr>\n",
       "      <th>29865</th>\n",
       "      <td>6</td>\n",
       "      <td>9999</td>\n",
       "    </tr>\n",
       "    <tr>\n",
       "      <th>70564</th>\n",
       "      <td>6</td>\n",
       "      <td>7500</td>\n",
       "    </tr>\n",
       "    <tr>\n",
       "      <th>104687</th>\n",
       "      <td>7</td>\n",
       "      <td>6923</td>\n",
       "    </tr>\n",
       "    <tr>\n",
       "      <th>28722</th>\n",
       "      <td>8</td>\n",
       "      <td>9995</td>\n",
       "    </tr>\n",
       "  </tbody>\n",
       "</table>\n",
       "<p>402 rows × 2 columns</p>\n",
       "</div>"
      ],
      "text/plain": [
       "        bedrooms  price\n",
       "33326          1   4600\n",
       "66087          1   4600\n",
       "59994          1   4140\n",
       "59661          1   1650\n",
       "17300          1   4600\n",
       "...          ...    ...\n",
       "29897          6   7500\n",
       "29865          6   9999\n",
       "70564          6   7500\n",
       "104687         7   6923\n",
       "28722          8   9995\n",
       "\n",
       "[402 rows x 2 columns]"
      ]
     },
     "execution_count": 53,
     "metadata": {},
     "output_type": "execute_result"
    }
   ],
   "source": [
    "g_baths = df_rent.groupby('bathrooms')\n",
    "three_baths = g_baths.get_group(3)\n",
    "three_baths[['bedrooms','price']].sort_values('bedrooms')"
   ]
  },
  {
   "cell_type": "markdown",
   "metadata": {},
   "source": [
    "That's hard to read so let's plot"
   ]
  },
  {
   "cell_type": "code",
   "execution_count": 54,
   "metadata": {},
   "outputs": [
    {
     "data": {
      "image/png": "[encoded data removed]",
      "text/plain": [
       "<Figure size 216x144 with 1 Axes>"
      ]
     },
     "metadata": {
      "image/png": {
       "height": 153,
       "width": 234
      },
      "needs_background": "light"
     },
     "output_type": "display_data"
    }
   ],
   "source": [
    "fig, ax = plt.subplots(figsize=(3,2))\n",
    "ax.scatter(three_baths['bedrooms'],three_baths['price'],alpha=.15)\n",
    "ax.set_xlabel(\"bedrooms\")\n",
    "ax.set_ylabel(\"price\")\n",
    "plt.show()"
   ]
  },
  {
   "cell_type": "markdown",
   "metadata": {},
   "source": [
    "It's a bit hard to figure out where the biggest density lies given the smear of data, but there does seem to be a general upward trend that the more  bedrooms you have, the more expensive *at the 3-bath level*.  We can also consider the relationship for the apartments with other numbers of bathrooms."
   ]
  },
  {
   "cell_type": "markdown",
   "metadata": {},
   "source": [
    "### Question\n",
    "\n",
    "Should we be confident in the relationship between bedrooms and price shown in that plot?\n",
    "\n",
    "<br>\n",
    "<br>\n",
    "<br>\n",
    "<br>\n",
    "\n",
    "<font size=2>Well, there are many many other variables we are not controlling for, so I would say no, but...   It's probably covering most of the variation.</font>"
   ]
  },
  {
   "cell_type": "markdown",
   "metadata": {},
   "source": [
    "### Exercise 4\n",
    "\n",
    "1.  Group the data frame by `interest_level` and display the average value for the other columns.\n",
    "1.  Using `ax.bar(...)`, draw a bar chart of interest level versus price; price is the Y axis.  Hint: use `ax.bar(df_avg['interest_level'], df_avg['price'])` where `df_avg` is your grouped data frame."
   ]
  },
  {
   "cell_type": "markdown",
   "metadata": {},
   "source": [
    "## Quick machine learning regression check\n",
    "\n",
    "Just for fun, let's get a preview of how machine learning can help us."
   ]
  },
  {
   "cell_type": "code",
   "execution_count": 55,
   "metadata": {},
   "outputs": [],
   "source": [
    "from sklearn.linear_model import LinearRegression\n",
    "from sklearn.metrics import mean_absolute_error, mean_squared_error, r2_score\n",
    "\n",
    "X = df_cheap[['bedrooms','bathrooms']]#,'latitude','longitude']]\n",
    "y = df_cheap['price']"
   ]
  },
  {
   "cell_type": "code",
   "execution_count": 56,
   "metadata": {},
   "outputs": [
    {
     "name": "stdout",
     "output_type": "stream",
     "text": [
      "y = 416.8*bedrooms + 1568.9*bathrooms + 966.4\n",
      "R^2 0.4796698281431141 MAE 751.3176496416131\n"
     ]
    }
   ],
   "source": [
    "r = LinearRegression(normalize=True)\n",
    "r.fit(X, y)\n",
    "y_pred = r.predict(X)\n",
    "print(f'y = {r.coef_[0]:.1f}*bedrooms + {r.coef_[1]:.1f}*bathrooms + {r.intercept_:.1f}')\n",
    "print('R^2', r.score(X,y), \"MAE\", mean_absolute_error(y, y_pred))"
   ]
  },
  {
   "cell_type": "markdown",
   "metadata": {},
   "source": [
    "For unit increase in the number of bedrooms, the price is affected by 456 dollars and, similarly, a unit increase in the number of bathrooms affects the price by 751. Of course this is on average and totally ignores any confounding variables, of which there are many. This is the big hazard when using regression to look at the relative importance of variables.\n",
    "\n",
    "To show you how easy it is to use a different, and more powerful, model  let's use a random forest:"
   ]
  },
  {
   "cell_type": "code",
   "execution_count": 57,
   "metadata": {},
   "outputs": [
    {
     "name": "stdout",
     "output_type": "stream",
     "text": [
      "R^2 0.5144447953667692 MAE 729.380613515754\n"
     ]
    }
   ],
   "source": [
    "from sklearn.ensemble import RandomForestRegressor\n",
    "\n",
    "r = RandomForestRegressor(n_estimators=10)\n",
    "r.fit(X, y)\n",
    "y_pred = r.predict(X)\n",
    "print('R^2', r.score(X,y), \"MAE\", mean_absolute_error(y, y_pred))"
   ]
  },
  {
   "cell_type": "markdown",
   "metadata": {},
   "source": [
    "There is a small increase in accuracy, just by changing the model.\n",
    "\n",
    "We can use something called permutation importance to get an idea of how important the various features are to prediction. The results more or less jive with what we found with linear regression, that bathrooms are more important than bedrooms in terms of price (on average)."
   ]
  },
  {
   "cell_type": "code",
   "execution_count": 58,
   "metadata": {},
   "outputs": [
    {
     "data": {
      "text/plain": [
       "array([0.26833345, 0.55920302])"
      ]
     },
     "execution_count": 58,
     "metadata": {},
     "output_type": "execute_result"
    }
   ],
   "source": [
    "from sklearn.inspection import permutation_importance\n",
    "\n",
    "I = permutation_importance(r, X, y)\n",
    "I['importances_mean']"
   ]
  },
  {
   "cell_type": "markdown",
   "metadata": {},
   "source": [
    "## Analyzing text with wordclouds\n",
    "\n",
    "We can't do a huge amount of text analysis without more sophisticated techniques, but we can do a simple visualization trick that tells us about the most common words in the apartment descriptions.\n",
    "\n",
    "We begin by converting the description strings into lists of words, but first recall the following Python behavior:"
   ]
  },
  {
   "cell_type": "code",
   "execution_count": 59,
   "metadata": {},
   "outputs": [
    {
     "data": {
      "text/plain": [
       "'hi MSDS 593!'"
      ]
     },
     "execution_count": 59,
     "metadata": {},
     "output_type": "execute_result"
    }
   ],
   "source": [
    "\" hi MSDS 593!  \".strip() # strip whitespace from the left and right"
   ]
  },
  {
   "cell_type": "code",
   "execution_count": 60,
   "metadata": {},
   "outputs": [
    {
     "data": {
      "text/plain": [
       "['hi', 'MSDS', '593!']"
      ]
     },
     "execution_count": 60,
     "metadata": {},
     "output_type": "execute_result"
    }
   ],
   "source": [
    "\" hi MSDS 593!\".strip().split() # gets a list of words"
   ]
  },
  {
   "cell_type": "markdown",
   "metadata": {},
   "source": [
    "Turning to our data frame, there is a `str` accessor object that provides string-related functions, just as we did for categorical functions using accessor `cat`. In this case, we will use `df_rent['description'].str.`:"
   ]
  },
  {
   "cell_type": "code",
   "execution_count": 61,
   "metadata": {},
   "outputs": [
    {
     "name": "stdout",
     "output_type": "stream",
     "text": [
      "There are 28952192 chars\n"
     ]
    },
    {
     "data": {
      "text/plain": [
       "'spacious 1 bedroom 1 bathroom in williamsburg!apartment features:- renovated eat in kitchen with dis'"
      ]
     },
     "execution_count": 61,
     "metadata": {},
     "output_type": "execute_result"
    }
   ],
   "source": [
    "# First, normalize the text to be lowercase\n",
    "df_rent['description'] = df_rent['description'].str.strip().str.lower()\n",
    "\n",
    "# Now combine the strings from all rows in that column, separating them by space\n",
    "text = df_rent['description'].str.cat(sep=' ')\n",
    "print(f\"There are {len(text)} chars\")\n",
    "text[0:100]"
   ]
  },
  {
   "cell_type": "markdown",
   "metadata": {},
   "source": [
    "Now let's do a **word cloud**.\n",
    "\n",
    "We are going to need a new package so please install. (Recall that any command preceded by `!` in a notebook cell is executed in the terminal.)"
   ]
  },
  {
   "cell_type": "code",
   "execution_count": 67,
   "metadata": {},
   "outputs": [],
   "source": [
    "!pip install -q wordcloud\n",
    "from wordcloud import WordCloud"
   ]
  },
  {
   "cell_type": "code",
   "execution_count": 68,
   "metadata": {},
   "outputs": [
    {
     "data": {
      "image/png": "[encoded data removed]",
      "text/plain": [
       "<Figure size 432x288 with 1 Axes>"
      ]
     },
     "metadata": {
      "image/png": {
       "height": 223,
       "width": 349
      },
      "needs_background": "light"
     },
     "output_type": "display_data"
    }
   ],
   "source": [
    "wordcloud = WordCloud(background_color='white', width=800, height=500, max_words=40)\n",
    "wordcloud.generate(text)\n",
    "plt.imshow(wordcloud)\n",
    "plt.axis(\"off\")\n",
    "plt.show()"
   ]
  },
  {
   "cell_type": "markdown",
   "metadata": {},
   "source": [
    "It looks like there are some strange things in there which we should get rid of using `stopwords` parameter:"
   ]
  },
  {
   "cell_type": "code",
   "execution_count": null,
   "metadata": {},
   "outputs": [],
   "source": [
    "stopwords = ['br','kagglemanager','website_redacted','the','in','to']\n",
    "wordcloud = WordCloud(background_color='white', stopwords=stopwords,\n",
    "                      width=800, height=500, max_words=40)\n",
    "wordcloud.generate(text)\n",
    "plt.imshow(wordcloud)\n",
    "plt.axis(\"off\")\n",
    "plt.show()"
   ]
  },
  {
   "cell_type": "markdown",
   "metadata": {},
   "source": [
    "### Exercise 5\n",
    "\n",
    "1.  Repeat the word cloud exercise yourself for the description\n",
    "1.  Try to do the same thing for the features column; the difference here is that the features column elements are list objects not strings so you will need to use `df_rent['features'].str.join(' ')` and save that as another column or overwrite the features column. Then you can do the same `.str.cat(sep=' ')` operation followed by the word cloud."
   ]
  },
  {
   "cell_type": "markdown",
   "metadata": {},
   "source": [
    "### Exercise 6\n",
    "\n",
    "Make a list of all of the key operations we performed in this notebook. For example, you can give an example of each and then a brief description. The goal here is to get these commands into your brain and the only way to do that is repetition. If you cut-and-paste, you will not learn very quickly at all!"
   ]
  }
 ],
 "metadata": {
  "kernelspec": {
   "display_name": "Python 3",
   "language": "python",
   "name": "python3"
  },
  "language_info": {
   "codemirror_mode": {
    "name": "ipython",
    "version": 3
   },
   "file_extension": ".py",
   "mimetype": "text/x-python",
   "name": "python",
   "nbconvert_exporter": "python",
   "pygments_lexer": "ipython3",
   "version": "3.8.3"
  }
 },
 "nbformat": 4,
 "nbformat_minor": 4
}
