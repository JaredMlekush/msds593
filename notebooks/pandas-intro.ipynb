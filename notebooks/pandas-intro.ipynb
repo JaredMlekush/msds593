{
 "cells": [
  {
   "cell_type": "markdown",
   "metadata": {},
   "source": [
    "# Introduction to pandas\n",
    "\n",
    "*I'd like to thank Nick Ross who graciously allowed me to derive pieces of this notebook and others from his amazing SQL/pandas course notes.*\n",
    "\n",
    "Pandas has two primary entities that you must be careful to distinguish to avoid getting confused:\n",
    "\n",
    "* `DataFrame` is 2D tabular data structure; it has both rows and columns\n",
    "* `Series` is a 1D array (colume) data structure\n",
    "\n",
    "While a series looks like  a column from a data frame, they are really separate kinds of objects with different sets of functions that you can apply to them.\n",
    "\n",
    "Pandas lets you do a lot of querying, merging, and aggregation just like a database, but these dataframes only exist in memory. That means:\n",
    "\n",
    "* you can only operate on data that fit in memory, as opposed to the disk\n",
    "* dataframes you construct disappear when you're Python program terminates\n",
    "* pandas is not suitable for use on problems requiring multiple computers\n",
    "\n",
    "Pandas dataframes will be your primary data structure until machine learning, when we discuss building more complicated data structures such as decision trees."
   ]
  },
  {
   "cell_type": "markdown",
   "metadata": {},
   "source": [
    "## How to start using pandas\n",
    "\n",
    "First, we have to tell Python that we want to use pandas. I also tell it to import numpy, because I often want to use both of these libraries in conjunction with each other:"
   ]
  },
  {
   "cell_type": "code",
   "execution_count": 4,
   "metadata": {},
   "outputs": [],
   "source": [
    "import numpy as np\n",
    "import pandas as pd"
   ]
  },
  {
   "cell_type": "markdown",
   "metadata": {},
   "source": [
    "Let's load some data from the `data` subdirectory under this `notebooks` directory.  You can download this file onto your own computer wherever you want, but make sure that you specify the appropriate file name when loading it with pandas."
   ]
  },
  {
   "cell_type": "code",
   "execution_count": 5,
   "metadata": {},
   "outputs": [
    {
     "name": "stdout",
     "output_type": "stream",
     "text": [
      "cars.csv\n"
     ]
    }
   ],
   "source": [
    "!ls data  # Anything after ! char is sent to Terminal for execution"
   ]
  },
  {
   "cell_type": "markdown",
   "metadata": {},
   "source": [
    "In a spreadsheet, the start of that file looks like:\n",
    "\n",
    "<img src=\"images/excel.png\" width=\"250\">"
   ]
  },
  {
   "cell_type": "code",
   "execution_count": 6,
   "metadata": {},
   "outputs": [
    {
     "data": {
      "text/html": [
       "<div>\n",
       "<style scoped>\n",
       "    .dataframe tbody tr th:only-of-type {\n",
       "        vertical-align: middle;\n",
       "    }\n",
       "\n",
       "    .dataframe tbody tr th {\n",
       "        vertical-align: top;\n",
       "    }\n",
       "\n",
       "    .dataframe thead th {\n",
       "        text-align: right;\n",
       "    }\n",
       "</style>\n",
       "<table border=\"1\" class=\"dataframe\">\n",
       "  <thead>\n",
       "    <tr style=\"text-align: right;\">\n",
       "      <th></th>\n",
       "      <th>MPG</th>\n",
       "      <th>CYL</th>\n",
       "      <th>ENG</th>\n",
       "      <th>WGT</th>\n",
       "    </tr>\n",
       "  </thead>\n",
       "  <tbody>\n",
       "    <tr>\n",
       "      <th>0</th>\n",
       "      <td>18.0</td>\n",
       "      <td>8</td>\n",
       "      <td>307.0</td>\n",
       "      <td>3504</td>\n",
       "    </tr>\n",
       "    <tr>\n",
       "      <th>1</th>\n",
       "      <td>15.0</td>\n",
       "      <td>8</td>\n",
       "      <td>350.0</td>\n",
       "      <td>3693</td>\n",
       "    </tr>\n",
       "    <tr>\n",
       "      <th>2</th>\n",
       "      <td>18.0</td>\n",
       "      <td>8</td>\n",
       "      <td>318.0</td>\n",
       "      <td>3436</td>\n",
       "    </tr>\n",
       "    <tr>\n",
       "      <th>3</th>\n",
       "      <td>16.0</td>\n",
       "      <td>8</td>\n",
       "      <td>304.0</td>\n",
       "      <td>3433</td>\n",
       "    </tr>\n",
       "    <tr>\n",
       "      <th>4</th>\n",
       "      <td>17.0</td>\n",
       "      <td>8</td>\n",
       "      <td>302.0</td>\n",
       "      <td>3449</td>\n",
       "    </tr>\n",
       "  </tbody>\n",
       "</table>\n",
       "</div>"
      ],
      "text/plain": [
       "    MPG  CYL    ENG   WGT\n",
       "0  18.0    8  307.0  3504\n",
       "1  15.0    8  350.0  3693\n",
       "2  18.0    8  318.0  3436\n",
       "3  16.0    8  304.0  3433\n",
       "4  17.0    8  302.0  3449"
      ]
     },
     "execution_count": 6,
     "metadata": {},
     "output_type": "execute_result"
    }
   ],
   "source": [
    "df_cars = pd.read_csv(\"data/cars.csv\")\n",
    "df_cars.head()"
   ]
  },
  {
   "cell_type": "markdown",
   "metadata": {},
   "source": [
    "### Exercise\n",
    "\n",
    "0. Launch `jupyter lab` and create a notebook for the exercises in today's class. I like to create a notebooks directory associated with my topic or class and then launch juypter from the terminal in that directory so that I know where files are being created.\n",
    "1. Download the `cars.csv` file and save it either in the same directory as your notebook or in a `data` subdirectory.  You have to get use to being very organized and paying attention to the structure of your directories when referring to files on the disk.\n",
    "2. Import pandas and read in the `cars.csv` file into a data frame called `df_cars`, just to be consistent with your fellow students and the instructor.\n",
    "3. Print the first few rows of that data frame."
   ]
  },
  {
   "cell_type": "markdown",
   "metadata": {},
   "source": [
    "## Element data types\n",
    "\n",
    "You can learn more about all of the [pandas data types](https://numpy.org/doc/stable/user/basics.types.html), but the key idea is that we must distinguish between integers, floating-point values (reals), boolean, strings, and datetime.\n",
    "\n",
    "|Description| Python | Pandas|\n",
    "| ----------- | --------- | ---- |\n",
    "|Integers| `int`|`int64`|\n",
    "|Text| `str`| `object`|\n",
    "|Double/Float| `float`|`float64` |\n",
    "|Boolean (T/F)| `bool`| `bool`|\n",
    "|Date/Time| `datetime` | `datetime64`|\n",
    "|Categorical| n/a | `category` (held internally as an integer)|\n",
    "\n",
    "The reason that we emphasize knowing types is that these objects behave differently and respond to a different set of functions."
   ]
  },
  {
   "cell_type": "code",
   "execution_count": 11,
   "metadata": {},
   "outputs": [
    {
     "data": {
      "text/plain": [
       "(list, numpy.ndarray)"
      ]
     },
     "execution_count": 11,
     "metadata": {},
     "output_type": "execute_result"
    }
   ],
   "source": [
    "type([1,2,3]), type(np.array([1,2,3]))"
   ]
  },
  {
   "cell_type": "code",
   "execution_count": 18,
   "metadata": {},
   "outputs": [
    {
     "data": {
      "text/plain": [
       "(pandas.core.frame.DataFrame, pandas.core.series.Series)"
      ]
     },
     "execution_count": 18,
     "metadata": {},
     "output_type": "execute_result"
    }
   ],
   "source": [
    "type(df_cars), type(df_cars['MPG'])"
   ]
  },
  {
   "cell_type": "code",
   "execution_count": 20,
   "metadata": {},
   "outputs": [
    {
     "data": {
      "text/plain": [
       "(float, dtype('float64'))"
      ]
     },
     "execution_count": 20,
     "metadata": {},
     "output_type": "execute_result"
    }
   ],
   "source": [
    "type(3.14159), df_cars['MPG'].dtype"
   ]
  },
  {
   "cell_type": "markdown",
   "metadata": {},
   "source": [
    "### Reading in nonnumeric data\n",
    "\n",
    "Let's look at some public domain data from [Kaggle](https://www.kaggle.com/fivethirtyeight/uber-pickups-in-new-york-city). (The license says public domain so it should be okay to host the 100 rows in this repository for educational purposes.)  The goal is to look at date-related, string and  [categorical data types](https://pandas.pydata.org/pandas-docs/stable/user_guide/categorical.html)."
   ]
  },
  {
   "cell_type": "code",
   "execution_count": 31,
   "metadata": {},
   "outputs": [
    {
     "data": {
      "text/html": [
       "<div>\n",
       "<style scoped>\n",
       "    .dataframe tbody tr th:only-of-type {\n",
       "        vertical-align: middle;\n",
       "    }\n",
       "\n",
       "    .dataframe tbody tr th {\n",
       "        vertical-align: top;\n",
       "    }\n",
       "\n",
       "    .dataframe thead th {\n",
       "        text-align: right;\n",
       "    }\n",
       "</style>\n",
       "<table border=\"1\" class=\"dataframe\">\n",
       "  <thead>\n",
       "    <tr style=\"text-align: right;\">\n",
       "      <th></th>\n",
       "      <th>Date</th>\n",
       "      <th>Time</th>\n",
       "      <th>PU_Address</th>\n",
       "      <th>DO_Address</th>\n",
       "      <th>Routing Details</th>\n",
       "      <th>PU_Address.1</th>\n",
       "      <th>Status</th>\n",
       "    </tr>\n",
       "  </thead>\n",
       "  <tbody>\n",
       "    <tr>\n",
       "      <th>0</th>\n",
       "      <td>07/01/2014</td>\n",
       "      <td>07:15 AM</td>\n",
       "      <td>Brooklyn Museum, 200 Eastern Pkwy., BK NY;</td>\n",
       "      <td>1 Brookdale Plaza, BK NY;</td>\n",
       "      <td>PU: Brooklyn Museum, 200 Eastern Pkwy., BK NY;...</td>\n",
       "      <td>Brooklyn Museum, 200 Eastern Pkwy., BK NY; DO:...</td>\n",
       "      <td>Cancelled</td>\n",
       "    </tr>\n",
       "    <tr>\n",
       "      <th>1</th>\n",
       "      <td>07/01/2014</td>\n",
       "      <td>07:30 AM</td>\n",
       "      <td>33 Robert Dr., Short Hills NJ;</td>\n",
       "      <td>John F Kennedy International Airport, vitona A...</td>\n",
       "      <td>PU: 33 Robert Dr., Short Hills NJ; DO: John F ...</td>\n",
       "      <td>33 Robert Dr., Short Hills NJ; DO: John F Kenn...</td>\n",
       "      <td>Arrived</td>\n",
       "    </tr>\n",
       "    <tr>\n",
       "      <th>2</th>\n",
       "      <td>07/01/2014</td>\n",
       "      <td>08:00 AM</td>\n",
       "      <td>60 Glenmore Ave., BK NY;</td>\n",
       "      <td>2171 Nostrand Ave., BK NY;</td>\n",
       "      <td>PU: 60 Glenmore Ave., BK NY; DO: 2171 Nostrand...</td>\n",
       "      <td>60 Glenmore Ave., BK NY; DO: 2171 Nostrand Ave...</td>\n",
       "      <td>Assigned</td>\n",
       "    </tr>\n",
       "  </tbody>\n",
       "</table>\n",
       "</div>"
      ],
      "text/plain": [
       "         Date      Time                                  PU_Address  \\\n",
       "0  07/01/2014  07:15 AM  Brooklyn Museum, 200 Eastern Pkwy., BK NY;   \n",
       "1  07/01/2014  07:30 AM              33 Robert Dr., Short Hills NJ;   \n",
       "2  07/01/2014  08:00 AM                    60 Glenmore Ave., BK NY;   \n",
       "\n",
       "                                          DO_Address  \\\n",
       "0                         1 Brookdale Plaza, BK NY;    \n",
       "1  John F Kennedy International Airport, vitona A...   \n",
       "2                        2171 Nostrand Ave., BK NY;    \n",
       "\n",
       "                                     Routing Details  \\\n",
       "0  PU: Brooklyn Museum, 200 Eastern Pkwy., BK NY;...   \n",
       "1  PU: 33 Robert Dr., Short Hills NJ; DO: John F ...   \n",
       "2  PU: 60 Glenmore Ave., BK NY; DO: 2171 Nostrand...   \n",
       "\n",
       "                                        PU_Address.1     Status  \n",
       "0  Brooklyn Museum, 200 Eastern Pkwy., BK NY; DO:...  Cancelled  \n",
       "1  33 Robert Dr., Short Hills NJ; DO: John F Kenn...    Arrived  \n",
       "2  60 Glenmore Ave., BK NY; DO: 2171 Nostrand Ave...   Assigned  "
      ]
     },
     "execution_count": 31,
     "metadata": {},
     "output_type": "execute_result"
    }
   ],
   "source": [
    "df_uber = pd.read_csv(\"data/kaggle-uber-other-federal.csv\")\n",
    "df_uber.head(3)"
   ]
  },
  {
   "cell_type": "code",
   "execution_count": 22,
   "metadata": {},
   "outputs": [
    {
     "name": "stdout",
     "output_type": "stream",
     "text": [
      "<class 'pandas.core.frame.DataFrame'>\n",
      "RangeIndex: 99 entries, 0 to 98\n",
      "Data columns (total 7 columns):\n",
      " #   Column           Non-Null Count  Dtype \n",
      "---  ------           --------------  ----- \n",
      " 0   Date             99 non-null     object\n",
      " 1   Time             99 non-null     object\n",
      " 2   PU_Address       99 non-null     object\n",
      " 3   DO_Address       98 non-null     object\n",
      " 4   Routing Details  99 non-null     object\n",
      " 5   PU_Address.1     99 non-null     object\n",
      " 6   Status           99 non-null     object\n",
      "dtypes: object(7)\n",
      "memory usage: 5.5+ KB\n"
     ]
    }
   ],
   "source": [
    "df_uber.info()"
   ]
  },
  {
   "cell_type": "markdown",
   "metadata": {},
   "source": [
    "Ooops.  It read everything in as a string (`object`). Let's try this again being more specific:"
   ]
  },
  {
   "cell_type": "code",
   "execution_count": 28,
   "metadata": {},
   "outputs": [
    {
     "name": "stdout",
     "output_type": "stream",
     "text": [
      "<class 'pandas.core.frame.DataFrame'>\n",
      "RangeIndex: 99 entries, 0 to 98\n",
      "Data columns (total 7 columns):\n",
      " #   Column           Non-Null Count  Dtype         \n",
      "---  ------           --------------  -----         \n",
      " 0   Date             99 non-null     datetime64[ns]\n",
      " 1   Time             99 non-null     datetime64[ns]\n",
      " 2   PU_Address       99 non-null     object        \n",
      " 3   DO_Address       98 non-null     object        \n",
      " 4   Routing Details  99 non-null     object        \n",
      " 5   PU_Address.1     99 non-null     object        \n",
      " 6   Status           99 non-null     category      \n",
      "dtypes: category(1), datetime64[ns](2), object(4)\n",
      "memory usage: 5.0+ KB\n"
     ]
    }
   ],
   "source": [
    "df_uber = pd.read_csv(\"data/kaggle-uber-other-federal.csv\",\n",
    "                      parse_dates=['Date','Time'],\n",
    "                      dtype={'Status':'category'})\n",
    "df_uber.info()"
   ]
  },
  {
   "cell_type": "code",
   "execution_count": 30,
   "metadata": {},
   "outputs": [
    {
     "data": {
      "text/html": [
       "<div>\n",
       "<style scoped>\n",
       "    .dataframe tbody tr th:only-of-type {\n",
       "        vertical-align: middle;\n",
       "    }\n",
       "\n",
       "    .dataframe tbody tr th {\n",
       "        vertical-align: top;\n",
       "    }\n",
       "\n",
       "    .dataframe thead th {\n",
       "        text-align: right;\n",
       "    }\n",
       "</style>\n",
       "<table border=\"1\" class=\"dataframe\">\n",
       "  <thead>\n",
       "    <tr style=\"text-align: right;\">\n",
       "      <th></th>\n",
       "      <th>Date</th>\n",
       "      <th>Time</th>\n",
       "      <th>PU_Address</th>\n",
       "      <th>DO_Address</th>\n",
       "      <th>Routing Details</th>\n",
       "      <th>PU_Address.1</th>\n",
       "      <th>Status</th>\n",
       "    </tr>\n",
       "  </thead>\n",
       "  <tbody>\n",
       "    <tr>\n",
       "      <th>0</th>\n",
       "      <td>2014-07-01</td>\n",
       "      <td>2020-08-15 07:15:00</td>\n",
       "      <td>Brooklyn Museum, 200 Eastern Pkwy., BK NY;</td>\n",
       "      <td>1 Brookdale Plaza, BK NY;</td>\n",
       "      <td>PU: Brooklyn Museum, 200 Eastern Pkwy., BK NY;...</td>\n",
       "      <td>Brooklyn Museum, 200 Eastern Pkwy., BK NY; DO:...</td>\n",
       "      <td>Cancelled</td>\n",
       "    </tr>\n",
       "    <tr>\n",
       "      <th>1</th>\n",
       "      <td>2014-07-01</td>\n",
       "      <td>2020-08-15 07:30:00</td>\n",
       "      <td>33 Robert Dr., Short Hills NJ;</td>\n",
       "      <td>John F Kennedy International Airport, vitona A...</td>\n",
       "      <td>PU: 33 Robert Dr., Short Hills NJ; DO: John F ...</td>\n",
       "      <td>33 Robert Dr., Short Hills NJ; DO: John F Kenn...</td>\n",
       "      <td>Arrived</td>\n",
       "    </tr>\n",
       "  </tbody>\n",
       "</table>\n",
       "</div>"
      ],
      "text/plain": [
       "        Date                Time                                  PU_Address  \\\n",
       "0 2014-07-01 2020-08-15 07:15:00  Brooklyn Museum, 200 Eastern Pkwy., BK NY;   \n",
       "1 2014-07-01 2020-08-15 07:30:00              33 Robert Dr., Short Hills NJ;   \n",
       "\n",
       "                                          DO_Address  \\\n",
       "0                         1 Brookdale Plaza, BK NY;    \n",
       "1  John F Kennedy International Airport, vitona A...   \n",
       "\n",
       "                                     Routing Details  \\\n",
       "0  PU: Brooklyn Museum, 200 Eastern Pkwy., BK NY;...   \n",
       "1  PU: 33 Robert Dr., Short Hills NJ; DO: John F ...   \n",
       "\n",
       "                                        PU_Address.1     Status  \n",
       "0  Brooklyn Museum, 200 Eastern Pkwy., BK NY; DO:...  Cancelled  \n",
       "1  33 Robert Dr., Short Hills NJ; DO: John F Kenn...    Arrived  "
      ]
     },
     "execution_count": 30,
     "metadata": {},
     "output_type": "execute_result"
    }
   ],
   "source": [
    "df_uber.head(2)"
   ]
  },
  {
   "cell_type": "markdown",
   "metadata": {},
   "source": [
    "The bold numbers on the left are the index, and they don't have to be integers or even in any kind of order."
   ]
  }
 ],
 "metadata": {
  "kernelspec": {
   "display_name": "Python 3",
   "language": "python",
   "name": "python3"
  },
  "language_info": {
   "codemirror_mode": {
    "name": "ipython",
    "version": 3
   },
   "file_extension": ".py",
   "mimetype": "text/x-python",
   "name": "python",
   "nbconvert_exporter": "python",
   "pygments_lexer": "ipython3",
   "version": "3.8.3"
  },
  "toc-autonumbering": false,
  "toc-showcode": false,
  "toc-showmarkdowntxt": false,
  "toc-showtags": false
 },
 "nbformat": 4,
 "nbformat_minor": 4
}
