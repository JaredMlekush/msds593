{
 "cells": [
  {
   "cell_type": "markdown",
   "metadata": {},
   "source": [
    "# Introduction to pandas\n",
    "\n",
    "*I'd like to thank Nick Ross who graciously allowed me to derive pieces of this notebook and others from his amazing SQL/pandas course notes.*\n",
    "\n",
    "Pandas has two primary entities that you must be careful to distinguish to avoid getting confused:\n",
    "\n",
    "* `DataFrame` is 2D tabular data structure; it has both rows and columns\n",
    "* `Series` is a 1D array (colume) data structure\n",
    "\n",
    "While a series looks like  a column from a data frame, they are really separate kinds of objects with different sets of functions that you can apply to them.\n",
    "\n",
    "Pandas lets you do a lot of querying, merging, and aggregation just like a database, but these dataframes only exist in memory. That means:\n",
    "\n",
    "* you can only operate on data that fit in memory, as opposed to the disk\n",
    "* dataframes you construct disappear when you're Python program terminates\n",
    "* pandas is not suitable for use on problems requiring multiple computers\n",
    "\n",
    "Pandas dataframes will be your primary data structure until machine learning, when we discuss building more complicated data structures such as decision trees."
   ]
  },
  {
   "cell_type": "markdown",
   "metadata": {},
   "source": [
    "## How to start using pandas\n",
    "\n",
    "First, we have to tell Python that we want to use pandas. I also tell it to import numpy, because I often want to use both of these libraries in conjunction with each other:"
   ]
  },
  {
   "cell_type": "code",
   "execution_count": 1,
   "metadata": {},
   "outputs": [],
   "source": [
    "import numpy as np\n",
    "import pandas as pd"
   ]
  },
  {
   "cell_type": "markdown",
   "metadata": {},
   "source": [
    "Let's load some data from the `data` subdirectory under this `notebooks` directory.  You can download this file onto your own computer wherever you want, but make sure that you specify the appropriate file name when loading it with pandas."
   ]
  },
  {
   "cell_type": "code",
   "execution_count": 3,
   "metadata": {},
   "outputs": [
    {
     "name": "stdout",
     "output_type": "stream",
     "text": [
      "cars.csv\n"
     ]
    }
   ],
   "source": [
    "!ls data  # Anything after ! char is sent to Terminal for execution"
   ]
  },
  {
   "cell_type": "markdown",
   "metadata": {},
   "source": [
    "In a spreadsheet, the start of that file looks like:\n",
    "\n",
    "<img src=\"images/excel.png\" width=\"250\">"
   ]
  },
  {
   "cell_type": "code",
   "execution_count": 3,
   "metadata": {},
   "outputs": [
    {
     "data": {
      "text/html": [
       "<div>\n",
       "<style scoped>\n",
       "    .dataframe tbody tr th:only-of-type {\n",
       "        vertical-align: middle;\n",
       "    }\n",
       "\n",
       "    .dataframe tbody tr th {\n",
       "        vertical-align: top;\n",
       "    }\n",
       "\n",
       "    .dataframe thead th {\n",
       "        text-align: right;\n",
       "    }\n",
       "</style>\n",
       "<table border=\"1\" class=\"dataframe\">\n",
       "  <thead>\n",
       "    <tr style=\"text-align: right;\">\n",
       "      <th></th>\n",
       "      <th>MPG</th>\n",
       "      <th>CYL</th>\n",
       "      <th>ENG</th>\n",
       "      <th>WGT</th>\n",
       "    </tr>\n",
       "  </thead>\n",
       "  <tbody>\n",
       "    <tr>\n",
       "      <th>0</th>\n",
       "      <td>18.0</td>\n",
       "      <td>8</td>\n",
       "      <td>307.0</td>\n",
       "      <td>3504</td>\n",
       "    </tr>\n",
       "    <tr>\n",
       "      <th>1</th>\n",
       "      <td>15.0</td>\n",
       "      <td>8</td>\n",
       "      <td>350.0</td>\n",
       "      <td>3693</td>\n",
       "    </tr>\n",
       "    <tr>\n",
       "      <th>2</th>\n",
       "      <td>18.0</td>\n",
       "      <td>8</td>\n",
       "      <td>318.0</td>\n",
       "      <td>3436</td>\n",
       "    </tr>\n",
       "    <tr>\n",
       "      <th>3</th>\n",
       "      <td>16.0</td>\n",
       "      <td>8</td>\n",
       "      <td>304.0</td>\n",
       "      <td>3433</td>\n",
       "    </tr>\n",
       "    <tr>\n",
       "      <th>4</th>\n",
       "      <td>17.0</td>\n",
       "      <td>8</td>\n",
       "      <td>302.0</td>\n",
       "      <td>3449</td>\n",
       "    </tr>\n",
       "  </tbody>\n",
       "</table>\n",
       "</div>"
      ],
      "text/plain": [
       "    MPG  CYL    ENG   WGT\n",
       "0  18.0    8  307.0  3504\n",
       "1  15.0    8  350.0  3693\n",
       "2  18.0    8  318.0  3436\n",
       "3  16.0    8  304.0  3433\n",
       "4  17.0    8  302.0  3449"
      ]
     },
     "execution_count": 3,
     "metadata": {},
     "output_type": "execute_result"
    }
   ],
   "source": [
    "df_cars = pd.read_csv(\"data/cars.csv\")\n",
    "df_cars.head()"
   ]
  },
  {
   "cell_type": "markdown",
   "metadata": {},
   "source": [
    "### Exercise\n",
    "\n",
    "0. Launch `jupyter lab` and create a notebook for the exercises in today's class. I like to create a notebooks directory associated with my topic or class and then launch juypter from the terminal in that directory so that I know where files are being created.\n",
    "1. Download the `cars.csv` file and save it either in the same directory as your notebook or in a `data` subdirectory.  You have to get use to being very organized and paying attention to the structure of your directories when referring to files on the disk.\n",
    "2. Import pandas and read in the `cars.csv` file into a data frame called `df_cars`, just to be consistent with your fellow students and the instructor.\n",
    "3. Print the first few rows of that data frame."
   ]
  }
 ],
 "metadata": {
  "kernelspec": {
   "display_name": "Python 3",
   "language": "python",
   "name": "python3"
  },
  "language_info": {
   "codemirror_mode": {
    "name": "ipython",
    "version": 3
   },
   "file_extension": ".py",
   "mimetype": "text/x-python",
   "name": "python",
   "nbconvert_exporter": "python",
   "pygments_lexer": "ipython3",
   "version": "3.8.3"
  },
  "toc-autonumbering": false,
  "toc-showcode": false,
  "toc-showmarkdowntxt": false,
  "toc-showtags": false
 },
 "nbformat": 4,
 "nbformat_minor": 4
}
